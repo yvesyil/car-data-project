{
 "cells": [
  {
   "cell_type": "code",
   "execution_count": 1,
   "metadata": {},
   "outputs": [],
   "source": [
    "import pandas as pd\n",
    "import os\n",
    "import plotly.express as px\n",
    "import numpy as np"
   ]
  },
  {
   "cell_type": "code",
   "execution_count": 2,
   "metadata": {},
   "outputs": [
    {
     "name": "stdout",
     "output_type": "stream",
     "text": [
      "Python 3.10.8\n"
     ]
    }
   ],
   "source": [
    "# select the correct python binary\n",
    "python = 'python3'\n",
    "if os.system('python3 --version') != 0:\n",
    "    python = 'python'\n",
    "\n",
    "n = 50\n",
    "# run scraper for n number of pages\n",
    "!{python} scraper.py {n}"
   ]
  },
  {
   "cell_type": "code",
   "execution_count": 3,
   "metadata": {},
   "outputs": [
    {
     "data": {
      "text/html": [
       "<div>\n",
       "<style scoped>\n",
       "    .dataframe tbody tr th:only-of-type {\n",
       "        vertical-align: middle;\n",
       "    }\n",
       "\n",
       "    .dataframe tbody tr th {\n",
       "        vertical-align: top;\n",
       "    }\n",
       "\n",
       "    .dataframe thead th {\n",
       "        text-align: right;\n",
       "    }\n",
       "</style>\n",
       "<table border=\"1\" class=\"dataframe\">\n",
       "  <thead>\n",
       "    <tr style=\"text-align: right;\">\n",
       "      <th></th>\n",
       "      <th>Title:</th>\n",
       "      <th>Description:</th>\n",
       "      <th>Price:</th>\n",
       "      <th>Odometer:</th>\n",
       "      <th>Fuel Type:</th>\n",
       "      <th>Colour:</th>\n",
       "      <th>Engine Size:</th>\n",
       "      <th>Transmission:</th>\n",
       "      <th>Body Type:</th>\n",
       "      <th>Owners:</th>\n",
       "      <th>Doors:</th>\n",
       "      <th>Tax Expiry:</th>\n",
       "      <th>NCT Expiry:</th>\n",
       "      <th>Dealer:</th>\n",
       "      <th>Address:</th>\n",
       "      <th>Phone:</th>\n",
       "      <th>Franchise:</th>\n",
       "      <th>Website:</th>\n",
       "    </tr>\n",
       "  </thead>\n",
       "  <tbody>\n",
       "    <tr>\n",
       "      <th>0</th>\n",
       "      <td>VOLKSWAGEN PASSAT</td>\n",
       "      <td>2012 2.0 TDI CC BLUEMOTION 138BHP 5 SEATS 4DR</td>\n",
       "      <td>€8,295</td>\n",
       "      <td>133,600 kms</td>\n",
       "      <td>Diesel</td>\n",
       "      <td>Beige</td>\n",
       "      <td>2.0 L</td>\n",
       "      <td>Manual</td>\n",
       "      <td>Saloon</td>\n",
       "      <td>1</td>\n",
       "      <td>4</td>\n",
       "      <td>Apr-2023</td>\n",
       "      <td>Aug-2023</td>\n",
       "      <td>0838704977</td>\n",
       "      <td>NaN</td>\n",
       "      <td>NaN</td>\n",
       "      <td>NaN</td>\n",
       "      <td>NaN</td>\n",
       "    </tr>\n",
       "    <tr>\n",
       "      <th>1</th>\n",
       "      <td>OPEL INSIGNIA</td>\n",
       "      <td>2010 S 2.0 CDTI 130PS ECO 5DR</td>\n",
       "      <td>€3,800</td>\n",
       "      <td>219,000 kms</td>\n",
       "      <td>Diesel</td>\n",
       "      <td>Beige</td>\n",
       "      <td>2.0 L</td>\n",
       "      <td>Manual</td>\n",
       "      <td>Saloon</td>\n",
       "      <td>5</td>\n",
       "      <td>5</td>\n",
       "      <td>Jan-2023</td>\n",
       "      <td>Jan-2024</td>\n",
       "      <td>0831274143</td>\n",
       "      <td>NaN</td>\n",
       "      <td>NaN</td>\n",
       "      <td>NaN</td>\n",
       "      <td>NaN</td>\n",
       "    </tr>\n",
       "    <tr>\n",
       "      <th>2</th>\n",
       "      <td>HYUNDAI TUCSON</td>\n",
       "      <td>2016 EXECUTIVE  (Hi-Spec Model)</td>\n",
       "      <td>€17,950</td>\n",
       "      <td>0 kms</td>\n",
       "      <td>Diesel</td>\n",
       "      <td>Black</td>\n",
       "      <td>1.7 L</td>\n",
       "      <td>Manual</td>\n",
       "      <td>MPV</td>\n",
       "      <td>1</td>\n",
       "      <td>5</td>\n",
       "      <td>Apr-2022</td>\n",
       "      <td>Sep-2024</td>\n",
       "      <td>Barry Martin Motors Ltd</td>\n",
       "      <td>Irishtown Filling Station      Ashe Road      ...</td>\n",
       "      <td>044-9339962</td>\n",
       "      <td>NaN</td>\n",
       "      <td>NaN</td>\n",
       "    </tr>\n",
       "    <tr>\n",
       "      <th>3</th>\n",
       "      <td>SUZUKI CELERIO</td>\n",
       "      <td>2017 CELERIO 1.0 Petrol  5DR</td>\n",
       "      <td>€9,950</td>\n",
       "      <td>119,003 kms</td>\n",
       "      <td>Petrol</td>\n",
       "      <td>Grey</td>\n",
       "      <td>1.0 L</td>\n",
       "      <td>Manual</td>\n",
       "      <td>Hatchback</td>\n",
       "      <td>1</td>\n",
       "      <td>5</td>\n",
       "      <td>Dec-2022</td>\n",
       "      <td>Jul-2023</td>\n",
       "      <td>Barry Martin Motors Ltd</td>\n",
       "      <td>Irishtown Filling Station      Ashe Road      ...</td>\n",
       "      <td>044-9339962</td>\n",
       "      <td>NaN</td>\n",
       "      <td>NaN</td>\n",
       "    </tr>\n",
       "    <tr>\n",
       "      <th>4</th>\n",
       "      <td>VOLKSWAGEN TIGUAN</td>\n",
       "      <td>2017 Comfort Line 2.0 TDI 150 HP</td>\n",
       "      <td>€22,950</td>\n",
       "      <td>0 kms</td>\n",
       "      <td>Diesel</td>\n",
       "      <td>Grey</td>\n",
       "      <td>2.0 L</td>\n",
       "      <td>Manual</td>\n",
       "      <td>MPV</td>\n",
       "      <td>3</td>\n",
       "      <td>5</td>\n",
       "      <td>Dec-2022</td>\n",
       "      <td>Jan-2023</td>\n",
       "      <td>Barry Martin Motors Ltd</td>\n",
       "      <td>Irishtown Filling Station      Ashe Road      ...</td>\n",
       "      <td>044-9339962</td>\n",
       "      <td>NaN</td>\n",
       "      <td>NaN</td>\n",
       "    </tr>\n",
       "    <tr>\n",
       "      <th>5</th>\n",
       "      <td>HONDA VEZEL</td>\n",
       "      <td>2015 VEZEL 1.5 DAA-RU3 5 DR AUTO</td>\n",
       "      <td>€0</td>\n",
       "      <td>101,499 kms</td>\n",
       "      <td>Petrol Hybrid</td>\n",
       "      <td>White</td>\n",
       "      <td>1.5 L</td>\n",
       "      <td>Automatic</td>\n",
       "      <td>MPV</td>\n",
       "      <td>1</td>\n",
       "      <td>-</td>\n",
       "      <td>-</td>\n",
       "      <td>-</td>\n",
       "      <td>Kearys Carstore Limerick</td>\n",
       "      <td>Unit 6B      Eastpoint Retail Park      Ballys...</td>\n",
       "      <td>061-326500</td>\n",
       "      <td>NaN</td>\n",
       "      <td>NaN</td>\n",
       "    </tr>\n",
       "    <tr>\n",
       "      <th>6</th>\n",
       "      <td>MERCEDES-BENZ CLA CLASS</td>\n",
       "      <td>2017 CLA 180 PET URBAN</td>\n",
       "      <td>€24,990</td>\n",
       "      <td>89,520 kms</td>\n",
       "      <td>Petrol</td>\n",
       "      <td>Black</td>\n",
       "      <td>1.6 L</td>\n",
       "      <td>Manual</td>\n",
       "      <td>Saloon</td>\n",
       "      <td>1</td>\n",
       "      <td>4</td>\n",
       "      <td>Dec-2022</td>\n",
       "      <td>Jan-2023</td>\n",
       "      <td>Kearys Carstore Limerick</td>\n",
       "      <td>Unit 6B      Eastpoint Retail Park      Ballys...</td>\n",
       "      <td>061-326500</td>\n",
       "      <td>NaN</td>\n",
       "      <td>NaN</td>\n",
       "    </tr>\n",
       "    <tr>\n",
       "      <th>7</th>\n",
       "      <td>AUDI TT</td>\n",
       "      <td>2018 2.0TDI 184HP S-Line</td>\n",
       "      <td>€36,950</td>\n",
       "      <td>77,998 kms</td>\n",
       "      <td>Diesel</td>\n",
       "      <td>Black</td>\n",
       "      <td>2.0 L</td>\n",
       "      <td>Manual</td>\n",
       "      <td>Coupe</td>\n",
       "      <td>1</td>\n",
       "      <td>-</td>\n",
       "      <td>-</td>\n",
       "      <td>Jun-2022</td>\n",
       "      <td>Lyons of Limerick</td>\n",
       "      <td>Ballysimon Road      Crabb's Land</td>\n",
       "      <td>061-439800</td>\n",
       "      <td>NaN</td>\n",
       "      <td>NaN</td>\n",
       "    </tr>\n",
       "    <tr>\n",
       "      <th>8</th>\n",
       "      <td>BMW 5 SERIES</td>\n",
       "      <td>2017 520d SE Auto</td>\n",
       "      <td>€29,995</td>\n",
       "      <td>148,341 kms</td>\n",
       "      <td>Diesel</td>\n",
       "      <td>Blue</td>\n",
       "      <td>2.0 L</td>\n",
       "      <td>Automatic</td>\n",
       "      <td>Saloon</td>\n",
       "      <td>2</td>\n",
       "      <td>4</td>\n",
       "      <td>Oct-2023</td>\n",
       "      <td>Feb-2023</td>\n",
       "      <td>Colm Quinn BMW Drogheda</td>\n",
       "      <td>M1 Retail Park      Junction 10      Drogheda</td>\n",
       "      <td>041-6874888</td>\n",
       "      <td>NaN</td>\n",
       "      <td>NaN</td>\n",
       "    </tr>\n",
       "    <tr>\n",
       "      <th>9</th>\n",
       "      <td>BMW 2 SERIES</td>\n",
       "      <td>2022 218d Gran Coupe Sport Auto</td>\n",
       "      <td>€43,995</td>\n",
       "      <td>10,718 kms</td>\n",
       "      <td>Diesel</td>\n",
       "      <td>Grey</td>\n",
       "      <td>2.0 L</td>\n",
       "      <td>Automatic</td>\n",
       "      <td>Saloon</td>\n",
       "      <td>1</td>\n",
       "      <td>4</td>\n",
       "      <td>Dec-2022</td>\n",
       "      <td>Jan-2026</td>\n",
       "      <td>Colm Quinn BMW Drogheda</td>\n",
       "      <td>M1 Retail Park      Junction 10      Drogheda</td>\n",
       "      <td>041-6874888</td>\n",
       "      <td>NaN</td>\n",
       "      <td>NaN</td>\n",
       "    </tr>\n",
       "  </tbody>\n",
       "</table>\n",
       "</div>"
      ],
      "text/plain": [
       "                    Title:                                   Description:  \\\n",
       "0        VOLKSWAGEN PASSAT  2012 2.0 TDI CC BLUEMOTION 138BHP 5 SEATS 4DR   \n",
       "1            OPEL INSIGNIA                  2010 S 2.0 CDTI 130PS ECO 5DR   \n",
       "2           HYUNDAI TUCSON                2016 EXECUTIVE  (Hi-Spec Model)   \n",
       "3           SUZUKI CELERIO                   2017 CELERIO 1.0 Petrol  5DR   \n",
       "4        VOLKSWAGEN TIGUAN               2017 Comfort Line 2.0 TDI 150 HP   \n",
       "5              HONDA VEZEL               2015 VEZEL 1.5 DAA-RU3 5 DR AUTO   \n",
       "6  MERCEDES-BENZ CLA CLASS                         2017 CLA 180 PET URBAN   \n",
       "7                  AUDI TT                       2018 2.0TDI 184HP S-Line   \n",
       "8             BMW 5 SERIES                              2017 520d SE Auto   \n",
       "9             BMW 2 SERIES                2022 218d Gran Coupe Sport Auto   \n",
       "\n",
       "    Price:    Odometer:     Fuel Type: Colour: Engine Size: Transmission:  \\\n",
       "0   €8,295  133,600 kms         Diesel   Beige        2.0 L        Manual   \n",
       "1   €3,800  219,000 kms         Diesel   Beige        2.0 L        Manual   \n",
       "2  €17,950        0 kms         Diesel   Black        1.7 L        Manual   \n",
       "3   €9,950  119,003 kms         Petrol    Grey        1.0 L        Manual   \n",
       "4  €22,950        0 kms         Diesel    Grey        2.0 L        Manual   \n",
       "5       €0  101,499 kms  Petrol Hybrid   White        1.5 L     Automatic   \n",
       "6  €24,990   89,520 kms         Petrol   Black        1.6 L        Manual   \n",
       "7  €36,950   77,998 kms         Diesel   Black        2.0 L        Manual   \n",
       "8  €29,995  148,341 kms         Diesel    Blue        2.0 L     Automatic   \n",
       "9  €43,995   10,718 kms         Diesel    Grey        2.0 L     Automatic   \n",
       "\n",
       "  Body Type: Owners: Doors: Tax Expiry: NCT Expiry:                   Dealer:  \\\n",
       "0     Saloon       1      4    Apr-2023    Aug-2023                0838704977   \n",
       "1     Saloon       5      5    Jan-2023    Jan-2024                0831274143   \n",
       "2        MPV       1      5    Apr-2022    Sep-2024   Barry Martin Motors Ltd   \n",
       "3  Hatchback       1      5    Dec-2022    Jul-2023   Barry Martin Motors Ltd   \n",
       "4        MPV       3      5    Dec-2022    Jan-2023   Barry Martin Motors Ltd   \n",
       "5        MPV       1      -           -           -  Kearys Carstore Limerick   \n",
       "6     Saloon       1      4    Dec-2022    Jan-2023  Kearys Carstore Limerick   \n",
       "7      Coupe       1      -           -    Jun-2022         Lyons of Limerick   \n",
       "8     Saloon       2      4    Oct-2023    Feb-2023   Colm Quinn BMW Drogheda   \n",
       "9     Saloon       1      4    Dec-2022    Jan-2026   Colm Quinn BMW Drogheda   \n",
       "\n",
       "                                            Address:       Phone: Franchise:  \\\n",
       "0                                                NaN          NaN        NaN   \n",
       "1                                                NaN          NaN        NaN   \n",
       "2  Irishtown Filling Station      Ashe Road      ...  044-9339962        NaN   \n",
       "3  Irishtown Filling Station      Ashe Road      ...  044-9339962        NaN   \n",
       "4  Irishtown Filling Station      Ashe Road      ...  044-9339962        NaN   \n",
       "5  Unit 6B      Eastpoint Retail Park      Ballys...   061-326500        NaN   \n",
       "6  Unit 6B      Eastpoint Retail Park      Ballys...   061-326500        NaN   \n",
       "7                  Ballysimon Road      Crabb's Land   061-439800        NaN   \n",
       "8      M1 Retail Park      Junction 10      Drogheda  041-6874888        NaN   \n",
       "9      M1 Retail Park      Junction 10      Drogheda  041-6874888        NaN   \n",
       "\n",
       "  Website:  \n",
       "0      NaN  \n",
       "1      NaN  \n",
       "2      NaN  \n",
       "3      NaN  \n",
       "4      NaN  \n",
       "5      NaN  \n",
       "6      NaN  \n",
       "7      NaN  \n",
       "8      NaN  \n",
       "9      NaN  "
      ]
     },
     "execution_count": 3,
     "metadata": {},
     "output_type": "execute_result"
    }
   ],
   "source": [
    "df = pd.read_csv('all_cars.csv', delimiter=';', index_col=0)\n",
    "df.head(10)"
   ]
  },
  {
   "cell_type": "code",
   "execution_count": 4,
   "metadata": {},
   "outputs": [],
   "source": [
    "# Sanitise the data\n",
    "df['Year:'] = df['Description:'].str.split(' ', expand=True)[0].apply(pd.to_numeric)\n",
    "df['Title:'] = df['Title:'].str.replace('LAND ROVER', 'LAND-ROVER')\n",
    "df['Manufacturer:'] = df['Title:'].str.split(' ', expand=True)[0]\n",
    "df['Model:'] = df['Title:'].str.split(' ', expand=False).apply(lambda x: ''.join(x[1:]))\n",
    "df['Price:'] = df['Price:'].str.replace('€', '')\n",
    "df['Price:'] = df['Price:'].str.replace(',', '')\n",
    "df['Price:'] = df['Price:'].apply(pd.to_numeric)"
   ]
  },
  {
   "cell_type": "code",
   "execution_count": 5,
   "metadata": {},
   "outputs": [
    {
     "data": {
      "text/html": [
       "<div>\n",
       "<style scoped>\n",
       "    .dataframe tbody tr th:only-of-type {\n",
       "        vertical-align: middle;\n",
       "    }\n",
       "\n",
       "    .dataframe tbody tr th {\n",
       "        vertical-align: top;\n",
       "    }\n",
       "\n",
       "    .dataframe thead th {\n",
       "        text-align: right;\n",
       "    }\n",
       "</style>\n",
       "<table border=\"1\" class=\"dataframe\">\n",
       "  <thead>\n",
       "    <tr style=\"text-align: right;\">\n",
       "      <th></th>\n",
       "      <th>Year:</th>\n",
       "      <th>Price:</th>\n",
       "    </tr>\n",
       "  </thead>\n",
       "  <tbody>\n",
       "    <tr>\n",
       "      <th>0</th>\n",
       "      <td>2012</td>\n",
       "      <td>8295</td>\n",
       "    </tr>\n",
       "    <tr>\n",
       "      <th>1</th>\n",
       "      <td>2010</td>\n",
       "      <td>3800</td>\n",
       "    </tr>\n",
       "    <tr>\n",
       "      <th>2</th>\n",
       "      <td>2016</td>\n",
       "      <td>17950</td>\n",
       "    </tr>\n",
       "    <tr>\n",
       "      <th>3</th>\n",
       "      <td>2017</td>\n",
       "      <td>9950</td>\n",
       "    </tr>\n",
       "    <tr>\n",
       "      <th>4</th>\n",
       "      <td>2017</td>\n",
       "      <td>22950</td>\n",
       "    </tr>\n",
       "    <tr>\n",
       "      <th>...</th>\n",
       "      <td>...</td>\n",
       "      <td>...</td>\n",
       "    </tr>\n",
       "    <tr>\n",
       "      <th>894</th>\n",
       "      <td>2014</td>\n",
       "      <td>0</td>\n",
       "    </tr>\n",
       "    <tr>\n",
       "      <th>895</th>\n",
       "      <td>2013</td>\n",
       "      <td>0</td>\n",
       "    </tr>\n",
       "    <tr>\n",
       "      <th>896</th>\n",
       "      <td>2011</td>\n",
       "      <td>0</td>\n",
       "    </tr>\n",
       "    <tr>\n",
       "      <th>897</th>\n",
       "      <td>2013</td>\n",
       "      <td>10995</td>\n",
       "    </tr>\n",
       "    <tr>\n",
       "      <th>898</th>\n",
       "      <td>2022</td>\n",
       "      <td>37950</td>\n",
       "    </tr>\n",
       "  </tbody>\n",
       "</table>\n",
       "<p>899 rows × 2 columns</p>\n",
       "</div>"
      ],
      "text/plain": [
       "     Year:  Price:\n",
       "0     2012    8295\n",
       "1     2010    3800\n",
       "2     2016   17950\n",
       "3     2017    9950\n",
       "4     2017   22950\n",
       "..     ...     ...\n",
       "894   2014       0\n",
       "895   2013       0\n",
       "896   2011       0\n",
       "897   2013   10995\n",
       "898   2022   37950\n",
       "\n",
       "[899 rows x 2 columns]"
      ]
     },
     "execution_count": 5,
     "metadata": {},
     "output_type": "execute_result"
    }
   ],
   "source": [
    "df_year_price = df[['Year:', 'Price:']].copy()\n",
    "df_year_price"
   ]
  },
  {
   "cell_type": "code",
   "execution_count": 6,
   "metadata": {},
   "outputs": [
    {
     "data": {
      "text/html": [
       "<div>\n",
       "<style scoped>\n",
       "    .dataframe tbody tr th:only-of-type {\n",
       "        vertical-align: middle;\n",
       "    }\n",
       "\n",
       "    .dataframe tbody tr th {\n",
       "        vertical-align: top;\n",
       "    }\n",
       "\n",
       "    .dataframe thead th {\n",
       "        text-align: right;\n",
       "    }\n",
       "</style>\n",
       "<table border=\"1\" class=\"dataframe\">\n",
       "  <thead>\n",
       "    <tr style=\"text-align: right;\">\n",
       "      <th></th>\n",
       "      <th>Year:</th>\n",
       "      <th>Price:</th>\n",
       "    </tr>\n",
       "  </thead>\n",
       "  <tbody>\n",
       "    <tr>\n",
       "      <th>0</th>\n",
       "      <td>2012</td>\n",
       "      <td>8295.0</td>\n",
       "    </tr>\n",
       "    <tr>\n",
       "      <th>1</th>\n",
       "      <td>2010</td>\n",
       "      <td>3800.0</td>\n",
       "    </tr>\n",
       "    <tr>\n",
       "      <th>2</th>\n",
       "      <td>2016</td>\n",
       "      <td>17950.0</td>\n",
       "    </tr>\n",
       "    <tr>\n",
       "      <th>3</th>\n",
       "      <td>2017</td>\n",
       "      <td>9950.0</td>\n",
       "    </tr>\n",
       "    <tr>\n",
       "      <th>4</th>\n",
       "      <td>2017</td>\n",
       "      <td>22950.0</td>\n",
       "    </tr>\n",
       "    <tr>\n",
       "      <th>...</th>\n",
       "      <td>...</td>\n",
       "      <td>...</td>\n",
       "    </tr>\n",
       "    <tr>\n",
       "      <th>894</th>\n",
       "      <td>2014</td>\n",
       "      <td>NaN</td>\n",
       "    </tr>\n",
       "    <tr>\n",
       "      <th>895</th>\n",
       "      <td>2013</td>\n",
       "      <td>NaN</td>\n",
       "    </tr>\n",
       "    <tr>\n",
       "      <th>896</th>\n",
       "      <td>2011</td>\n",
       "      <td>NaN</td>\n",
       "    </tr>\n",
       "    <tr>\n",
       "      <th>897</th>\n",
       "      <td>2013</td>\n",
       "      <td>10995.0</td>\n",
       "    </tr>\n",
       "    <tr>\n",
       "      <th>898</th>\n",
       "      <td>2022</td>\n",
       "      <td>37950.0</td>\n",
       "    </tr>\n",
       "  </tbody>\n",
       "</table>\n",
       "<p>899 rows × 2 columns</p>\n",
       "</div>"
      ],
      "text/plain": [
       "     Year:   Price:\n",
       "0     2012   8295.0\n",
       "1     2010   3800.0\n",
       "2     2016  17950.0\n",
       "3     2017   9950.0\n",
       "4     2017  22950.0\n",
       "..     ...      ...\n",
       "894   2014      NaN\n",
       "895   2013      NaN\n",
       "896   2011      NaN\n",
       "897   2013  10995.0\n",
       "898   2022  37950.0\n",
       "\n",
       "[899 rows x 2 columns]"
      ]
     },
     "execution_count": 6,
     "metadata": {},
     "output_type": "execute_result"
    }
   ],
   "source": [
    "df_year_price['Price:'] = df_year_price['Price:'][df_year_price['Price:'] > 1]\n",
    "df_year_price"
   ]
  },
  {
   "cell_type": "code",
   "execution_count": 7,
   "metadata": {},
   "outputs": [
    {
     "data": {
      "application/vnd.plotly.v1+json": {
       "config": {
        "plotlyServerURL": "https://plot.ly"
       },
       "data": [
        {
         "hovertemplate": "Year=%{x}<br>Price=%{y}<extra></extra>",
         "legendgroup": "",
         "marker": {
          "color": "#636efa",
          "symbol": "circle"
         },
         "mode": "markers",
         "name": "",
         "orientation": "v",
         "showlegend": false,
         "type": "scatter",
         "x": [
          2012,
          2010,
          2016,
          2017,
          2017,
          2015,
          2017,
          2018,
          2017,
          2022,
          2022,
          2021,
          2016,
          2017,
          2020,
          2016,
          2020,
          2022,
          2021,
          2018,
          2013,
          2015,
          2019,
          2007,
          2010,
          2016,
          2015,
          2020,
          2013,
          2016,
          2016,
          2021,
          2023,
          2023,
          2016,
          2019,
          2019,
          2015,
          2017,
          2020,
          2021,
          2017,
          2018,
          2017,
          2020,
          2020,
          2020,
          2020,
          2020,
          2021,
          2020,
          2013,
          2021,
          2016,
          2022,
          2022,
          2022,
          2022,
          2022,
          2018,
          2020,
          2019,
          2021,
          2021,
          2020,
          2022,
          2017,
          2019,
          2023,
          2017,
          2019,
          2023,
          2023,
          2023,
          2023,
          2023,
          2020,
          2016,
          2013,
          2016,
          2018,
          2022,
          2012,
          2016,
          2017,
          2019,
          2020,
          2017,
          2020,
          2021,
          2016,
          2020,
          2023,
          2023,
          2022,
          2020,
          2022,
          2019,
          2022,
          2020,
          2020,
          2019,
          2021,
          2020,
          2016,
          2015,
          2015,
          2017,
          2022,
          2022,
          2020,
          2022,
          2021,
          2015,
          2022,
          2019,
          2021,
          2021,
          2018,
          2009,
          2007,
          2021,
          2019,
          2018,
          2018,
          2017,
          2015,
          2011,
          2009,
          2007,
          2016,
          2008,
          2008,
          2006,
          2006,
          2007,
          2016,
          2013,
          2005,
          2017,
          2008,
          2014,
          2010,
          2005,
          2014,
          2016,
          2015,
          2014,
          2008,
          2006,
          2010,
          2009,
          2011,
          2019,
          2011,
          2009,
          2016,
          2010,
          2015,
          2010,
          2010,
          2014,
          2016,
          2015,
          2014,
          2021,
          2022,
          2022,
          2021,
          2015,
          2019,
          2016,
          2016,
          2016,
          2023,
          2021,
          2018,
          2019,
          2017,
          2019,
          2019,
          2019,
          2015,
          2021,
          2021,
          2021,
          2021,
          2017,
          2020,
          2023,
          2018,
          2016,
          2018,
          2020,
          2021,
          2020,
          2019,
          2011,
          2021,
          2021,
          2015,
          2022,
          2020,
          2019,
          2019,
          2021,
          2022,
          2022,
          2022,
          2022,
          2022,
          2022,
          2022,
          2022,
          2022,
          2022,
          2022,
          2022,
          2022,
          2022,
          2022,
          2017,
          2022,
          2021,
          2022,
          2021,
          2020,
          2023,
          2023,
          2022,
          2014,
          2019,
          2015,
          2016,
          2019,
          2015,
          2012,
          2016,
          2018,
          2014,
          2013,
          2012,
          2011,
          2011,
          2010,
          2010,
          2009,
          2007,
          2014,
          2018,
          2015,
          2014,
          2017,
          2021,
          2019,
          2020,
          2017,
          2021,
          2014,
          2015,
          2016,
          2023,
          2023,
          2023,
          2023,
          2023,
          2023,
          2023,
          2023,
          2023,
          2023,
          2019,
          2010,
          2019,
          2023,
          2023,
          2023,
          2023,
          2022,
          2016,
          2016,
          2020,
          2016,
          2022,
          2018,
          2020,
          2016,
          2019,
          2019,
          2018,
          2007,
          2022,
          2013,
          2016,
          2021,
          2018,
          2018,
          2015,
          2016,
          2018,
          2018,
          2018,
          2020,
          2016,
          2019,
          2017,
          2014,
          2017,
          2019,
          2014,
          2015,
          2015,
          2019,
          2017,
          2016,
          2018,
          2014,
          2017,
          2018,
          2019,
          2017,
          2017,
          2022,
          2019,
          2017,
          2017,
          2022,
          2019,
          2017,
          2016,
          2019,
          2016,
          2014,
          2017,
          2018,
          2015,
          2015,
          2011,
          2011,
          2015,
          2017,
          2012,
          2016,
          2017,
          2016,
          2021,
          2021,
          2016,
          2014,
          2013,
          2014,
          2016,
          2014,
          2017,
          2016,
          2016,
          2019,
          2019,
          2022,
          2018,
          2017,
          2017,
          2019,
          2017,
          2022,
          2014,
          2017,
          2019,
          2016,
          2014,
          2012,
          2016,
          2016,
          2018,
          2019,
          2018,
          2014,
          2016,
          2016,
          2016,
          2019,
          2012,
          2019,
          2012,
          2019,
          2016,
          2009,
          2019,
          2020,
          2016,
          2019,
          2017,
          2017,
          2021,
          2017,
          2019,
          2013,
          2015,
          2017,
          2021,
          2012,
          2016,
          2016,
          2019,
          2017,
          2016,
          2018,
          2013,
          2017,
          2017,
          2019,
          2013,
          2015,
          2009,
          2013,
          2017,
          2016,
          2015,
          2010,
          2016,
          2013,
          2017,
          2022,
          2023,
          2008,
          2018,
          2010,
          2016,
          2014,
          2015,
          2014,
          2017,
          2021,
          2019,
          2015,
          2015,
          2014,
          2015,
          2017,
          2019,
          2018,
          2015,
          2019,
          2018,
          2017,
          2012,
          2019,
          2016,
          2017,
          2013,
          2017,
          2018,
          2019,
          2017,
          2016,
          2015,
          2020,
          2021,
          2016,
          2021,
          2020,
          2020,
          2022,
          2022,
          2015,
          2021,
          2018,
          2018,
          2019,
          2019,
          2021,
          2016,
          2012,
          2015,
          2022,
          2014,
          2013,
          2011,
          2016,
          2013,
          2017,
          2016,
          2014,
          2016,
          2008,
          2007,
          2020,
          2013,
          2016,
          2017,
          2011,
          2015,
          2018,
          2014,
          2019,
          2022,
          2007,
          2013,
          2016,
          2019,
          2019,
          2013,
          2009,
          2015,
          2017,
          2019,
          2019,
          2014,
          2017,
          2019,
          2013,
          2010,
          2012,
          2015,
          2017,
          2018,
          2019,
          2013,
          2023,
          2010,
          2008,
          2014,
          2009,
          2011,
          2014,
          2011,
          2013,
          2016,
          2016,
          2017,
          2010,
          2014,
          2019,
          2017,
          2018,
          2019,
          2019,
          2016,
          2019,
          2015,
          2020,
          2017,
          2020,
          2014,
          2013,
          2016,
          2014,
          2015,
          2015,
          2018,
          2017,
          2014,
          2016,
          2016,
          2018,
          2017,
          2012,
          2020,
          2016,
          2018,
          2018,
          2020,
          2016,
          2011,
          2018,
          2016,
          2012,
          2017,
          2017,
          2013,
          2013,
          2016,
          2016,
          2017,
          2007,
          2017,
          2016,
          2014,
          2011,
          2019,
          2014,
          2019,
          2015,
          2016,
          2017,
          2023,
          2023,
          2014,
          2019,
          2015,
          2019,
          2014,
          2011,
          2020,
          2018,
          2018,
          2019,
          2015,
          2019,
          2014,
          2017,
          2005,
          2013,
          2015,
          2014,
          2007,
          2012,
          2023,
          2019,
          2019,
          2016,
          2015,
          2008,
          2010,
          2017,
          2011,
          2015,
          2015,
          2022,
          2017,
          2021,
          2015,
          2015,
          2020,
          2017,
          2019,
          2017,
          2012,
          2020,
          2021,
          2016,
          2019,
          2011,
          2015,
          2017,
          2014,
          2013,
          2009,
          2010,
          2011,
          2015,
          2020,
          2011,
          2010,
          2020,
          2014,
          2018,
          2018,
          2020,
          2008,
          2016,
          2019,
          2021,
          2023,
          2018,
          2015,
          2017,
          2019,
          2017,
          2020,
          2005,
          2018,
          2015,
          2015,
          2015,
          2012,
          2023,
          2014,
          2016,
          2019,
          2008,
          2014,
          2017,
          2018,
          2019,
          2018,
          2019,
          2017,
          2017,
          2020,
          2017,
          2018,
          2007,
          2015,
          2022,
          2019,
          2016,
          2013,
          2013,
          2012,
          2015,
          2013,
          2014,
          2017,
          2017,
          2022,
          2016,
          2014,
          2014,
          2017,
          2014,
          2015,
          2015,
          2017,
          2006,
          2012,
          2019,
          2013,
          2015,
          2019,
          2022,
          2023,
          2015,
          2013,
          2015,
          2013,
          2022,
          2018,
          2020,
          2022,
          2018,
          2017,
          2018,
          2016,
          2022,
          2019,
          2013,
          2011,
          2012,
          2017,
          2009,
          2017,
          2013,
          2015,
          2017,
          2016,
          2020,
          2020,
          2022,
          2016,
          2018,
          2017,
          2021,
          2019,
          2015,
          2022,
          2017,
          2017,
          2017,
          2020,
          2023,
          2016,
          2023,
          2019,
          2017,
          2022,
          2021,
          2023,
          2023,
          2020,
          2019,
          2018,
          2018,
          2020,
          2023,
          2021,
          2023,
          2019,
          2022,
          2016,
          2019,
          2021,
          2007,
          2019,
          2022,
          2022,
          2020,
          2021,
          2017,
          2018,
          2015,
          2018,
          2016,
          2017,
          2017,
          2021,
          2016,
          2018,
          2022,
          2018,
          2020,
          2022,
          2016,
          2020,
          2020,
          2022,
          2023,
          2022,
          2020,
          2023,
          2020,
          2019,
          2020,
          2020,
          2018,
          2019,
          2019,
          2017,
          2018,
          2017,
          2014,
          2008,
          2015,
          2015,
          2014,
          2013,
          2019,
          2013,
          2015,
          2015,
          2014,
          2018,
          2018,
          2022,
          2022,
          2022,
          2016,
          2018,
          2020,
          2007,
          2022,
          2018,
          2023,
          2023,
          2022,
          2019,
          2017,
          2023,
          2019,
          2023,
          2021,
          2021,
          2016,
          2009,
          2021,
          2018,
          2019,
          2014,
          2019,
          2020,
          2017,
          2017,
          2021,
          2019,
          2018,
          2022,
          2022,
          2017,
          2019,
          2021,
          2020,
          2020,
          2020,
          2021,
          2017,
          2017,
          2015,
          2014,
          2014,
          2013,
          2013,
          2013,
          2012,
          2012,
          2011,
          2009,
          2008,
          2008,
          2004,
          2017,
          2016,
          2016,
          2016,
          2015,
          2014,
          2014,
          2013,
          2012,
          2012,
          2011,
          2010,
          2008,
          2017,
          2012,
          2014,
          2013,
          2011,
          2013,
          2022
         ],
         "xaxis": "x",
         "y": [
          8295,
          3800,
          17950,
          9950,
          22950,
          null,
          24990,
          36950,
          29995,
          43995,
          66995,
          94995,
          18995,
          23750,
          31995,
          24950,
          47950,
          94995,
          22995,
          52950,
          9950,
          18950,
          35950,
          5950,
          8950,
          null,
          null,
          46995,
          null,
          null,
          null,
          null,
          46748,
          41300,
          15900,
          16750,
          null,
          11890,
          17950,
          24500,
          52900,
          34950,
          19995,
          15995,
          28900,
          18490,
          18490,
          23790,
          23790,
          31490,
          23950,
          null,
          28990,
          29950,
          27450,
          27450,
          27450,
          27450,
          27450,
          14800,
          135000,
          79950,
          22595,
          22595,
          18975,
          59475,
          9495,
          18995,
          null,
          15900,
          24900,
          null,
          null,
          null,
          null,
          null,
          79950,
          9995,
          6950,
          17950,
          23995,
          22995,
          null,
          null,
          17950,
          null,
          null,
          14895,
          32995,
          27950,
          13740,
          31900,
          null,
          27240,
          null,
          35900,
          69900,
          45900,
          46900,
          44900,
          42900,
          79900,
          29995,
          37950,
          18495,
          18995,
          12995,
          17895,
          19295,
          19295,
          18950,
          33495,
          51950,
          14450,
          40895,
          34995,
          33995,
          29995,
          25950,
          7250,
          3250,
          null,
          null,
          null,
          null,
          null,
          null,
          null,
          null,
          null,
          null,
          null,
          null,
          null,
          null,
          null,
          null,
          null,
          null,
          null,
          6950,
          null,
          null,
          null,
          null,
          null,
          null,
          null,
          null,
          null,
          null,
          null,
          null,
          null,
          null,
          null,
          null,
          null,
          null,
          null,
          null,
          null,
          null,
          null,
          null,
          35950,
          29270,
          29070,
          15895,
          21995,
          43995,
          28995,
          34995,
          12495,
          null,
          46995,
          32995,
          null,
          13995,
          null,
          null,
          null,
          null,
          18495,
          23495,
          27495,
          29495,
          null,
          18490,
          42320,
          20994,
          17950,
          23500,
          32995,
          47995,
          29995,
          24995,
          5950,
          18495,
          30995,
          12495,
          34900,
          null,
          null,
          18900,
          22900,
          20900,
          19900,
          19900,
          27450,
          27450,
          27450,
          27450,
          27450,
          27450,
          27450,
          27450,
          27450,
          27450,
          27450,
          27450,
          21900,
          31900,
          20495,
          27995,
          57950,
          55950,
          55265,
          57627,
          28950,
          19950,
          45950,
          16495,
          null,
          null,
          null,
          null,
          null,
          null,
          null,
          null,
          null,
          null,
          null,
          null,
          null,
          null,
          null,
          null,
          null,
          null,
          null,
          null,
          65850,
          23950,
          23495,
          13995,
          30995,
          14900,
          18000,
          17890,
          31900,
          23450,
          25320,
          34660,
          35995,
          36640,
          29470,
          40550,
          42620,
          41750,
          29450,
          null,
          null,
          45995,
          51200,
          52295,
          25680,
          40920,
          17995,
          29995,
          34995,
          23950,
          74950,
          31950,
          34945,
          29950,
          45950,
          18900,
          25995,
          3995,
          63950,
          14490,
          16890,
          21056,
          16950,
          null,
          10890,
          null,
          null,
          null,
          null,
          29890,
          null,
          26890,
          13290,
          null,
          null,
          null,
          9995,
          null,
          10750,
          28750,
          15950,
          7950,
          23500,
          null,
          null,
          null,
          25599,
          24399,
          22899,
          23895,
          25599,
          24399,
          22899,
          23895,
          null,
          10750,
          43950,
          17750,
          15950,
          12995,
          21900,
          18500,
          13995,
          12950,
          10750,
          10750,
          11950,
          49002,
          10900,
          22999,
          17900,
          9500,
          56950,
          33949,
          null,
          null,
          null,
          null,
          null,
          null,
          null,
          null,
          null,
          null,
          25000,
          35445,
          31449,
          null,
          22950,
          27499,
          16950,
          56450,
          10950,
          15750,
          12191,
          null,
          12500,
          7000,
          null,
          14950,
          14900,
          12900,
          18950,
          7500,
          14500,
          25995,
          25995,
          16950,
          null,
          18445,
          null,
          18445,
          17795,
          3995,
          18445,
          30995,
          null,
          18445,
          18995,
          null,
          25500,
          23995,
          18445,
          18750,
          7995,
          12250,
          31450,
          7995,
          16450,
          12500,
          null,
          22500,
          13500,
          17900,
          18950,
          14445,
          24945,
          19950,
          9950,
          19950,
          6999,
          8500,
          12900,
          14495,
          9950,
          5995,
          23495,
          7950,
          12950,
          53950,
          36195,
          10950,
          16950,
          4950,
          null,
          13950,
          13950,
          13995,
          14990,
          null,
          26950,
          13990,
          null,
          11950,
          16450,
          17950,
          25250,
          50000,
          8950,
          20950,
          22900,
          23950,
          8750,
          24950,
          15900,
          33950,
          8450,
          27950,
          26900,
          34450,
          21950,
          15990,
          12995,
          21495,
          63945,
          29945,
          70950,
          29449,
          null,
          64900,
          null,
          null,
          28495,
          null,
          null,
          16995,
          null,
          null,
          17990,
          5750,
          14950,
          null,
          11950,
          8950,
          10750,
          17995,
          8950,
          16500,
          11950,
          7995,
          16999,
          3999,
          2995,
          35950,
          6999,
          null,
          19950,
          10950,
          15950,
          42900,
          9950,
          39900,
          37995,
          1995,
          12950,
          13700,
          12995,
          12995,
          13450,
          null,
          17950,
          21950,
          null,
          21990,
          14900,
          19950,
          20950,
          9900,
          3900,
          6850,
          15900,
          19900,
          23900,
          30950,
          5750,
          27000,
          4250,
          2450,
          10995,
          11000,
          5750,
          14450,
          6800,
          7200,
          17950,
          10995,
          25495,
          5950,
          14250,
          24950,
          null,
          null,
          null,
          33750,
          20500,
          80900,
          36950,
          53995,
          14950,
          29995,
          22950,
          7950,
          null,
          9950,
          13950,
          16945,
          19995,
          null,
          11995,
          18250,
          23950,
          16900,
          26900,
          6400,
          32950,
          null,
          25695,
          18995,
          null,
          null,
          10950,
          16995,
          11900,
          12900,
          13900,
          65900,
          8250,
          8950,
          26995,
          14950,
          17950,
          2500,
          null,
          17990,
          17500,
          null,
          27950,
          12950,
          19995,
          9800,
          14750,
          15995,
          42545,
          25095,
          14950,
          16450,
          10999,
          17999,
          12750,
          2750,
          35950,
          17950,
          18950,
          13450,
          null,
          22950,
          14750,
          16950,
          2250,
          11750,
          22950,
          15900,
          2999,
          6950,
          28532,
          24700,
          26950,
          40995,
          null,
          3250,
          5500,
          18900,
          9995,
          12975,
          9995,
          38500,
          18450,
          20995,
          12495,
          15950,
          28950,
          17950,
          38950,
          13950,
          null,
          23000,
          null,
          null,
          34940,
          9900,
          13950,
          18995,
          9995,
          12950,
          5950,
          7950,
          5995,
          12250,
          19900,
          4999,
          4599,
          29950,
          17999,
          79950,
          18950,
          28900,
          3800,
          46950,
          16950,
          18500,
          46945,
          16500,
          8999,
          null,
          27950,
          29900,
          43900,
          2950,
          16450,
          16450,
          8995,
          16450,
          null,
          32045,
          9950,
          11950,
          18500,
          2250,
          8750,
          24600,
          16500,
          23950,
          24900,
          19950,
          10950,
          12950,
          25000,
          12450,
          null,
          2990,
          null,
          19950,
          22450,
          14950,
          11900,
          13450,
          null,
          8750,
          20900,
          8950,
          13900,
          15950,
          62950,
          13995,
          9500,
          32950,
          13950,
          15450,
          45528,
          null,
          15950,
          null,
          null,
          26995,
          13990,
          9990,
          null,
          null,
          null,
          null,
          null,
          null,
          11950,
          null,
          null,
          49900,
          66900,
          35900,
          null,
          21440,
          25950,
          45950,
          14995,
          7950,
          5950,
          18500,
          16500,
          5999,
          19950,
          17900,
          null,
          21995,
          null,
          32950,
          67950,
          null,
          17845,
          23950,
          45950,
          34950,
          15443,
          9895,
          47995,
          12490,
          19440,
          10890,
          null,
          28390,
          17994,
          24740,
          27950,
          17990,
          20900,
          20905,
          50195,
          55950,
          55950,
          18595,
          34995,
          13995,
          17595,
          62875,
          50950,
          null,
          24900,
          15650,
          22495,
          11995,
          17995,
          13500,
          12900,
          46995,
          41450,
          null,
          107950,
          31950,
          14995,
          12995,
          11495,
          16995,
          13950,
          22950,
          27650,
          12995,
          23495,
          33495,
          16995,
          24995,
          96995,
          13900,
          59750,
          23950,
          null,
          69950,
          27900,
          null,
          27295,
          36950,
          null,
          40950,
          null,
          17495,
          19495,
          15995,
          13995,
          null,
          null,
          null,
          null,
          15995,
          15995,
          21950,
          7500,
          33950,
          null,
          null,
          null,
          null,
          23950,
          34950,
          42995,
          64995,
          61995,
          16995,
          15995,
          32995,
          1950,
          null,
          31900,
          31590,
          29700,
          null,
          14450,
          23950,
          37068,
          24999,
          25340,
          31495,
          59950,
          20995,
          3495,
          20995,
          null,
          33995,
          9995,
          38900,
          49950,
          15900,
          16900,
          16495,
          null,
          null,
          53950,
          51950,
          33950,
          52950,
          93950,
          46475,
          61175,
          22950,
          23500,
          null,
          null,
          null,
          null,
          null,
          null,
          null,
          null,
          null,
          null,
          null,
          null,
          null,
          null,
          null,
          null,
          null,
          null,
          null,
          null,
          null,
          null,
          null,
          null,
          null,
          null,
          null,
          null,
          null,
          null,
          null,
          null,
          null,
          10995,
          37950
         ],
         "yaxis": "y"
        }
       ],
       "layout": {
        "legend": {
         "tracegroupgap": 0
        },
        "margin": {
         "t": 60
        },
        "template": {
         "data": {
          "bar": [
           {
            "error_x": {
             "color": "#2a3f5f"
            },
            "error_y": {
             "color": "#2a3f5f"
            },
            "marker": {
             "line": {
              "color": "#E5ECF6",
              "width": 0.5
             },
             "pattern": {
              "fillmode": "overlay",
              "size": 10,
              "solidity": 0.2
             }
            },
            "type": "bar"
           }
          ],
          "barpolar": [
           {
            "marker": {
             "line": {
              "color": "#E5ECF6",
              "width": 0.5
             },
             "pattern": {
              "fillmode": "overlay",
              "size": 10,
              "solidity": 0.2
             }
            },
            "type": "barpolar"
           }
          ],
          "carpet": [
           {
            "aaxis": {
             "endlinecolor": "#2a3f5f",
             "gridcolor": "white",
             "linecolor": "white",
             "minorgridcolor": "white",
             "startlinecolor": "#2a3f5f"
            },
            "baxis": {
             "endlinecolor": "#2a3f5f",
             "gridcolor": "white",
             "linecolor": "white",
             "minorgridcolor": "white",
             "startlinecolor": "#2a3f5f"
            },
            "type": "carpet"
           }
          ],
          "choropleth": [
           {
            "colorbar": {
             "outlinewidth": 0,
             "ticks": ""
            },
            "type": "choropleth"
           }
          ],
          "contour": [
           {
            "colorbar": {
             "outlinewidth": 0,
             "ticks": ""
            },
            "colorscale": [
             [
              0,
              "#0d0887"
             ],
             [
              0.1111111111111111,
              "#46039f"
             ],
             [
              0.2222222222222222,
              "#7201a8"
             ],
             [
              0.3333333333333333,
              "#9c179e"
             ],
             [
              0.4444444444444444,
              "#bd3786"
             ],
             [
              0.5555555555555556,
              "#d8576b"
             ],
             [
              0.6666666666666666,
              "#ed7953"
             ],
             [
              0.7777777777777778,
              "#fb9f3a"
             ],
             [
              0.8888888888888888,
              "#fdca26"
             ],
             [
              1,
              "#f0f921"
             ]
            ],
            "type": "contour"
           }
          ],
          "contourcarpet": [
           {
            "colorbar": {
             "outlinewidth": 0,
             "ticks": ""
            },
            "type": "contourcarpet"
           }
          ],
          "heatmap": [
           {
            "colorbar": {
             "outlinewidth": 0,
             "ticks": ""
            },
            "colorscale": [
             [
              0,
              "#0d0887"
             ],
             [
              0.1111111111111111,
              "#46039f"
             ],
             [
              0.2222222222222222,
              "#7201a8"
             ],
             [
              0.3333333333333333,
              "#9c179e"
             ],
             [
              0.4444444444444444,
              "#bd3786"
             ],
             [
              0.5555555555555556,
              "#d8576b"
             ],
             [
              0.6666666666666666,
              "#ed7953"
             ],
             [
              0.7777777777777778,
              "#fb9f3a"
             ],
             [
              0.8888888888888888,
              "#fdca26"
             ],
             [
              1,
              "#f0f921"
             ]
            ],
            "type": "heatmap"
           }
          ],
          "heatmapgl": [
           {
            "colorbar": {
             "outlinewidth": 0,
             "ticks": ""
            },
            "colorscale": [
             [
              0,
              "#0d0887"
             ],
             [
              0.1111111111111111,
              "#46039f"
             ],
             [
              0.2222222222222222,
              "#7201a8"
             ],
             [
              0.3333333333333333,
              "#9c179e"
             ],
             [
              0.4444444444444444,
              "#bd3786"
             ],
             [
              0.5555555555555556,
              "#d8576b"
             ],
             [
              0.6666666666666666,
              "#ed7953"
             ],
             [
              0.7777777777777778,
              "#fb9f3a"
             ],
             [
              0.8888888888888888,
              "#fdca26"
             ],
             [
              1,
              "#f0f921"
             ]
            ],
            "type": "heatmapgl"
           }
          ],
          "histogram": [
           {
            "marker": {
             "pattern": {
              "fillmode": "overlay",
              "size": 10,
              "solidity": 0.2
             }
            },
            "type": "histogram"
           }
          ],
          "histogram2d": [
           {
            "colorbar": {
             "outlinewidth": 0,
             "ticks": ""
            },
            "colorscale": [
             [
              0,
              "#0d0887"
             ],
             [
              0.1111111111111111,
              "#46039f"
             ],
             [
              0.2222222222222222,
              "#7201a8"
             ],
             [
              0.3333333333333333,
              "#9c179e"
             ],
             [
              0.4444444444444444,
              "#bd3786"
             ],
             [
              0.5555555555555556,
              "#d8576b"
             ],
             [
              0.6666666666666666,
              "#ed7953"
             ],
             [
              0.7777777777777778,
              "#fb9f3a"
             ],
             [
              0.8888888888888888,
              "#fdca26"
             ],
             [
              1,
              "#f0f921"
             ]
            ],
            "type": "histogram2d"
           }
          ],
          "histogram2dcontour": [
           {
            "colorbar": {
             "outlinewidth": 0,
             "ticks": ""
            },
            "colorscale": [
             [
              0,
              "#0d0887"
             ],
             [
              0.1111111111111111,
              "#46039f"
             ],
             [
              0.2222222222222222,
              "#7201a8"
             ],
             [
              0.3333333333333333,
              "#9c179e"
             ],
             [
              0.4444444444444444,
              "#bd3786"
             ],
             [
              0.5555555555555556,
              "#d8576b"
             ],
             [
              0.6666666666666666,
              "#ed7953"
             ],
             [
              0.7777777777777778,
              "#fb9f3a"
             ],
             [
              0.8888888888888888,
              "#fdca26"
             ],
             [
              1,
              "#f0f921"
             ]
            ],
            "type": "histogram2dcontour"
           }
          ],
          "mesh3d": [
           {
            "colorbar": {
             "outlinewidth": 0,
             "ticks": ""
            },
            "type": "mesh3d"
           }
          ],
          "parcoords": [
           {
            "line": {
             "colorbar": {
              "outlinewidth": 0,
              "ticks": ""
             }
            },
            "type": "parcoords"
           }
          ],
          "pie": [
           {
            "automargin": true,
            "type": "pie"
           }
          ],
          "scatter": [
           {
            "fillpattern": {
             "fillmode": "overlay",
             "size": 10,
             "solidity": 0.2
            },
            "type": "scatter"
           }
          ],
          "scatter3d": [
           {
            "line": {
             "colorbar": {
              "outlinewidth": 0,
              "ticks": ""
             }
            },
            "marker": {
             "colorbar": {
              "outlinewidth": 0,
              "ticks": ""
             }
            },
            "type": "scatter3d"
           }
          ],
          "scattercarpet": [
           {
            "marker": {
             "colorbar": {
              "outlinewidth": 0,
              "ticks": ""
             }
            },
            "type": "scattercarpet"
           }
          ],
          "scattergeo": [
           {
            "marker": {
             "colorbar": {
              "outlinewidth": 0,
              "ticks": ""
             }
            },
            "type": "scattergeo"
           }
          ],
          "scattergl": [
           {
            "marker": {
             "colorbar": {
              "outlinewidth": 0,
              "ticks": ""
             }
            },
            "type": "scattergl"
           }
          ],
          "scattermapbox": [
           {
            "marker": {
             "colorbar": {
              "outlinewidth": 0,
              "ticks": ""
             }
            },
            "type": "scattermapbox"
           }
          ],
          "scatterpolar": [
           {
            "marker": {
             "colorbar": {
              "outlinewidth": 0,
              "ticks": ""
             }
            },
            "type": "scatterpolar"
           }
          ],
          "scatterpolargl": [
           {
            "marker": {
             "colorbar": {
              "outlinewidth": 0,
              "ticks": ""
             }
            },
            "type": "scatterpolargl"
           }
          ],
          "scatterternary": [
           {
            "marker": {
             "colorbar": {
              "outlinewidth": 0,
              "ticks": ""
             }
            },
            "type": "scatterternary"
           }
          ],
          "surface": [
           {
            "colorbar": {
             "outlinewidth": 0,
             "ticks": ""
            },
            "colorscale": [
             [
              0,
              "#0d0887"
             ],
             [
              0.1111111111111111,
              "#46039f"
             ],
             [
              0.2222222222222222,
              "#7201a8"
             ],
             [
              0.3333333333333333,
              "#9c179e"
             ],
             [
              0.4444444444444444,
              "#bd3786"
             ],
             [
              0.5555555555555556,
              "#d8576b"
             ],
             [
              0.6666666666666666,
              "#ed7953"
             ],
             [
              0.7777777777777778,
              "#fb9f3a"
             ],
             [
              0.8888888888888888,
              "#fdca26"
             ],
             [
              1,
              "#f0f921"
             ]
            ],
            "type": "surface"
           }
          ],
          "table": [
           {
            "cells": {
             "fill": {
              "color": "#EBF0F8"
             },
             "line": {
              "color": "white"
             }
            },
            "header": {
             "fill": {
              "color": "#C8D4E3"
             },
             "line": {
              "color": "white"
             }
            },
            "type": "table"
           }
          ]
         },
         "layout": {
          "annotationdefaults": {
           "arrowcolor": "#2a3f5f",
           "arrowhead": 0,
           "arrowwidth": 1
          },
          "autotypenumbers": "strict",
          "coloraxis": {
           "colorbar": {
            "outlinewidth": 0,
            "ticks": ""
           }
          },
          "colorscale": {
           "diverging": [
            [
             0,
             "#8e0152"
            ],
            [
             0.1,
             "#c51b7d"
            ],
            [
             0.2,
             "#de77ae"
            ],
            [
             0.3,
             "#f1b6da"
            ],
            [
             0.4,
             "#fde0ef"
            ],
            [
             0.5,
             "#f7f7f7"
            ],
            [
             0.6,
             "#e6f5d0"
            ],
            [
             0.7,
             "#b8e186"
            ],
            [
             0.8,
             "#7fbc41"
            ],
            [
             0.9,
             "#4d9221"
            ],
            [
             1,
             "#276419"
            ]
           ],
           "sequential": [
            [
             0,
             "#0d0887"
            ],
            [
             0.1111111111111111,
             "#46039f"
            ],
            [
             0.2222222222222222,
             "#7201a8"
            ],
            [
             0.3333333333333333,
             "#9c179e"
            ],
            [
             0.4444444444444444,
             "#bd3786"
            ],
            [
             0.5555555555555556,
             "#d8576b"
            ],
            [
             0.6666666666666666,
             "#ed7953"
            ],
            [
             0.7777777777777778,
             "#fb9f3a"
            ],
            [
             0.8888888888888888,
             "#fdca26"
            ],
            [
             1,
             "#f0f921"
            ]
           ],
           "sequentialminus": [
            [
             0,
             "#0d0887"
            ],
            [
             0.1111111111111111,
             "#46039f"
            ],
            [
             0.2222222222222222,
             "#7201a8"
            ],
            [
             0.3333333333333333,
             "#9c179e"
            ],
            [
             0.4444444444444444,
             "#bd3786"
            ],
            [
             0.5555555555555556,
             "#d8576b"
            ],
            [
             0.6666666666666666,
             "#ed7953"
            ],
            [
             0.7777777777777778,
             "#fb9f3a"
            ],
            [
             0.8888888888888888,
             "#fdca26"
            ],
            [
             1,
             "#f0f921"
            ]
           ]
          },
          "colorway": [
           "#636efa",
           "#EF553B",
           "#00cc96",
           "#ab63fa",
           "#FFA15A",
           "#19d3f3",
           "#FF6692",
           "#B6E880",
           "#FF97FF",
           "#FECB52"
          ],
          "font": {
           "color": "#2a3f5f"
          },
          "geo": {
           "bgcolor": "white",
           "lakecolor": "white",
           "landcolor": "#E5ECF6",
           "showlakes": true,
           "showland": true,
           "subunitcolor": "white"
          },
          "hoverlabel": {
           "align": "left"
          },
          "hovermode": "closest",
          "mapbox": {
           "style": "light"
          },
          "paper_bgcolor": "white",
          "plot_bgcolor": "#E5ECF6",
          "polar": {
           "angularaxis": {
            "gridcolor": "white",
            "linecolor": "white",
            "ticks": ""
           },
           "bgcolor": "#E5ECF6",
           "radialaxis": {
            "gridcolor": "white",
            "linecolor": "white",
            "ticks": ""
           }
          },
          "scene": {
           "xaxis": {
            "backgroundcolor": "#E5ECF6",
            "gridcolor": "white",
            "gridwidth": 2,
            "linecolor": "white",
            "showbackground": true,
            "ticks": "",
            "zerolinecolor": "white"
           },
           "yaxis": {
            "backgroundcolor": "#E5ECF6",
            "gridcolor": "white",
            "gridwidth": 2,
            "linecolor": "white",
            "showbackground": true,
            "ticks": "",
            "zerolinecolor": "white"
           },
           "zaxis": {
            "backgroundcolor": "#E5ECF6",
            "gridcolor": "white",
            "gridwidth": 2,
            "linecolor": "white",
            "showbackground": true,
            "ticks": "",
            "zerolinecolor": "white"
           }
          },
          "shapedefaults": {
           "line": {
            "color": "#2a3f5f"
           }
          },
          "ternary": {
           "aaxis": {
            "gridcolor": "white",
            "linecolor": "white",
            "ticks": ""
           },
           "baxis": {
            "gridcolor": "white",
            "linecolor": "white",
            "ticks": ""
           },
           "bgcolor": "#E5ECF6",
           "caxis": {
            "gridcolor": "white",
            "linecolor": "white",
            "ticks": ""
           }
          },
          "title": {
           "x": 0.05
          },
          "xaxis": {
           "automargin": true,
           "gridcolor": "white",
           "linecolor": "white",
           "ticks": "",
           "title": {
            "standoff": 15
           },
           "zerolinecolor": "white",
           "zerolinewidth": 2
          },
          "yaxis": {
           "automargin": true,
           "gridcolor": "white",
           "linecolor": "white",
           "ticks": "",
           "title": {
            "standoff": 15
           },
           "zerolinecolor": "white",
           "zerolinewidth": 2
          }
         }
        },
        "xaxis": {
         "anchor": "y",
         "domain": [
          0,
          1
         ],
         "title": {
          "text": "Year"
         }
        },
        "yaxis": {
         "anchor": "x",
         "domain": [
          0,
          1
         ],
         "title": {
          "text": "Price"
         }
        }
       }
      }
     },
     "metadata": {},
     "output_type": "display_data"
    }
   ],
   "source": [
    "px.scatter(x=df_year_price['Year:'], y=df_year_price['Price:'], labels={'x': 'Year', 'y': 'Price'})"
   ]
  },
  {
   "cell_type": "code",
   "execution_count": 8,
   "metadata": {},
   "outputs": [
    {
     "data": {
      "application/vnd.plotly.v1+json": {
       "config": {
        "plotlyServerURL": "https://plot.ly"
       },
       "data": [
        {
         "alignmentgroup": "True",
         "hovertemplate": "Year=%{x}<br>Price=%{y}<extra></extra>",
         "legendgroup": "",
         "marker": {
          "color": "#636efa"
         },
         "name": "",
         "notched": false,
         "offsetgroup": "",
         "orientation": "v",
         "showlegend": false,
         "type": "box",
         "x": [
          2012,
          2010,
          2016,
          2017,
          2017,
          2015,
          2017,
          2018,
          2017,
          2022,
          2022,
          2021,
          2016,
          2017,
          2020,
          2016,
          2020,
          2022,
          2021,
          2018,
          2013,
          2015,
          2019,
          2007,
          2010,
          2016,
          2015,
          2020,
          2013,
          2016,
          2016,
          2021,
          2023,
          2023,
          2016,
          2019,
          2019,
          2015,
          2017,
          2020,
          2021,
          2017,
          2018,
          2017,
          2020,
          2020,
          2020,
          2020,
          2020,
          2021,
          2020,
          2013,
          2021,
          2016,
          2022,
          2022,
          2022,
          2022,
          2022,
          2018,
          2020,
          2019,
          2021,
          2021,
          2020,
          2022,
          2017,
          2019,
          2023,
          2017,
          2019,
          2023,
          2023,
          2023,
          2023,
          2023,
          2020,
          2016,
          2013,
          2016,
          2018,
          2022,
          2012,
          2016,
          2017,
          2019,
          2020,
          2017,
          2020,
          2021,
          2016,
          2020,
          2023,
          2023,
          2022,
          2020,
          2022,
          2019,
          2022,
          2020,
          2020,
          2019,
          2021,
          2020,
          2016,
          2015,
          2015,
          2017,
          2022,
          2022,
          2020,
          2022,
          2021,
          2015,
          2022,
          2019,
          2021,
          2021,
          2018,
          2009,
          2007,
          2021,
          2019,
          2018,
          2018,
          2017,
          2015,
          2011,
          2009,
          2007,
          2016,
          2008,
          2008,
          2006,
          2006,
          2007,
          2016,
          2013,
          2005,
          2017,
          2008,
          2014,
          2010,
          2005,
          2014,
          2016,
          2015,
          2014,
          2008,
          2006,
          2010,
          2009,
          2011,
          2019,
          2011,
          2009,
          2016,
          2010,
          2015,
          2010,
          2010,
          2014,
          2016,
          2015,
          2014,
          2021,
          2022,
          2022,
          2021,
          2015,
          2019,
          2016,
          2016,
          2016,
          2023,
          2021,
          2018,
          2019,
          2017,
          2019,
          2019,
          2019,
          2015,
          2021,
          2021,
          2021,
          2021,
          2017,
          2020,
          2023,
          2018,
          2016,
          2018,
          2020,
          2021,
          2020,
          2019,
          2011,
          2021,
          2021,
          2015,
          2022,
          2020,
          2019,
          2019,
          2021,
          2022,
          2022,
          2022,
          2022,
          2022,
          2022,
          2022,
          2022,
          2022,
          2022,
          2022,
          2022,
          2022,
          2022,
          2022,
          2017,
          2022,
          2021,
          2022,
          2021,
          2020,
          2023,
          2023,
          2022,
          2014,
          2019,
          2015,
          2016,
          2019,
          2015,
          2012,
          2016,
          2018,
          2014,
          2013,
          2012,
          2011,
          2011,
          2010,
          2010,
          2009,
          2007,
          2014,
          2018,
          2015,
          2014,
          2017,
          2021,
          2019,
          2020,
          2017,
          2021,
          2014,
          2015,
          2016,
          2023,
          2023,
          2023,
          2023,
          2023,
          2023,
          2023,
          2023,
          2023,
          2023,
          2019,
          2010,
          2019,
          2023,
          2023,
          2023,
          2023,
          2022,
          2016,
          2016,
          2020,
          2016,
          2022,
          2018,
          2020,
          2016,
          2019,
          2019,
          2018,
          2007,
          2022,
          2013,
          2016,
          2021,
          2018,
          2018,
          2015,
          2016,
          2018,
          2018,
          2018,
          2020,
          2016,
          2019,
          2017,
          2014,
          2017,
          2019,
          2014,
          2015,
          2015,
          2019,
          2017,
          2016,
          2018,
          2014,
          2017,
          2018,
          2019,
          2017,
          2017,
          2022,
          2019,
          2017,
          2017,
          2022,
          2019,
          2017,
          2016,
          2019,
          2016,
          2014,
          2017,
          2018,
          2015,
          2015,
          2011,
          2011,
          2015,
          2017,
          2012,
          2016,
          2017,
          2016,
          2021,
          2021,
          2016,
          2014,
          2013,
          2014,
          2016,
          2014,
          2017,
          2016,
          2016,
          2019,
          2019,
          2022,
          2018,
          2017,
          2017,
          2019,
          2017,
          2022,
          2014,
          2017,
          2019,
          2016,
          2014,
          2012,
          2016,
          2016,
          2018,
          2019,
          2018,
          2014,
          2016,
          2016,
          2016,
          2019,
          2012,
          2019,
          2012,
          2019,
          2016,
          2009,
          2019,
          2020,
          2016,
          2019,
          2017,
          2017,
          2021,
          2017,
          2019,
          2013,
          2015,
          2017,
          2021,
          2012,
          2016,
          2016,
          2019,
          2017,
          2016,
          2018,
          2013,
          2017,
          2017,
          2019,
          2013,
          2015,
          2009,
          2013,
          2017,
          2016,
          2015,
          2010,
          2016,
          2013,
          2017,
          2022,
          2023,
          2008,
          2018,
          2010,
          2016,
          2014,
          2015,
          2014,
          2017,
          2021,
          2019,
          2015,
          2015,
          2014,
          2015,
          2017,
          2019,
          2018,
          2015,
          2019,
          2018,
          2017,
          2012,
          2019,
          2016,
          2017,
          2013,
          2017,
          2018,
          2019,
          2017,
          2016,
          2015,
          2020,
          2021,
          2016,
          2021,
          2020,
          2020,
          2022,
          2022,
          2015,
          2021,
          2018,
          2018,
          2019,
          2019,
          2021,
          2016,
          2012,
          2015,
          2022,
          2014,
          2013,
          2011,
          2016,
          2013,
          2017,
          2016,
          2014,
          2016,
          2008,
          2007,
          2020,
          2013,
          2016,
          2017,
          2011,
          2015,
          2018,
          2014,
          2019,
          2022,
          2007,
          2013,
          2016,
          2019,
          2019,
          2013,
          2009,
          2015,
          2017,
          2019,
          2019,
          2014,
          2017,
          2019,
          2013,
          2010,
          2012,
          2015,
          2017,
          2018,
          2019,
          2013,
          2023,
          2010,
          2008,
          2014,
          2009,
          2011,
          2014,
          2011,
          2013,
          2016,
          2016,
          2017,
          2010,
          2014,
          2019,
          2017,
          2018,
          2019,
          2019,
          2016,
          2019,
          2015,
          2020,
          2017,
          2020,
          2014,
          2013,
          2016,
          2014,
          2015,
          2015,
          2018,
          2017,
          2014,
          2016,
          2016,
          2018,
          2017,
          2012,
          2020,
          2016,
          2018,
          2018,
          2020,
          2016,
          2011,
          2018,
          2016,
          2012,
          2017,
          2017,
          2013,
          2013,
          2016,
          2016,
          2017,
          2007,
          2017,
          2016,
          2014,
          2011,
          2019,
          2014,
          2019,
          2015,
          2016,
          2017,
          2023,
          2023,
          2014,
          2019,
          2015,
          2019,
          2014,
          2011,
          2020,
          2018,
          2018,
          2019,
          2015,
          2019,
          2014,
          2017,
          2005,
          2013,
          2015,
          2014,
          2007,
          2012,
          2023,
          2019,
          2019,
          2016,
          2015,
          2008,
          2010,
          2017,
          2011,
          2015,
          2015,
          2022,
          2017,
          2021,
          2015,
          2015,
          2020,
          2017,
          2019,
          2017,
          2012,
          2020,
          2021,
          2016,
          2019,
          2011,
          2015,
          2017,
          2014,
          2013,
          2009,
          2010,
          2011,
          2015,
          2020,
          2011,
          2010,
          2020,
          2014,
          2018,
          2018,
          2020,
          2008,
          2016,
          2019,
          2021,
          2023,
          2018,
          2015,
          2017,
          2019,
          2017,
          2020,
          2005,
          2018,
          2015,
          2015,
          2015,
          2012,
          2023,
          2014,
          2016,
          2019,
          2008,
          2014,
          2017,
          2018,
          2019,
          2018,
          2019,
          2017,
          2017,
          2020,
          2017,
          2018,
          2007,
          2015,
          2022,
          2019,
          2016,
          2013,
          2013,
          2012,
          2015,
          2013,
          2014,
          2017,
          2017,
          2022,
          2016,
          2014,
          2014,
          2017,
          2014,
          2015,
          2015,
          2017,
          2006,
          2012,
          2019,
          2013,
          2015,
          2019,
          2022,
          2023,
          2015,
          2013,
          2015,
          2013,
          2022,
          2018,
          2020,
          2022,
          2018,
          2017,
          2018,
          2016,
          2022,
          2019,
          2013,
          2011,
          2012,
          2017,
          2009,
          2017,
          2013,
          2015,
          2017,
          2016,
          2020,
          2020,
          2022,
          2016,
          2018,
          2017,
          2021,
          2019,
          2015,
          2022,
          2017,
          2017,
          2017,
          2020,
          2023,
          2016,
          2023,
          2019,
          2017,
          2022,
          2021,
          2023,
          2023,
          2020,
          2019,
          2018,
          2018,
          2020,
          2023,
          2021,
          2023,
          2019,
          2022,
          2016,
          2019,
          2021,
          2007,
          2019,
          2022,
          2022,
          2020,
          2021,
          2017,
          2018,
          2015,
          2018,
          2016,
          2017,
          2017,
          2021,
          2016,
          2018,
          2022,
          2018,
          2020,
          2022,
          2016,
          2020,
          2020,
          2022,
          2023,
          2022,
          2020,
          2023,
          2020,
          2019,
          2020,
          2020,
          2018,
          2019,
          2019,
          2017,
          2018,
          2017,
          2014,
          2008,
          2015,
          2015,
          2014,
          2013,
          2019,
          2013,
          2015,
          2015,
          2014,
          2018,
          2018,
          2022,
          2022,
          2022,
          2016,
          2018,
          2020,
          2007,
          2022,
          2018,
          2023,
          2023,
          2022,
          2019,
          2017,
          2023,
          2019,
          2023,
          2021,
          2021,
          2016,
          2009,
          2021,
          2018,
          2019,
          2014,
          2019,
          2020,
          2017,
          2017,
          2021,
          2019,
          2018,
          2022,
          2022,
          2017,
          2019,
          2021,
          2020,
          2020,
          2020,
          2021,
          2017,
          2017,
          2015,
          2014,
          2014,
          2013,
          2013,
          2013,
          2012,
          2012,
          2011,
          2009,
          2008,
          2008,
          2004,
          2017,
          2016,
          2016,
          2016,
          2015,
          2014,
          2014,
          2013,
          2012,
          2012,
          2011,
          2010,
          2008,
          2017,
          2012,
          2014,
          2013,
          2011,
          2013,
          2022
         ],
         "x0": " ",
         "xaxis": "x",
         "y": [
          8295,
          3800,
          17950,
          9950,
          22950,
          null,
          24990,
          36950,
          29995,
          43995,
          66995,
          94995,
          18995,
          23750,
          31995,
          24950,
          47950,
          94995,
          22995,
          52950,
          9950,
          18950,
          35950,
          5950,
          8950,
          null,
          null,
          46995,
          null,
          null,
          null,
          null,
          46748,
          41300,
          15900,
          16750,
          null,
          11890,
          17950,
          24500,
          52900,
          34950,
          19995,
          15995,
          28900,
          18490,
          18490,
          23790,
          23790,
          31490,
          23950,
          null,
          28990,
          29950,
          27450,
          27450,
          27450,
          27450,
          27450,
          14800,
          135000,
          79950,
          22595,
          22595,
          18975,
          59475,
          9495,
          18995,
          null,
          15900,
          24900,
          null,
          null,
          null,
          null,
          null,
          79950,
          9995,
          6950,
          17950,
          23995,
          22995,
          null,
          null,
          17950,
          null,
          null,
          14895,
          32995,
          27950,
          13740,
          31900,
          null,
          27240,
          null,
          35900,
          69900,
          45900,
          46900,
          44900,
          42900,
          79900,
          29995,
          37950,
          18495,
          18995,
          12995,
          17895,
          19295,
          19295,
          18950,
          33495,
          51950,
          14450,
          40895,
          34995,
          33995,
          29995,
          25950,
          7250,
          3250,
          null,
          null,
          null,
          null,
          null,
          null,
          null,
          null,
          null,
          null,
          null,
          null,
          null,
          null,
          null,
          null,
          null,
          null,
          null,
          6950,
          null,
          null,
          null,
          null,
          null,
          null,
          null,
          null,
          null,
          null,
          null,
          null,
          null,
          null,
          null,
          null,
          null,
          null,
          null,
          null,
          null,
          null,
          null,
          null,
          35950,
          29270,
          29070,
          15895,
          21995,
          43995,
          28995,
          34995,
          12495,
          null,
          46995,
          32995,
          null,
          13995,
          null,
          null,
          null,
          null,
          18495,
          23495,
          27495,
          29495,
          null,
          18490,
          42320,
          20994,
          17950,
          23500,
          32995,
          47995,
          29995,
          24995,
          5950,
          18495,
          30995,
          12495,
          34900,
          null,
          null,
          18900,
          22900,
          20900,
          19900,
          19900,
          27450,
          27450,
          27450,
          27450,
          27450,
          27450,
          27450,
          27450,
          27450,
          27450,
          27450,
          27450,
          21900,
          31900,
          20495,
          27995,
          57950,
          55950,
          55265,
          57627,
          28950,
          19950,
          45950,
          16495,
          null,
          null,
          null,
          null,
          null,
          null,
          null,
          null,
          null,
          null,
          null,
          null,
          null,
          null,
          null,
          null,
          null,
          null,
          null,
          null,
          65850,
          23950,
          23495,
          13995,
          30995,
          14900,
          18000,
          17890,
          31900,
          23450,
          25320,
          34660,
          35995,
          36640,
          29470,
          40550,
          42620,
          41750,
          29450,
          null,
          null,
          45995,
          51200,
          52295,
          25680,
          40920,
          17995,
          29995,
          34995,
          23950,
          74950,
          31950,
          34945,
          29950,
          45950,
          18900,
          25995,
          3995,
          63950,
          14490,
          16890,
          21056,
          16950,
          null,
          10890,
          null,
          null,
          null,
          null,
          29890,
          null,
          26890,
          13290,
          null,
          null,
          null,
          9995,
          null,
          10750,
          28750,
          15950,
          7950,
          23500,
          null,
          null,
          null,
          25599,
          24399,
          22899,
          23895,
          25599,
          24399,
          22899,
          23895,
          null,
          10750,
          43950,
          17750,
          15950,
          12995,
          21900,
          18500,
          13995,
          12950,
          10750,
          10750,
          11950,
          49002,
          10900,
          22999,
          17900,
          9500,
          56950,
          33949,
          null,
          null,
          null,
          null,
          null,
          null,
          null,
          null,
          null,
          null,
          25000,
          35445,
          31449,
          null,
          22950,
          27499,
          16950,
          56450,
          10950,
          15750,
          12191,
          null,
          12500,
          7000,
          null,
          14950,
          14900,
          12900,
          18950,
          7500,
          14500,
          25995,
          25995,
          16950,
          null,
          18445,
          null,
          18445,
          17795,
          3995,
          18445,
          30995,
          null,
          18445,
          18995,
          null,
          25500,
          23995,
          18445,
          18750,
          7995,
          12250,
          31450,
          7995,
          16450,
          12500,
          null,
          22500,
          13500,
          17900,
          18950,
          14445,
          24945,
          19950,
          9950,
          19950,
          6999,
          8500,
          12900,
          14495,
          9950,
          5995,
          23495,
          7950,
          12950,
          53950,
          36195,
          10950,
          16950,
          4950,
          null,
          13950,
          13950,
          13995,
          14990,
          null,
          26950,
          13990,
          null,
          11950,
          16450,
          17950,
          25250,
          50000,
          8950,
          20950,
          22900,
          23950,
          8750,
          24950,
          15900,
          33950,
          8450,
          27950,
          26900,
          34450,
          21950,
          15990,
          12995,
          21495,
          63945,
          29945,
          70950,
          29449,
          null,
          64900,
          null,
          null,
          28495,
          null,
          null,
          16995,
          null,
          null,
          17990,
          5750,
          14950,
          null,
          11950,
          8950,
          10750,
          17995,
          8950,
          16500,
          11950,
          7995,
          16999,
          3999,
          2995,
          35950,
          6999,
          null,
          19950,
          10950,
          15950,
          42900,
          9950,
          39900,
          37995,
          1995,
          12950,
          13700,
          12995,
          12995,
          13450,
          null,
          17950,
          21950,
          null,
          21990,
          14900,
          19950,
          20950,
          9900,
          3900,
          6850,
          15900,
          19900,
          23900,
          30950,
          5750,
          27000,
          4250,
          2450,
          10995,
          11000,
          5750,
          14450,
          6800,
          7200,
          17950,
          10995,
          25495,
          5950,
          14250,
          24950,
          null,
          null,
          null,
          33750,
          20500,
          80900,
          36950,
          53995,
          14950,
          29995,
          22950,
          7950,
          null,
          9950,
          13950,
          16945,
          19995,
          null,
          11995,
          18250,
          23950,
          16900,
          26900,
          6400,
          32950,
          null,
          25695,
          18995,
          null,
          null,
          10950,
          16995,
          11900,
          12900,
          13900,
          65900,
          8250,
          8950,
          26995,
          14950,
          17950,
          2500,
          null,
          17990,
          17500,
          null,
          27950,
          12950,
          19995,
          9800,
          14750,
          15995,
          42545,
          25095,
          14950,
          16450,
          10999,
          17999,
          12750,
          2750,
          35950,
          17950,
          18950,
          13450,
          null,
          22950,
          14750,
          16950,
          2250,
          11750,
          22950,
          15900,
          2999,
          6950,
          28532,
          24700,
          26950,
          40995,
          null,
          3250,
          5500,
          18900,
          9995,
          12975,
          9995,
          38500,
          18450,
          20995,
          12495,
          15950,
          28950,
          17950,
          38950,
          13950,
          null,
          23000,
          null,
          null,
          34940,
          9900,
          13950,
          18995,
          9995,
          12950,
          5950,
          7950,
          5995,
          12250,
          19900,
          4999,
          4599,
          29950,
          17999,
          79950,
          18950,
          28900,
          3800,
          46950,
          16950,
          18500,
          46945,
          16500,
          8999,
          null,
          27950,
          29900,
          43900,
          2950,
          16450,
          16450,
          8995,
          16450,
          null,
          32045,
          9950,
          11950,
          18500,
          2250,
          8750,
          24600,
          16500,
          23950,
          24900,
          19950,
          10950,
          12950,
          25000,
          12450,
          null,
          2990,
          null,
          19950,
          22450,
          14950,
          11900,
          13450,
          null,
          8750,
          20900,
          8950,
          13900,
          15950,
          62950,
          13995,
          9500,
          32950,
          13950,
          15450,
          45528,
          null,
          15950,
          null,
          null,
          26995,
          13990,
          9990,
          null,
          null,
          null,
          null,
          null,
          null,
          11950,
          null,
          null,
          49900,
          66900,
          35900,
          null,
          21440,
          25950,
          45950,
          14995,
          7950,
          5950,
          18500,
          16500,
          5999,
          19950,
          17900,
          null,
          21995,
          null,
          32950,
          67950,
          null,
          17845,
          23950,
          45950,
          34950,
          15443,
          9895,
          47995,
          12490,
          19440,
          10890,
          null,
          28390,
          17994,
          24740,
          27950,
          17990,
          20900,
          20905,
          50195,
          55950,
          55950,
          18595,
          34995,
          13995,
          17595,
          62875,
          50950,
          null,
          24900,
          15650,
          22495,
          11995,
          17995,
          13500,
          12900,
          46995,
          41450,
          null,
          107950,
          31950,
          14995,
          12995,
          11495,
          16995,
          13950,
          22950,
          27650,
          12995,
          23495,
          33495,
          16995,
          24995,
          96995,
          13900,
          59750,
          23950,
          null,
          69950,
          27900,
          null,
          27295,
          36950,
          null,
          40950,
          null,
          17495,
          19495,
          15995,
          13995,
          null,
          null,
          null,
          null,
          15995,
          15995,
          21950,
          7500,
          33950,
          null,
          null,
          null,
          null,
          23950,
          34950,
          42995,
          64995,
          61995,
          16995,
          15995,
          32995,
          1950,
          null,
          31900,
          31590,
          29700,
          null,
          14450,
          23950,
          37068,
          24999,
          25340,
          31495,
          59950,
          20995,
          3495,
          20995,
          null,
          33995,
          9995,
          38900,
          49950,
          15900,
          16900,
          16495,
          null,
          null,
          53950,
          51950,
          33950,
          52950,
          93950,
          46475,
          61175,
          22950,
          23500,
          null,
          null,
          null,
          null,
          null,
          null,
          null,
          null,
          null,
          null,
          null,
          null,
          null,
          null,
          null,
          null,
          null,
          null,
          null,
          null,
          null,
          null,
          null,
          null,
          null,
          null,
          null,
          null,
          null,
          null,
          null,
          null,
          null,
          10995,
          37950
         ],
         "y0": " ",
         "yaxis": "y"
        }
       ],
       "layout": {
        "boxmode": "group",
        "legend": {
         "tracegroupgap": 0
        },
        "margin": {
         "t": 60
        },
        "template": {
         "data": {
          "bar": [
           {
            "error_x": {
             "color": "#2a3f5f"
            },
            "error_y": {
             "color": "#2a3f5f"
            },
            "marker": {
             "line": {
              "color": "#E5ECF6",
              "width": 0.5
             },
             "pattern": {
              "fillmode": "overlay",
              "size": 10,
              "solidity": 0.2
             }
            },
            "type": "bar"
           }
          ],
          "barpolar": [
           {
            "marker": {
             "line": {
              "color": "#E5ECF6",
              "width": 0.5
             },
             "pattern": {
              "fillmode": "overlay",
              "size": 10,
              "solidity": 0.2
             }
            },
            "type": "barpolar"
           }
          ],
          "carpet": [
           {
            "aaxis": {
             "endlinecolor": "#2a3f5f",
             "gridcolor": "white",
             "linecolor": "white",
             "minorgridcolor": "white",
             "startlinecolor": "#2a3f5f"
            },
            "baxis": {
             "endlinecolor": "#2a3f5f",
             "gridcolor": "white",
             "linecolor": "white",
             "minorgridcolor": "white",
             "startlinecolor": "#2a3f5f"
            },
            "type": "carpet"
           }
          ],
          "choropleth": [
           {
            "colorbar": {
             "outlinewidth": 0,
             "ticks": ""
            },
            "type": "choropleth"
           }
          ],
          "contour": [
           {
            "colorbar": {
             "outlinewidth": 0,
             "ticks": ""
            },
            "colorscale": [
             [
              0,
              "#0d0887"
             ],
             [
              0.1111111111111111,
              "#46039f"
             ],
             [
              0.2222222222222222,
              "#7201a8"
             ],
             [
              0.3333333333333333,
              "#9c179e"
             ],
             [
              0.4444444444444444,
              "#bd3786"
             ],
             [
              0.5555555555555556,
              "#d8576b"
             ],
             [
              0.6666666666666666,
              "#ed7953"
             ],
             [
              0.7777777777777778,
              "#fb9f3a"
             ],
             [
              0.8888888888888888,
              "#fdca26"
             ],
             [
              1,
              "#f0f921"
             ]
            ],
            "type": "contour"
           }
          ],
          "contourcarpet": [
           {
            "colorbar": {
             "outlinewidth": 0,
             "ticks": ""
            },
            "type": "contourcarpet"
           }
          ],
          "heatmap": [
           {
            "colorbar": {
             "outlinewidth": 0,
             "ticks": ""
            },
            "colorscale": [
             [
              0,
              "#0d0887"
             ],
             [
              0.1111111111111111,
              "#46039f"
             ],
             [
              0.2222222222222222,
              "#7201a8"
             ],
             [
              0.3333333333333333,
              "#9c179e"
             ],
             [
              0.4444444444444444,
              "#bd3786"
             ],
             [
              0.5555555555555556,
              "#d8576b"
             ],
             [
              0.6666666666666666,
              "#ed7953"
             ],
             [
              0.7777777777777778,
              "#fb9f3a"
             ],
             [
              0.8888888888888888,
              "#fdca26"
             ],
             [
              1,
              "#f0f921"
             ]
            ],
            "type": "heatmap"
           }
          ],
          "heatmapgl": [
           {
            "colorbar": {
             "outlinewidth": 0,
             "ticks": ""
            },
            "colorscale": [
             [
              0,
              "#0d0887"
             ],
             [
              0.1111111111111111,
              "#46039f"
             ],
             [
              0.2222222222222222,
              "#7201a8"
             ],
             [
              0.3333333333333333,
              "#9c179e"
             ],
             [
              0.4444444444444444,
              "#bd3786"
             ],
             [
              0.5555555555555556,
              "#d8576b"
             ],
             [
              0.6666666666666666,
              "#ed7953"
             ],
             [
              0.7777777777777778,
              "#fb9f3a"
             ],
             [
              0.8888888888888888,
              "#fdca26"
             ],
             [
              1,
              "#f0f921"
             ]
            ],
            "type": "heatmapgl"
           }
          ],
          "histogram": [
           {
            "marker": {
             "pattern": {
              "fillmode": "overlay",
              "size": 10,
              "solidity": 0.2
             }
            },
            "type": "histogram"
           }
          ],
          "histogram2d": [
           {
            "colorbar": {
             "outlinewidth": 0,
             "ticks": ""
            },
            "colorscale": [
             [
              0,
              "#0d0887"
             ],
             [
              0.1111111111111111,
              "#46039f"
             ],
             [
              0.2222222222222222,
              "#7201a8"
             ],
             [
              0.3333333333333333,
              "#9c179e"
             ],
             [
              0.4444444444444444,
              "#bd3786"
             ],
             [
              0.5555555555555556,
              "#d8576b"
             ],
             [
              0.6666666666666666,
              "#ed7953"
             ],
             [
              0.7777777777777778,
              "#fb9f3a"
             ],
             [
              0.8888888888888888,
              "#fdca26"
             ],
             [
              1,
              "#f0f921"
             ]
            ],
            "type": "histogram2d"
           }
          ],
          "histogram2dcontour": [
           {
            "colorbar": {
             "outlinewidth": 0,
             "ticks": ""
            },
            "colorscale": [
             [
              0,
              "#0d0887"
             ],
             [
              0.1111111111111111,
              "#46039f"
             ],
             [
              0.2222222222222222,
              "#7201a8"
             ],
             [
              0.3333333333333333,
              "#9c179e"
             ],
             [
              0.4444444444444444,
              "#bd3786"
             ],
             [
              0.5555555555555556,
              "#d8576b"
             ],
             [
              0.6666666666666666,
              "#ed7953"
             ],
             [
              0.7777777777777778,
              "#fb9f3a"
             ],
             [
              0.8888888888888888,
              "#fdca26"
             ],
             [
              1,
              "#f0f921"
             ]
            ],
            "type": "histogram2dcontour"
           }
          ],
          "mesh3d": [
           {
            "colorbar": {
             "outlinewidth": 0,
             "ticks": ""
            },
            "type": "mesh3d"
           }
          ],
          "parcoords": [
           {
            "line": {
             "colorbar": {
              "outlinewidth": 0,
              "ticks": ""
             }
            },
            "type": "parcoords"
           }
          ],
          "pie": [
           {
            "automargin": true,
            "type": "pie"
           }
          ],
          "scatter": [
           {
            "fillpattern": {
             "fillmode": "overlay",
             "size": 10,
             "solidity": 0.2
            },
            "type": "scatter"
           }
          ],
          "scatter3d": [
           {
            "line": {
             "colorbar": {
              "outlinewidth": 0,
              "ticks": ""
             }
            },
            "marker": {
             "colorbar": {
              "outlinewidth": 0,
              "ticks": ""
             }
            },
            "type": "scatter3d"
           }
          ],
          "scattercarpet": [
           {
            "marker": {
             "colorbar": {
              "outlinewidth": 0,
              "ticks": ""
             }
            },
            "type": "scattercarpet"
           }
          ],
          "scattergeo": [
           {
            "marker": {
             "colorbar": {
              "outlinewidth": 0,
              "ticks": ""
             }
            },
            "type": "scattergeo"
           }
          ],
          "scattergl": [
           {
            "marker": {
             "colorbar": {
              "outlinewidth": 0,
              "ticks": ""
             }
            },
            "type": "scattergl"
           }
          ],
          "scattermapbox": [
           {
            "marker": {
             "colorbar": {
              "outlinewidth": 0,
              "ticks": ""
             }
            },
            "type": "scattermapbox"
           }
          ],
          "scatterpolar": [
           {
            "marker": {
             "colorbar": {
              "outlinewidth": 0,
              "ticks": ""
             }
            },
            "type": "scatterpolar"
           }
          ],
          "scatterpolargl": [
           {
            "marker": {
             "colorbar": {
              "outlinewidth": 0,
              "ticks": ""
             }
            },
            "type": "scatterpolargl"
           }
          ],
          "scatterternary": [
           {
            "marker": {
             "colorbar": {
              "outlinewidth": 0,
              "ticks": ""
             }
            },
            "type": "scatterternary"
           }
          ],
          "surface": [
           {
            "colorbar": {
             "outlinewidth": 0,
             "ticks": ""
            },
            "colorscale": [
             [
              0,
              "#0d0887"
             ],
             [
              0.1111111111111111,
              "#46039f"
             ],
             [
              0.2222222222222222,
              "#7201a8"
             ],
             [
              0.3333333333333333,
              "#9c179e"
             ],
             [
              0.4444444444444444,
              "#bd3786"
             ],
             [
              0.5555555555555556,
              "#d8576b"
             ],
             [
              0.6666666666666666,
              "#ed7953"
             ],
             [
              0.7777777777777778,
              "#fb9f3a"
             ],
             [
              0.8888888888888888,
              "#fdca26"
             ],
             [
              1,
              "#f0f921"
             ]
            ],
            "type": "surface"
           }
          ],
          "table": [
           {
            "cells": {
             "fill": {
              "color": "#EBF0F8"
             },
             "line": {
              "color": "white"
             }
            },
            "header": {
             "fill": {
              "color": "#C8D4E3"
             },
             "line": {
              "color": "white"
             }
            },
            "type": "table"
           }
          ]
         },
         "layout": {
          "annotationdefaults": {
           "arrowcolor": "#2a3f5f",
           "arrowhead": 0,
           "arrowwidth": 1
          },
          "autotypenumbers": "strict",
          "coloraxis": {
           "colorbar": {
            "outlinewidth": 0,
            "ticks": ""
           }
          },
          "colorscale": {
           "diverging": [
            [
             0,
             "#8e0152"
            ],
            [
             0.1,
             "#c51b7d"
            ],
            [
             0.2,
             "#de77ae"
            ],
            [
             0.3,
             "#f1b6da"
            ],
            [
             0.4,
             "#fde0ef"
            ],
            [
             0.5,
             "#f7f7f7"
            ],
            [
             0.6,
             "#e6f5d0"
            ],
            [
             0.7,
             "#b8e186"
            ],
            [
             0.8,
             "#7fbc41"
            ],
            [
             0.9,
             "#4d9221"
            ],
            [
             1,
             "#276419"
            ]
           ],
           "sequential": [
            [
             0,
             "#0d0887"
            ],
            [
             0.1111111111111111,
             "#46039f"
            ],
            [
             0.2222222222222222,
             "#7201a8"
            ],
            [
             0.3333333333333333,
             "#9c179e"
            ],
            [
             0.4444444444444444,
             "#bd3786"
            ],
            [
             0.5555555555555556,
             "#d8576b"
            ],
            [
             0.6666666666666666,
             "#ed7953"
            ],
            [
             0.7777777777777778,
             "#fb9f3a"
            ],
            [
             0.8888888888888888,
             "#fdca26"
            ],
            [
             1,
             "#f0f921"
            ]
           ],
           "sequentialminus": [
            [
             0,
             "#0d0887"
            ],
            [
             0.1111111111111111,
             "#46039f"
            ],
            [
             0.2222222222222222,
             "#7201a8"
            ],
            [
             0.3333333333333333,
             "#9c179e"
            ],
            [
             0.4444444444444444,
             "#bd3786"
            ],
            [
             0.5555555555555556,
             "#d8576b"
            ],
            [
             0.6666666666666666,
             "#ed7953"
            ],
            [
             0.7777777777777778,
             "#fb9f3a"
            ],
            [
             0.8888888888888888,
             "#fdca26"
            ],
            [
             1,
             "#f0f921"
            ]
           ]
          },
          "colorway": [
           "#636efa",
           "#EF553B",
           "#00cc96",
           "#ab63fa",
           "#FFA15A",
           "#19d3f3",
           "#FF6692",
           "#B6E880",
           "#FF97FF",
           "#FECB52"
          ],
          "font": {
           "color": "#2a3f5f"
          },
          "geo": {
           "bgcolor": "white",
           "lakecolor": "white",
           "landcolor": "#E5ECF6",
           "showlakes": true,
           "showland": true,
           "subunitcolor": "white"
          },
          "hoverlabel": {
           "align": "left"
          },
          "hovermode": "closest",
          "mapbox": {
           "style": "light"
          },
          "paper_bgcolor": "white",
          "plot_bgcolor": "#E5ECF6",
          "polar": {
           "angularaxis": {
            "gridcolor": "white",
            "linecolor": "white",
            "ticks": ""
           },
           "bgcolor": "#E5ECF6",
           "radialaxis": {
            "gridcolor": "white",
            "linecolor": "white",
            "ticks": ""
           }
          },
          "scene": {
           "xaxis": {
            "backgroundcolor": "#E5ECF6",
            "gridcolor": "white",
            "gridwidth": 2,
            "linecolor": "white",
            "showbackground": true,
            "ticks": "",
            "zerolinecolor": "white"
           },
           "yaxis": {
            "backgroundcolor": "#E5ECF6",
            "gridcolor": "white",
            "gridwidth": 2,
            "linecolor": "white",
            "showbackground": true,
            "ticks": "",
            "zerolinecolor": "white"
           },
           "zaxis": {
            "backgroundcolor": "#E5ECF6",
            "gridcolor": "white",
            "gridwidth": 2,
            "linecolor": "white",
            "showbackground": true,
            "ticks": "",
            "zerolinecolor": "white"
           }
          },
          "shapedefaults": {
           "line": {
            "color": "#2a3f5f"
           }
          },
          "ternary": {
           "aaxis": {
            "gridcolor": "white",
            "linecolor": "white",
            "ticks": ""
           },
           "baxis": {
            "gridcolor": "white",
            "linecolor": "white",
            "ticks": ""
           },
           "bgcolor": "#E5ECF6",
           "caxis": {
            "gridcolor": "white",
            "linecolor": "white",
            "ticks": ""
           }
          },
          "title": {
           "x": 0.05
          },
          "xaxis": {
           "automargin": true,
           "gridcolor": "white",
           "linecolor": "white",
           "ticks": "",
           "title": {
            "standoff": 15
           },
           "zerolinecolor": "white",
           "zerolinewidth": 2
          },
          "yaxis": {
           "automargin": true,
           "gridcolor": "white",
           "linecolor": "white",
           "ticks": "",
           "title": {
            "standoff": 15
           },
           "zerolinecolor": "white",
           "zerolinewidth": 2
          }
         }
        },
        "xaxis": {
         "anchor": "y",
         "domain": [
          0,
          1
         ],
         "title": {
          "text": "Year"
         }
        },
        "yaxis": {
         "anchor": "x",
         "domain": [
          0,
          1
         ],
         "title": {
          "text": "Price"
         }
        }
       }
      }
     },
     "metadata": {},
     "output_type": "display_data"
    }
   ],
   "source": [
    "px.box(x=df_year_price['Year:'], y=df_year_price['Price:'], labels={'x': 'Year', 'y': 'Price'})"
   ]
  },
  {
   "cell_type": "code",
   "execution_count": 9,
   "metadata": {},
   "outputs": [],
   "source": [
    "# Get rid of cars with prices tagged as 0 or 1\n",
    "df = df[df['Price:'] > 1]"
   ]
  },
  {
   "cell_type": "code",
   "execution_count": 10,
   "metadata": {},
   "outputs": [
    {
     "data": {
      "text/html": [
       "<div>\n",
       "<style scoped>\n",
       "    .dataframe tbody tr th:only-of-type {\n",
       "        vertical-align: middle;\n",
       "    }\n",
       "\n",
       "    .dataframe tbody tr th {\n",
       "        vertical-align: top;\n",
       "    }\n",
       "\n",
       "    .dataframe thead tr th {\n",
       "        text-align: left;\n",
       "    }\n",
       "\n",
       "    .dataframe thead tr:last-of-type th {\n",
       "        text-align: right;\n",
       "    }\n",
       "</style>\n",
       "<table border=\"1\" class=\"dataframe\">\n",
       "  <thead>\n",
       "    <tr>\n",
       "      <th></th>\n",
       "      <th colspan=\"8\" halign=\"left\">Price:</th>\n",
       "    </tr>\n",
       "    <tr>\n",
       "      <th></th>\n",
       "      <th>count</th>\n",
       "      <th>mean</th>\n",
       "      <th>std</th>\n",
       "      <th>min</th>\n",
       "      <th>25%</th>\n",
       "      <th>50%</th>\n",
       "      <th>75%</th>\n",
       "      <th>max</th>\n",
       "    </tr>\n",
       "    <tr>\n",
       "      <th>Year:</th>\n",
       "      <th></th>\n",
       "      <th></th>\n",
       "      <th></th>\n",
       "      <th></th>\n",
       "      <th></th>\n",
       "      <th></th>\n",
       "      <th></th>\n",
       "      <th></th>\n",
       "    </tr>\n",
       "  </thead>\n",
       "  <tbody>\n",
       "    <tr>\n",
       "      <th>2005</th>\n",
       "      <td>2.0</td>\n",
       "      <td>2600.000000</td>\n",
       "      <td>494.974747</td>\n",
       "      <td>2250.0</td>\n",
       "      <td>2425.00</td>\n",
       "      <td>2600.0</td>\n",
       "      <td>2775.00</td>\n",
       "      <td>2950.0</td>\n",
       "    </tr>\n",
       "    <tr>\n",
       "      <th>2007</th>\n",
       "      <td>10.0</td>\n",
       "      <td>4212.400000</td>\n",
       "      <td>3458.781712</td>\n",
       "      <td>1950.0</td>\n",
       "      <td>2622.50</td>\n",
       "      <td>2997.0</td>\n",
       "      <td>3808.75</td>\n",
       "      <td>13500.0</td>\n",
       "    </tr>\n",
       "    <tr>\n",
       "      <th>2008</th>\n",
       "      <td>7.0</td>\n",
       "      <td>4807.000000</td>\n",
       "      <td>3122.866151</td>\n",
       "      <td>2250.0</td>\n",
       "      <td>2850.00</td>\n",
       "      <td>3800.0</td>\n",
       "      <td>5474.50</td>\n",
       "      <td>10950.0</td>\n",
       "    </tr>\n",
       "    <tr>\n",
       "      <th>2009</th>\n",
       "      <td>7.0</td>\n",
       "      <td>6384.000000</td>\n",
       "      <td>2477.426756</td>\n",
       "      <td>3495.0</td>\n",
       "      <td>4972.50</td>\n",
       "      <td>5999.0</td>\n",
       "      <td>7124.50</td>\n",
       "      <td>11000.0</td>\n",
       "    </tr>\n",
       "    <tr>\n",
       "      <th>2010</th>\n",
       "      <td>10.0</td>\n",
       "      <td>5584.400000</td>\n",
       "      <td>1712.960154</td>\n",
       "      <td>3800.0</td>\n",
       "      <td>4337.25</td>\n",
       "      <td>5225.0</td>\n",
       "      <td>5983.75</td>\n",
       "      <td>8950.0</td>\n",
       "    </tr>\n",
       "    <tr>\n",
       "      <th>2011</th>\n",
       "      <td>14.0</td>\n",
       "      <td>8017.071429</td>\n",
       "      <td>2817.179044</td>\n",
       "      <td>2750.0</td>\n",
       "      <td>5950.00</td>\n",
       "      <td>8350.0</td>\n",
       "      <td>10750.00</td>\n",
       "      <td>10950.0</td>\n",
       "    </tr>\n",
       "    <tr>\n",
       "      <th>2012</th>\n",
       "      <td>11.0</td>\n",
       "      <td>9117.272727</td>\n",
       "      <td>3750.143573</td>\n",
       "      <td>5750.0</td>\n",
       "      <td>6900.00</td>\n",
       "      <td>7995.0</td>\n",
       "      <td>9825.00</td>\n",
       "      <td>18500.0</td>\n",
       "    </tr>\n",
       "    <tr>\n",
       "      <th>2013</th>\n",
       "      <td>31.0</td>\n",
       "      <td>11112.064516</td>\n",
       "      <td>3926.019672</td>\n",
       "      <td>5750.0</td>\n",
       "      <td>8100.00</td>\n",
       "      <td>9950.0</td>\n",
       "      <td>13200.00</td>\n",
       "      <td>20900.0</td>\n",
       "    </tr>\n",
       "    <tr>\n",
       "      <th>2014</th>\n",
       "      <td>36.0</td>\n",
       "      <td>13676.638889</td>\n",
       "      <td>4948.269407</td>\n",
       "      <td>7500.0</td>\n",
       "      <td>9995.00</td>\n",
       "      <td>12850.0</td>\n",
       "      <td>14912.50</td>\n",
       "      <td>32950.0</td>\n",
       "    </tr>\n",
       "    <tr>\n",
       "      <th>2015</th>\n",
       "      <td>49.0</td>\n",
       "      <td>15000.632653</td>\n",
       "      <td>6548.215710</td>\n",
       "      <td>7995.0</td>\n",
       "      <td>10999.00</td>\n",
       "      <td>13950.0</td>\n",
       "      <td>16450.00</td>\n",
       "      <td>45528.0</td>\n",
       "    </tr>\n",
       "    <tr>\n",
       "      <th>2016</th>\n",
       "      <td>66.0</td>\n",
       "      <td>19587.227273</td>\n",
       "      <td>7842.517841</td>\n",
       "      <td>7950.0</td>\n",
       "      <td>14562.50</td>\n",
       "      <td>17920.0</td>\n",
       "      <td>23371.00</td>\n",
       "      <td>46950.0</td>\n",
       "    </tr>\n",
       "    <tr>\n",
       "      <th>2017</th>\n",
       "      <td>86.0</td>\n",
       "      <td>20269.744186</td>\n",
       "      <td>8679.592619</td>\n",
       "      <td>9495.0</td>\n",
       "      <td>14908.75</td>\n",
       "      <td>17950.0</td>\n",
       "      <td>22950.00</td>\n",
       "      <td>65900.0</td>\n",
       "    </tr>\n",
       "    <tr>\n",
       "      <th>2018</th>\n",
       "      <td>51.0</td>\n",
       "      <td>24824.568627</td>\n",
       "      <td>11902.241430</td>\n",
       "      <td>11495.0</td>\n",
       "      <td>16995.00</td>\n",
       "      <td>21440.0</td>\n",
       "      <td>26447.50</td>\n",
       "      <td>79950.0</td>\n",
       "    </tr>\n",
       "    <tr>\n",
       "      <th>2019</th>\n",
       "      <td>79.0</td>\n",
       "      <td>26737.329114</td>\n",
       "      <td>13953.737415</td>\n",
       "      <td>11995.0</td>\n",
       "      <td>18445.00</td>\n",
       "      <td>24700.0</td>\n",
       "      <td>29100.00</td>\n",
       "      <td>80900.0</td>\n",
       "    </tr>\n",
       "    <tr>\n",
       "      <th>2020</th>\n",
       "      <td>58.0</td>\n",
       "      <td>36618.775862</td>\n",
       "      <td>18844.270945</td>\n",
       "      <td>17595.0</td>\n",
       "      <td>24087.50</td>\n",
       "      <td>32472.5</td>\n",
       "      <td>43650.00</td>\n",
       "      <td>135000.0</td>\n",
       "    </tr>\n",
       "    <tr>\n",
       "      <th>2021</th>\n",
       "      <td>49.0</td>\n",
       "      <td>37194.183673</td>\n",
       "      <td>21506.749875</td>\n",
       "      <td>15895.0</td>\n",
       "      <td>22595.00</td>\n",
       "      <td>29995.0</td>\n",
       "      <td>47995.00</td>\n",
       "      <td>107950.0</td>\n",
       "    </tr>\n",
       "    <tr>\n",
       "      <th>2022</th>\n",
       "      <td>66.0</td>\n",
       "      <td>39143.712121</td>\n",
       "      <td>18295.744447</td>\n",
       "      <td>15650.0</td>\n",
       "      <td>27450.00</td>\n",
       "      <td>30585.0</td>\n",
       "      <td>47745.00</td>\n",
       "      <td>96995.0</td>\n",
       "    </tr>\n",
       "    <tr>\n",
       "      <th>2023</th>\n",
       "      <td>38.0</td>\n",
       "      <td>38670.394737</td>\n",
       "      <td>11973.753137</td>\n",
       "      <td>23450.0</td>\n",
       "      <td>28425.50</td>\n",
       "      <td>36417.5</td>\n",
       "      <td>46559.75</td>\n",
       "      <td>69950.0</td>\n",
       "    </tr>\n",
       "  </tbody>\n",
       "</table>\n",
       "</div>"
      ],
      "text/plain": [
       "      Price:                                                          \\\n",
       "       count          mean           std      min       25%      50%   \n",
       "Year:                                                                  \n",
       "2005     2.0   2600.000000    494.974747   2250.0   2425.00   2600.0   \n",
       "2007    10.0   4212.400000   3458.781712   1950.0   2622.50   2997.0   \n",
       "2008     7.0   4807.000000   3122.866151   2250.0   2850.00   3800.0   \n",
       "2009     7.0   6384.000000   2477.426756   3495.0   4972.50   5999.0   \n",
       "2010    10.0   5584.400000   1712.960154   3800.0   4337.25   5225.0   \n",
       "2011    14.0   8017.071429   2817.179044   2750.0   5950.00   8350.0   \n",
       "2012    11.0   9117.272727   3750.143573   5750.0   6900.00   7995.0   \n",
       "2013    31.0  11112.064516   3926.019672   5750.0   8100.00   9950.0   \n",
       "2014    36.0  13676.638889   4948.269407   7500.0   9995.00  12850.0   \n",
       "2015    49.0  15000.632653   6548.215710   7995.0  10999.00  13950.0   \n",
       "2016    66.0  19587.227273   7842.517841   7950.0  14562.50  17920.0   \n",
       "2017    86.0  20269.744186   8679.592619   9495.0  14908.75  17950.0   \n",
       "2018    51.0  24824.568627  11902.241430  11495.0  16995.00  21440.0   \n",
       "2019    79.0  26737.329114  13953.737415  11995.0  18445.00  24700.0   \n",
       "2020    58.0  36618.775862  18844.270945  17595.0  24087.50  32472.5   \n",
       "2021    49.0  37194.183673  21506.749875  15895.0  22595.00  29995.0   \n",
       "2022    66.0  39143.712121  18295.744447  15650.0  27450.00  30585.0   \n",
       "2023    38.0  38670.394737  11973.753137  23450.0  28425.50  36417.5   \n",
       "\n",
       "                           \n",
       "            75%       max  \n",
       "Year:                      \n",
       "2005    2775.00    2950.0  \n",
       "2007    3808.75   13500.0  \n",
       "2008    5474.50   10950.0  \n",
       "2009    7124.50   11000.0  \n",
       "2010    5983.75    8950.0  \n",
       "2011   10750.00   10950.0  \n",
       "2012    9825.00   18500.0  \n",
       "2013   13200.00   20900.0  \n",
       "2014   14912.50   32950.0  \n",
       "2015   16450.00   45528.0  \n",
       "2016   23371.00   46950.0  \n",
       "2017   22950.00   65900.0  \n",
       "2018   26447.50   79950.0  \n",
       "2019   29100.00   80900.0  \n",
       "2020   43650.00  135000.0  \n",
       "2021   47995.00  107950.0  \n",
       "2022   47745.00   96995.0  \n",
       "2023   46559.75   69950.0  "
      ]
     },
     "execution_count": 10,
     "metadata": {},
     "output_type": "execute_result"
    }
   ],
   "source": [
    "df_groupby_year = df.groupby(df['Year:'])\n",
    "df_groupby_year.describe()"
   ]
  },
  {
   "cell_type": "code",
   "execution_count": 11,
   "metadata": {},
   "outputs": [
    {
     "data": {
      "application/vnd.plotly.v1+json": {
       "config": {
        "plotlyServerURL": "https://plot.ly"
       },
       "data": [
        {
         "alignmentgroup": "True",
         "hovertemplate": "variable=mean<br>Year=%{x}<br>Average Price=%{y}<extra></extra>",
         "legendgroup": "mean",
         "marker": {
          "color": "#636efa",
          "pattern": {
           "shape": ""
          }
         },
         "name": "mean",
         "offsetgroup": "mean",
         "orientation": "v",
         "showlegend": true,
         "textposition": "auto",
         "type": "bar",
         "x": [
          2005,
          2007,
          2008,
          2009,
          2010,
          2011,
          2012,
          2013,
          2014,
          2015,
          2016,
          2017,
          2018,
          2019,
          2020,
          2021,
          2022,
          2023
         ],
         "xaxis": "x",
         "y": [
          2600,
          4212.4,
          4807,
          6384,
          5584.4,
          8017.071428571428,
          9117.272727272728,
          11112.064516129032,
          13676.638888888889,
          15000.632653061224,
          19587.227272727272,
          20269.74418604651,
          24824.56862745098,
          26737.32911392405,
          36618.775862068964,
          37194.183673469386,
          39143.71212121212,
          38670.39473684211
         ],
         "yaxis": "y"
        }
       ],
       "layout": {
        "barmode": "relative",
        "legend": {
         "title": {
          "text": "variable"
         },
         "tracegroupgap": 0
        },
        "margin": {
         "t": 60
        },
        "template": {
         "data": {
          "bar": [
           {
            "error_x": {
             "color": "#2a3f5f"
            },
            "error_y": {
             "color": "#2a3f5f"
            },
            "marker": {
             "line": {
              "color": "#E5ECF6",
              "width": 0.5
             },
             "pattern": {
              "fillmode": "overlay",
              "size": 10,
              "solidity": 0.2
             }
            },
            "type": "bar"
           }
          ],
          "barpolar": [
           {
            "marker": {
             "line": {
              "color": "#E5ECF6",
              "width": 0.5
             },
             "pattern": {
              "fillmode": "overlay",
              "size": 10,
              "solidity": 0.2
             }
            },
            "type": "barpolar"
           }
          ],
          "carpet": [
           {
            "aaxis": {
             "endlinecolor": "#2a3f5f",
             "gridcolor": "white",
             "linecolor": "white",
             "minorgridcolor": "white",
             "startlinecolor": "#2a3f5f"
            },
            "baxis": {
             "endlinecolor": "#2a3f5f",
             "gridcolor": "white",
             "linecolor": "white",
             "minorgridcolor": "white",
             "startlinecolor": "#2a3f5f"
            },
            "type": "carpet"
           }
          ],
          "choropleth": [
           {
            "colorbar": {
             "outlinewidth": 0,
             "ticks": ""
            },
            "type": "choropleth"
           }
          ],
          "contour": [
           {
            "colorbar": {
             "outlinewidth": 0,
             "ticks": ""
            },
            "colorscale": [
             [
              0,
              "#0d0887"
             ],
             [
              0.1111111111111111,
              "#46039f"
             ],
             [
              0.2222222222222222,
              "#7201a8"
             ],
             [
              0.3333333333333333,
              "#9c179e"
             ],
             [
              0.4444444444444444,
              "#bd3786"
             ],
             [
              0.5555555555555556,
              "#d8576b"
             ],
             [
              0.6666666666666666,
              "#ed7953"
             ],
             [
              0.7777777777777778,
              "#fb9f3a"
             ],
             [
              0.8888888888888888,
              "#fdca26"
             ],
             [
              1,
              "#f0f921"
             ]
            ],
            "type": "contour"
           }
          ],
          "contourcarpet": [
           {
            "colorbar": {
             "outlinewidth": 0,
             "ticks": ""
            },
            "type": "contourcarpet"
           }
          ],
          "heatmap": [
           {
            "colorbar": {
             "outlinewidth": 0,
             "ticks": ""
            },
            "colorscale": [
             [
              0,
              "#0d0887"
             ],
             [
              0.1111111111111111,
              "#46039f"
             ],
             [
              0.2222222222222222,
              "#7201a8"
             ],
             [
              0.3333333333333333,
              "#9c179e"
             ],
             [
              0.4444444444444444,
              "#bd3786"
             ],
             [
              0.5555555555555556,
              "#d8576b"
             ],
             [
              0.6666666666666666,
              "#ed7953"
             ],
             [
              0.7777777777777778,
              "#fb9f3a"
             ],
             [
              0.8888888888888888,
              "#fdca26"
             ],
             [
              1,
              "#f0f921"
             ]
            ],
            "type": "heatmap"
           }
          ],
          "heatmapgl": [
           {
            "colorbar": {
             "outlinewidth": 0,
             "ticks": ""
            },
            "colorscale": [
             [
              0,
              "#0d0887"
             ],
             [
              0.1111111111111111,
              "#46039f"
             ],
             [
              0.2222222222222222,
              "#7201a8"
             ],
             [
              0.3333333333333333,
              "#9c179e"
             ],
             [
              0.4444444444444444,
              "#bd3786"
             ],
             [
              0.5555555555555556,
              "#d8576b"
             ],
             [
              0.6666666666666666,
              "#ed7953"
             ],
             [
              0.7777777777777778,
              "#fb9f3a"
             ],
             [
              0.8888888888888888,
              "#fdca26"
             ],
             [
              1,
              "#f0f921"
             ]
            ],
            "type": "heatmapgl"
           }
          ],
          "histogram": [
           {
            "marker": {
             "pattern": {
              "fillmode": "overlay",
              "size": 10,
              "solidity": 0.2
             }
            },
            "type": "histogram"
           }
          ],
          "histogram2d": [
           {
            "colorbar": {
             "outlinewidth": 0,
             "ticks": ""
            },
            "colorscale": [
             [
              0,
              "#0d0887"
             ],
             [
              0.1111111111111111,
              "#46039f"
             ],
             [
              0.2222222222222222,
              "#7201a8"
             ],
             [
              0.3333333333333333,
              "#9c179e"
             ],
             [
              0.4444444444444444,
              "#bd3786"
             ],
             [
              0.5555555555555556,
              "#d8576b"
             ],
             [
              0.6666666666666666,
              "#ed7953"
             ],
             [
              0.7777777777777778,
              "#fb9f3a"
             ],
             [
              0.8888888888888888,
              "#fdca26"
             ],
             [
              1,
              "#f0f921"
             ]
            ],
            "type": "histogram2d"
           }
          ],
          "histogram2dcontour": [
           {
            "colorbar": {
             "outlinewidth": 0,
             "ticks": ""
            },
            "colorscale": [
             [
              0,
              "#0d0887"
             ],
             [
              0.1111111111111111,
              "#46039f"
             ],
             [
              0.2222222222222222,
              "#7201a8"
             ],
             [
              0.3333333333333333,
              "#9c179e"
             ],
             [
              0.4444444444444444,
              "#bd3786"
             ],
             [
              0.5555555555555556,
              "#d8576b"
             ],
             [
              0.6666666666666666,
              "#ed7953"
             ],
             [
              0.7777777777777778,
              "#fb9f3a"
             ],
             [
              0.8888888888888888,
              "#fdca26"
             ],
             [
              1,
              "#f0f921"
             ]
            ],
            "type": "histogram2dcontour"
           }
          ],
          "mesh3d": [
           {
            "colorbar": {
             "outlinewidth": 0,
             "ticks": ""
            },
            "type": "mesh3d"
           }
          ],
          "parcoords": [
           {
            "line": {
             "colorbar": {
              "outlinewidth": 0,
              "ticks": ""
             }
            },
            "type": "parcoords"
           }
          ],
          "pie": [
           {
            "automargin": true,
            "type": "pie"
           }
          ],
          "scatter": [
           {
            "fillpattern": {
             "fillmode": "overlay",
             "size": 10,
             "solidity": 0.2
            },
            "type": "scatter"
           }
          ],
          "scatter3d": [
           {
            "line": {
             "colorbar": {
              "outlinewidth": 0,
              "ticks": ""
             }
            },
            "marker": {
             "colorbar": {
              "outlinewidth": 0,
              "ticks": ""
             }
            },
            "type": "scatter3d"
           }
          ],
          "scattercarpet": [
           {
            "marker": {
             "colorbar": {
              "outlinewidth": 0,
              "ticks": ""
             }
            },
            "type": "scattercarpet"
           }
          ],
          "scattergeo": [
           {
            "marker": {
             "colorbar": {
              "outlinewidth": 0,
              "ticks": ""
             }
            },
            "type": "scattergeo"
           }
          ],
          "scattergl": [
           {
            "marker": {
             "colorbar": {
              "outlinewidth": 0,
              "ticks": ""
             }
            },
            "type": "scattergl"
           }
          ],
          "scattermapbox": [
           {
            "marker": {
             "colorbar": {
              "outlinewidth": 0,
              "ticks": ""
             }
            },
            "type": "scattermapbox"
           }
          ],
          "scatterpolar": [
           {
            "marker": {
             "colorbar": {
              "outlinewidth": 0,
              "ticks": ""
             }
            },
            "type": "scatterpolar"
           }
          ],
          "scatterpolargl": [
           {
            "marker": {
             "colorbar": {
              "outlinewidth": 0,
              "ticks": ""
             }
            },
            "type": "scatterpolargl"
           }
          ],
          "scatterternary": [
           {
            "marker": {
             "colorbar": {
              "outlinewidth": 0,
              "ticks": ""
             }
            },
            "type": "scatterternary"
           }
          ],
          "surface": [
           {
            "colorbar": {
             "outlinewidth": 0,
             "ticks": ""
            },
            "colorscale": [
             [
              0,
              "#0d0887"
             ],
             [
              0.1111111111111111,
              "#46039f"
             ],
             [
              0.2222222222222222,
              "#7201a8"
             ],
             [
              0.3333333333333333,
              "#9c179e"
             ],
             [
              0.4444444444444444,
              "#bd3786"
             ],
             [
              0.5555555555555556,
              "#d8576b"
             ],
             [
              0.6666666666666666,
              "#ed7953"
             ],
             [
              0.7777777777777778,
              "#fb9f3a"
             ],
             [
              0.8888888888888888,
              "#fdca26"
             ],
             [
              1,
              "#f0f921"
             ]
            ],
            "type": "surface"
           }
          ],
          "table": [
           {
            "cells": {
             "fill": {
              "color": "#EBF0F8"
             },
             "line": {
              "color": "white"
             }
            },
            "header": {
             "fill": {
              "color": "#C8D4E3"
             },
             "line": {
              "color": "white"
             }
            },
            "type": "table"
           }
          ]
         },
         "layout": {
          "annotationdefaults": {
           "arrowcolor": "#2a3f5f",
           "arrowhead": 0,
           "arrowwidth": 1
          },
          "autotypenumbers": "strict",
          "coloraxis": {
           "colorbar": {
            "outlinewidth": 0,
            "ticks": ""
           }
          },
          "colorscale": {
           "diverging": [
            [
             0,
             "#8e0152"
            ],
            [
             0.1,
             "#c51b7d"
            ],
            [
             0.2,
             "#de77ae"
            ],
            [
             0.3,
             "#f1b6da"
            ],
            [
             0.4,
             "#fde0ef"
            ],
            [
             0.5,
             "#f7f7f7"
            ],
            [
             0.6,
             "#e6f5d0"
            ],
            [
             0.7,
             "#b8e186"
            ],
            [
             0.8,
             "#7fbc41"
            ],
            [
             0.9,
             "#4d9221"
            ],
            [
             1,
             "#276419"
            ]
           ],
           "sequential": [
            [
             0,
             "#0d0887"
            ],
            [
             0.1111111111111111,
             "#46039f"
            ],
            [
             0.2222222222222222,
             "#7201a8"
            ],
            [
             0.3333333333333333,
             "#9c179e"
            ],
            [
             0.4444444444444444,
             "#bd3786"
            ],
            [
             0.5555555555555556,
             "#d8576b"
            ],
            [
             0.6666666666666666,
             "#ed7953"
            ],
            [
             0.7777777777777778,
             "#fb9f3a"
            ],
            [
             0.8888888888888888,
             "#fdca26"
            ],
            [
             1,
             "#f0f921"
            ]
           ],
           "sequentialminus": [
            [
             0,
             "#0d0887"
            ],
            [
             0.1111111111111111,
             "#46039f"
            ],
            [
             0.2222222222222222,
             "#7201a8"
            ],
            [
             0.3333333333333333,
             "#9c179e"
            ],
            [
             0.4444444444444444,
             "#bd3786"
            ],
            [
             0.5555555555555556,
             "#d8576b"
            ],
            [
             0.6666666666666666,
             "#ed7953"
            ],
            [
             0.7777777777777778,
             "#fb9f3a"
            ],
            [
             0.8888888888888888,
             "#fdca26"
            ],
            [
             1,
             "#f0f921"
            ]
           ]
          },
          "colorway": [
           "#636efa",
           "#EF553B",
           "#00cc96",
           "#ab63fa",
           "#FFA15A",
           "#19d3f3",
           "#FF6692",
           "#B6E880",
           "#FF97FF",
           "#FECB52"
          ],
          "font": {
           "color": "#2a3f5f"
          },
          "geo": {
           "bgcolor": "white",
           "lakecolor": "white",
           "landcolor": "#E5ECF6",
           "showlakes": true,
           "showland": true,
           "subunitcolor": "white"
          },
          "hoverlabel": {
           "align": "left"
          },
          "hovermode": "closest",
          "mapbox": {
           "style": "light"
          },
          "paper_bgcolor": "white",
          "plot_bgcolor": "#E5ECF6",
          "polar": {
           "angularaxis": {
            "gridcolor": "white",
            "linecolor": "white",
            "ticks": ""
           },
           "bgcolor": "#E5ECF6",
           "radialaxis": {
            "gridcolor": "white",
            "linecolor": "white",
            "ticks": ""
           }
          },
          "scene": {
           "xaxis": {
            "backgroundcolor": "#E5ECF6",
            "gridcolor": "white",
            "gridwidth": 2,
            "linecolor": "white",
            "showbackground": true,
            "ticks": "",
            "zerolinecolor": "white"
           },
           "yaxis": {
            "backgroundcolor": "#E5ECF6",
            "gridcolor": "white",
            "gridwidth": 2,
            "linecolor": "white",
            "showbackground": true,
            "ticks": "",
            "zerolinecolor": "white"
           },
           "zaxis": {
            "backgroundcolor": "#E5ECF6",
            "gridcolor": "white",
            "gridwidth": 2,
            "linecolor": "white",
            "showbackground": true,
            "ticks": "",
            "zerolinecolor": "white"
           }
          },
          "shapedefaults": {
           "line": {
            "color": "#2a3f5f"
           }
          },
          "ternary": {
           "aaxis": {
            "gridcolor": "white",
            "linecolor": "white",
            "ticks": ""
           },
           "baxis": {
            "gridcolor": "white",
            "linecolor": "white",
            "ticks": ""
           },
           "bgcolor": "#E5ECF6",
           "caxis": {
            "gridcolor": "white",
            "linecolor": "white",
            "ticks": ""
           }
          },
          "title": {
           "x": 0.05
          },
          "xaxis": {
           "automargin": true,
           "gridcolor": "white",
           "linecolor": "white",
           "ticks": "",
           "title": {
            "standoff": 15
           },
           "zerolinecolor": "white",
           "zerolinewidth": 2
          },
          "yaxis": {
           "automargin": true,
           "gridcolor": "white",
           "linecolor": "white",
           "ticks": "",
           "title": {
            "standoff": 15
           },
           "zerolinecolor": "white",
           "zerolinewidth": 2
          }
         }
        },
        "xaxis": {
         "anchor": "y",
         "domain": [
          0,
          1
         ],
         "title": {
          "text": "Year"
         }
        },
        "yaxis": {
         "anchor": "x",
         "domain": [
          0,
          1
         ],
         "title": {
          "text": "Average Price"
         }
        }
       }
      }
     },
     "metadata": {},
     "output_type": "display_data"
    }
   ],
   "source": [
    "avg_price_per_year = df_groupby_year['Price:'].agg(['mean'])\n",
    "px.bar(avg_price_per_year, labels={'value': 'Average Price', 'Year:': 'Year'})"
   ]
  },
  {
   "cell_type": "code",
   "execution_count": 12,
   "metadata": {},
   "outputs": [
    {
     "data": {
      "text/html": [
       "<div>\n",
       "<style scoped>\n",
       "    .dataframe tbody tr th:only-of-type {\n",
       "        vertical-align: middle;\n",
       "    }\n",
       "\n",
       "    .dataframe tbody tr th {\n",
       "        vertical-align: top;\n",
       "    }\n",
       "\n",
       "    .dataframe thead th {\n",
       "        text-align: right;\n",
       "    }\n",
       "</style>\n",
       "<table border=\"1\" class=\"dataframe\">\n",
       "  <thead>\n",
       "    <tr style=\"text-align: right;\">\n",
       "      <th></th>\n",
       "      <th>Year:</th>\n",
       "      <th>Price:</th>\n",
       "      <th>Engine Size:</th>\n",
       "      <th>Transmission:</th>\n",
       "      <th>Manufacturer:</th>\n",
       "      <th>Doors:</th>\n",
       "      <th>Odometer:</th>\n",
       "    </tr>\n",
       "  </thead>\n",
       "  <tbody>\n",
       "    <tr>\n",
       "      <th>0</th>\n",
       "      <td>2012</td>\n",
       "      <td>8295</td>\n",
       "      <td>2.0 L</td>\n",
       "      <td>Manual</td>\n",
       "      <td>VOLKSWAGEN</td>\n",
       "      <td>4</td>\n",
       "      <td>133,600 kms</td>\n",
       "    </tr>\n",
       "    <tr>\n",
       "      <th>1</th>\n",
       "      <td>2010</td>\n",
       "      <td>3800</td>\n",
       "      <td>2.0 L</td>\n",
       "      <td>Manual</td>\n",
       "      <td>OPEL</td>\n",
       "      <td>5</td>\n",
       "      <td>219,000 kms</td>\n",
       "    </tr>\n",
       "    <tr>\n",
       "      <th>2</th>\n",
       "      <td>2016</td>\n",
       "      <td>17950</td>\n",
       "      <td>1.7 L</td>\n",
       "      <td>Manual</td>\n",
       "      <td>HYUNDAI</td>\n",
       "      <td>5</td>\n",
       "      <td>0 kms</td>\n",
       "    </tr>\n",
       "    <tr>\n",
       "      <th>3</th>\n",
       "      <td>2017</td>\n",
       "      <td>9950</td>\n",
       "      <td>1.0 L</td>\n",
       "      <td>Manual</td>\n",
       "      <td>SUZUKI</td>\n",
       "      <td>5</td>\n",
       "      <td>119,003 kms</td>\n",
       "    </tr>\n",
       "    <tr>\n",
       "      <th>4</th>\n",
       "      <td>2017</td>\n",
       "      <td>22950</td>\n",
       "      <td>2.0 L</td>\n",
       "      <td>Manual</td>\n",
       "      <td>VOLKSWAGEN</td>\n",
       "      <td>5</td>\n",
       "      <td>0 kms</td>\n",
       "    </tr>\n",
       "    <tr>\n",
       "      <th>...</th>\n",
       "      <td>...</td>\n",
       "      <td>...</td>\n",
       "      <td>...</td>\n",
       "      <td>...</td>\n",
       "      <td>...</td>\n",
       "      <td>...</td>\n",
       "      <td>...</td>\n",
       "    </tr>\n",
       "    <tr>\n",
       "      <th>861</th>\n",
       "      <td>2020</td>\n",
       "      <td>61175</td>\n",
       "      <td>0.0 L</td>\n",
       "      <td>Automatic</td>\n",
       "      <td>AUDI</td>\n",
       "      <td>5</td>\n",
       "      <td>37,858 kms</td>\n",
       "    </tr>\n",
       "    <tr>\n",
       "      <th>862</th>\n",
       "      <td>2020</td>\n",
       "      <td>22950</td>\n",
       "      <td>1.0 L</td>\n",
       "      <td>Manual</td>\n",
       "      <td>HYUNDAI</td>\n",
       "      <td>5</td>\n",
       "      <td>13,657 kms</td>\n",
       "    </tr>\n",
       "    <tr>\n",
       "      <th>863</th>\n",
       "      <td>2021</td>\n",
       "      <td>23500</td>\n",
       "      <td>1.0 L</td>\n",
       "      <td>Manual</td>\n",
       "      <td>SKODA</td>\n",
       "      <td>4</td>\n",
       "      <td>27,529 kms</td>\n",
       "    </tr>\n",
       "    <tr>\n",
       "      <th>897</th>\n",
       "      <td>2013</td>\n",
       "      <td>10995</td>\n",
       "      <td>1.6 L</td>\n",
       "      <td>Manual</td>\n",
       "      <td>NISSAN</td>\n",
       "      <td>5</td>\n",
       "      <td>110,003 kms</td>\n",
       "    </tr>\n",
       "    <tr>\n",
       "      <th>898</th>\n",
       "      <td>2022</td>\n",
       "      <td>37950</td>\n",
       "      <td>1.6 L</td>\n",
       "      <td>Manual</td>\n",
       "      <td>HYUNDAI</td>\n",
       "      <td>5</td>\n",
       "      <td>4,500 kms</td>\n",
       "    </tr>\n",
       "  </tbody>\n",
       "</table>\n",
       "<p>633 rows × 7 columns</p>\n",
       "</div>"
      ],
      "text/plain": [
       "     Year:  Price: Engine Size: Transmission: Manufacturer: Doors:  \\\n",
       "0     2012    8295        2.0 L        Manual    VOLKSWAGEN      4   \n",
       "1     2010    3800        2.0 L        Manual          OPEL      5   \n",
       "2     2016   17950        1.7 L        Manual       HYUNDAI      5   \n",
       "3     2017    9950        1.0 L        Manual        SUZUKI      5   \n",
       "4     2017   22950        2.0 L        Manual    VOLKSWAGEN      5   \n",
       "..     ...     ...          ...           ...           ...    ...   \n",
       "861   2020   61175        0.0 L     Automatic          AUDI      5   \n",
       "862   2020   22950        1.0 L        Manual       HYUNDAI      5   \n",
       "863   2021   23500        1.0 L        Manual         SKODA      4   \n",
       "897   2013   10995        1.6 L        Manual        NISSAN      5   \n",
       "898   2022   37950        1.6 L        Manual       HYUNDAI      5   \n",
       "\n",
       "       Odometer:  \n",
       "0    133,600 kms  \n",
       "1    219,000 kms  \n",
       "2          0 kms  \n",
       "3    119,003 kms  \n",
       "4          0 kms  \n",
       "..           ...  \n",
       "861   37,858 kms  \n",
       "862   13,657 kms  \n",
       "863   27,529 kms  \n",
       "897  110,003 kms  \n",
       "898    4,500 kms  \n",
       "\n",
       "[633 rows x 7 columns]"
      ]
     },
     "execution_count": 12,
     "metadata": {},
     "output_type": "execute_result"
    }
   ],
   "source": [
    "df2 = df[['Year:', 'Price:', 'Engine Size:', 'Transmission:', 'Manufacturer:', 'Doors:', 'Odometer:']].copy()\n",
    "df2 = df2[df2['Doors:'] != '-']\n",
    "df2 = df2[df2['Transmission:'] != 'Other']\n",
    "df2"
   ]
  },
  {
   "cell_type": "code",
   "execution_count": 31,
   "metadata": {},
   "outputs": [
    {
     "data": {
      "text/plain": [
       "['VOLKSWAGEN', 'RENAULT', 'FORD', 'NISSAN', 'BMW', 'TOYOTA']"
      ]
     },
     "execution_count": 31,
     "metadata": {},
     "output_type": "execute_result"
    }
   ],
   "source": [
    "top_manufacturers = df2['Manufacturer:'].value_counts()[:6].index.tolist()\n",
    "top_manufacturers"
   ]
  },
  {
   "cell_type": "code",
   "execution_count": 14,
   "metadata": {},
   "outputs": [
    {
     "data": {
      "application/vnd.plotly.v1+json": {
       "config": {
        "plotlyServerURL": "https://plot.ly"
       },
       "data": [
        {
         "hovertemplate": "Doors:=4<br>Transmission:=Manual<br>Manufacturer:=VOLKSWAGEN<br>Year:=%{x}<br>Price:=%{y}<extra></extra>",
         "legendgroup": "4",
         "marker": {
          "color": "#636efa",
          "symbol": "circle"
         },
         "mode": "markers",
         "name": "4",
         "orientation": "v",
         "showlegend": true,
         "type": "scatter",
         "x": [
          2012,
          2015,
          2016,
          2009,
          2017,
          2008,
          2015,
          2018,
          2014,
          2007,
          2016
         ],
         "xaxis": "x6",
         "y": [
          8295,
          13995,
          17795,
          6999,
          19950,
          2450,
          9800,
          17950,
          9995,
          2990,
          17994
         ],
         "yaxis": "y6"
        },
        {
         "hovertemplate": "Doors:=4<br>Transmission:=Manual<br>Manufacturer:=BMW<br>Year:=%{x}<br>Price:=%{y}<extra></extra>",
         "legendgroup": "4",
         "marker": {
          "color": "#636efa",
          "symbol": "circle"
         },
         "mode": "markers",
         "name": "4",
         "orientation": "v",
         "showlegend": false,
         "type": "scatter",
         "x": [
          2009,
          2016,
          2013,
          2013
         ],
         "xaxis": "x7",
         "y": [
          7250,
          22999,
          11900,
          11950
         ],
         "yaxis": "y7"
        },
        {
         "hovertemplate": "Doors:=4<br>Transmission:=Manual<br>Manufacturer:=FORD<br>Year:=%{x}<br>Price:=%{y}<extra></extra>",
         "legendgroup": "4",
         "marker": {
          "color": "#636efa",
          "symbol": "circle"
         },
         "mode": "markers",
         "name": "4",
         "orientation": "v",
         "showlegend": false,
         "type": "scatter",
         "x": [
          2023,
          2015,
          2021,
          2017,
          2018,
          2015,
          2016,
          2019,
          2013,
          2013,
          2020,
          2018,
          2015,
          2017,
          2015,
          2014,
          2020,
          2018,
          2018,
          2018
         ],
         "xaxis": "x8",
         "y": [
          46748,
          12995,
          30995,
          13995,
          25995,
          12950,
          12500,
          16995,
          6999,
          7950,
          23000,
          16500,
          8995,
          24600,
          8750,
          9500,
          32950,
          14995,
          17495,
          23950
         ],
         "yaxis": "y8"
        },
        {
         "hovertemplate": "Doors:=4<br>Transmission:=Manual<br>Manufacturer:=RENAULT<br>Year:=%{x}<br>Price:=%{y}<extra></extra>",
         "legendgroup": "4",
         "marker": {
          "color": "#636efa",
          "symbol": "circle"
         },
         "mode": "markers",
         "name": "4",
         "orientation": "v",
         "showlegend": false,
         "type": "scatter",
         "x": [
          2019,
          2020,
          2018,
          2017,
          2017,
          2018,
          2017,
          2016,
          2019,
          2018,
          2018,
          2017
         ],
         "xaxis": "x9",
         "y": [
          16750,
          23950,
          14800,
          17950,
          21900,
          16950,
          18995,
          16450,
          18595,
          13995,
          16995,
          15900
         ],
         "yaxis": "y9"
        },
        {
         "hovertemplate": "Doors:=4<br>Transmission:=Manual<br>Manufacturer:=NISSAN<br>Year:=%{x}<br>Price:=%{y}<extra></extra>",
         "legendgroup": "4",
         "marker": {
          "color": "#636efa",
          "symbol": "circle"
         },
         "mode": "markers",
         "name": "4",
         "orientation": "v",
         "showlegend": false,
         "type": "scatter",
         "x": [
          2018,
          2021,
          2021,
          2017,
          2020,
          2014,
          2021,
          2017,
          2013,
          2018,
          2017,
          2015,
          2017,
          2022,
          2016
         ],
         "xaxis": "x10",
         "y": [
          23995,
          33995,
          29995,
          13995,
          32995,
          12500,
          25500,
          24945,
          7200,
          19995,
          18995,
          9990,
          19950,
          27900,
          20995
         ],
         "yaxis": "y10"
        },
        {
         "hovertemplate": "Doors:=4<br>Transmission:=Automatic<br>Manufacturer:=VOLKSWAGEN<br>Year:=%{x}<br>Price:=%{y}<extra></extra>",
         "legendgroup": "4",
         "marker": {
          "color": "#636efa",
          "symbol": "circle"
         },
         "mode": "markers",
         "name": "4",
         "orientation": "v",
         "showlegend": false,
         "type": "scatter",
         "x": [
          2013
         ],
         "xaxis": "x",
         "y": [
          18750
         ],
         "yaxis": "y"
        },
        {
         "hovertemplate": "Doors:=4<br>Transmission:=Automatic<br>Manufacturer:=BMW<br>Year:=%{x}<br>Price:=%{y}<extra></extra>",
         "legendgroup": "4",
         "marker": {
          "color": "#636efa",
          "symbol": "circle"
         },
         "mode": "markers",
         "name": "4",
         "orientation": "v",
         "showlegend": false,
         "type": "scatter",
         "x": [
          2017,
          2022,
          2022,
          2021,
          2022,
          2019,
          2015,
          2019,
          2016,
          2021,
          2020,
          2012,
          2019,
          2017,
          2015,
          2017,
          2019,
          2019,
          2015,
          2017,
          2019,
          2014,
          2017,
          2014,
          2018,
          2013,
          2017,
          2018,
          2022,
          2022,
          2019,
          2017
         ],
         "xaxis": "x2",
         "y": [
          29995,
          43995,
          66995,
          94995,
          94995,
          35950,
          21995,
          43995,
          28995,
          57950,
          34945,
          10900,
          27499,
          22500,
          16450,
          33950,
          39900,
          33750,
          36950,
          26900,
          22950,
          17999,
          29900,
          32950,
          35900,
          17900,
          21995,
          34995,
          64995,
          61995,
          38900,
          33950
         ],
         "yaxis": "y2"
        },
        {
         "hovertemplate": "Doors:=4<br>Transmission:=Automatic<br>Manufacturer:=FORD<br>Year:=%{x}<br>Price:=%{y}<extra></extra>",
         "legendgroup": "4",
         "marker": {
          "color": "#636efa",
          "symbol": "circle"
         },
         "mode": "markers",
         "name": "4",
         "orientation": "v",
         "showlegend": false,
         "type": "scatter",
         "x": [
          2021,
          2005
         ],
         "xaxis": "x3",
         "y": [
          30995,
          2950
         ],
         "yaxis": "y3"
        },
        {
         "hovertemplate": "Doors:=4<br>Transmission:=Automatic<br>Manufacturer:=RENAULT<br>Year:=%{x}<br>Price:=%{y}<extra></extra>",
         "legendgroup": "4",
         "marker": {
          "color": "#636efa",
          "symbol": "circle"
         },
         "mode": "markers",
         "name": "4",
         "orientation": "v",
         "showlegend": false,
         "type": "scatter",
         "x": [
          2020,
          2016,
          2021,
          2017,
          2020,
          2017
         ],
         "xaxis": "x4",
         "y": [
          23495,
          14495,
          28495,
          17990,
          24995,
          16900
         ],
         "yaxis": "y4"
        },
        {
         "hovertemplate": "Doors:=4<br>Transmission:=Automatic<br>Manufacturer:=NISSAN<br>Year:=%{x}<br>Price:=%{y}<extra></extra>",
         "legendgroup": "4",
         "marker": {
          "color": "#636efa",
          "symbol": "circle"
         },
         "mode": "markers",
         "name": "4",
         "orientation": "v",
         "showlegend": false,
         "type": "scatter",
         "x": [
          2016,
          2019,
          2019,
          2019,
          2019,
          2019,
          2017,
          2019,
          2017,
          2019,
          2022,
          2019,
          2020
         ],
         "xaxis": "x5",
         "y": [
          15950,
          18445,
          18445,
          18445,
          18445,
          18445,
          12250,
          30950,
          17950,
          14995,
          47995,
          19495,
          32995
         ],
         "yaxis": "y5"
        },
        {
         "hovertemplate": "Doors:=5<br>Transmission:=Manual<br>Manufacturer:=VOLKSWAGEN<br>Year:=%{x}<br>Price:=%{y}<extra></extra>",
         "legendgroup": "5",
         "marker": {
          "color": "#EF553B",
          "symbol": "circle"
         },
         "mode": "markers",
         "name": "5",
         "orientation": "v",
         "showlegend": true,
         "type": "scatter",
         "x": [
          2017,
          2016,
          2021,
          2013,
          2010,
          2018,
          2017,
          2013,
          2016,
          2016,
          2020,
          2022,
          2015,
          2021,
          2021,
          2021,
          2021,
          2020,
          2021,
          2015,
          2015,
          2016,
          2018,
          2019,
          2015,
          2017,
          2005,
          2011,
          2018,
          2012,
          2016,
          2018,
          2022,
          2021,
          2022,
          2016
         ],
         "xaxis": "x6",
         "y": [
          22950,
          24950,
          22995,
          9950,
          8950,
          19995,
          15995,
          6950,
          17950,
          18495,
          18950,
          33495,
          14450,
          18495,
          23495,
          27495,
          29495,
          29995,
          18495,
          12495,
          16495,
          17890,
          17900,
          34450,
          14950,
          13900,
          2250,
          5995,
          21440,
          18500,
          17845,
          23950,
          15650,
          17995,
          41450,
          13900
         ],
         "yaxis": "y6"
        },
        {
         "hovertemplate": "Doors:=5<br>Transmission:=Manual<br>Manufacturer:=BMW<br>Year:=%{x}<br>Price:=%{y}<extra></extra>",
         "legendgroup": "5",
         "marker": {
          "color": "#EF553B",
          "symbol": "circle"
         },
         "mode": "markers",
         "name": "5",
         "orientation": "v",
         "showlegend": false,
         "type": "scatter",
         "x": [
          2017,
          2010,
          2018,
          2022
         ],
         "xaxis": "x7",
         "y": [
          17900,
          5995,
          22900,
          42995
         ],
         "yaxis": "y7"
        },
        {
         "hovertemplate": "Doors:=5<br>Transmission:=Manual<br>Manufacturer:=FORD<br>Year:=%{x}<br>Price:=%{y}<extra></extra>",
         "legendgroup": "5",
         "marker": {
          "color": "#EF553B",
          "symbol": "circle"
         },
         "mode": "markers",
         "name": "5",
         "orientation": "v",
         "showlegend": false,
         "type": "scatter",
         "x": [
          2015,
          2016,
          2019,
          2018,
          2018,
          2016,
          2009,
          2014,
          2019,
          2015,
          2019,
          2016,
          2013,
          2012,
          2014,
          2015,
          2018,
          2017,
          2011,
          2017,
          2008,
          2015,
          2015,
          2011,
          2015,
          2018,
          2014,
          2013,
          2020,
          2014
         ],
         "xaxis": "x8",
         "y": [
          11890,
          13740,
          17750,
          14900,
          18950,
          14500,
          3995,
          13995,
          25250,
          8950,
          24950,
          15990,
          9900,
          6850,
          9950,
          13950,
          16995,
          15995,
          2750,
          16950,
          3250,
          9995,
          12495,
          4999,
          8999,
          16450,
          8750,
          7950,
          23950,
          9995
         ],
         "yaxis": "y8"
        },
        {
         "hovertemplate": "Doors:=5<br>Transmission:=Manual<br>Manufacturer:=RENAULT<br>Year:=%{x}<br>Price:=%{y}<extra></extra>",
         "legendgroup": "5",
         "marker": {
          "color": "#EF553B",
          "symbol": "circle"
         },
         "mode": "markers",
         "name": "5",
         "orientation": "v",
         "showlegend": false,
         "type": "scatter",
         "x": [
          2020,
          2020,
          2020,
          2020,
          2020,
          2021,
          2022,
          2022,
          2022,
          2022,
          2022,
          2022,
          2022,
          2022,
          2022,
          2018,
          2022,
          2022,
          2022,
          2022,
          2022,
          2022,
          2022,
          2022,
          2022,
          2022,
          2022,
          2022,
          2022,
          2016,
          2017,
          2019,
          2019,
          2020,
          2020,
          2018,
          2021,
          2018,
          2019
         ],
         "xaxis": "x9",
         "y": [
          28900,
          18490,
          18490,
          23790,
          23790,
          31490,
          27450,
          27450,
          27450,
          27450,
          27450,
          19295,
          19295,
          29270,
          29070,
          20994,
          27450,
          27450,
          27450,
          27450,
          27450,
          27450,
          27450,
          27450,
          27450,
          27450,
          27450,
          27450,
          31900,
          14950,
          12900,
          24950,
          16450,
          19900,
          29950,
          24900,
          20905,
          23495,
          24999
         ],
         "yaxis": "y9"
        },
        {
         "hovertemplate": "Doors:=5<br>Transmission:=Manual<br>Manufacturer:=NISSAN<br>Year:=%{x}<br>Price:=%{y}<extra></extra>",
         "legendgroup": "5",
         "marker": {
          "color": "#EF553B",
          "symbol": "circle"
         },
         "mode": "markers",
         "name": "5",
         "orientation": "v",
         "showlegend": false,
         "type": "scatter",
         "x": [
          2020,
          2017,
          2007,
          2016,
          2019,
          2013,
          2015,
          2016,
          2008,
          2016,
          2010,
          2011,
          2016,
          2017,
          2016,
          2019,
          2010,
          2019,
          2013
         ],
         "xaxis": "x10",
         "y": [
          24500,
          14895,
          3250,
          16890,
          12900,
          8500,
          13990,
          17995,
          3999,
          13700,
          3900,
          6800,
          14950,
          17950,
          14750,
          13450,
          4599,
          23950,
          10995
         ],
         "yaxis": "y10"
        },
        {
         "hovertemplate": "Doors:=5<br>Transmission:=Automatic<br>Manufacturer:=VOLKSWAGEN<br>Year:=%{x}<br>Price:=%{y}<extra></extra>",
         "legendgroup": "5",
         "marker": {
          "color": "#EF553B",
          "symbol": "circle"
         },
         "mode": "markers",
         "name": "5",
         "orientation": "v",
         "showlegend": false,
         "type": "scatter",
         "x": [
          2020,
          2020,
          2008,
          2021,
          2021,
          2019,
          2019,
          2014,
          2015,
          2014,
          2014,
          2016,
          2014,
          2013,
          2019,
          2019,
          2015,
          2015,
          2016,
          2013,
          2023,
          2019
         ],
         "xaxis": "x",
         "y": [
          47950,
          46995,
          6950,
          46995,
          47995,
          24995,
          45950,
          13950,
          13950,
          14900,
          14450,
          23950,
          14750,
          11750,
          24700,
          26950,
          16450,
          16450,
          14950,
          13450,
          69950,
          33995
         ],
         "yaxis": "y"
        },
        {
         "hovertemplate": "Doors:=5<br>Transmission:=Automatic<br>Manufacturer:=BMW<br>Year:=%{x}<br>Price:=%{y}<extra></extra>",
         "legendgroup": "5",
         "marker": {
          "color": "#EF553B",
          "symbol": "circle"
         },
         "mode": "markers",
         "name": "5",
         "orientation": "v",
         "showlegend": false,
         "type": "scatter",
         "x": [
          2016,
          2014,
          2013,
          2017,
          2018,
          2014,
          2022,
          2022,
          2022,
          2019,
          2021
         ],
         "xaxis": "x2",
         "y": [
          34995,
          19950,
          14490,
          23950,
          42900,
          15450,
          96995,
          53950,
          51950,
          52950,
          93950
         ],
         "yaxis": "y2"
        },
        {
         "hovertemplate": "Doors:=5<br>Transmission:=Automatic<br>Manufacturer:=FORD<br>Year:=%{x}<br>Price:=%{y}<extra></extra>",
         "legendgroup": "5",
         "marker": {
          "color": "#EF553B",
          "symbol": "circle"
         },
         "mode": "markers",
         "name": "5",
         "orientation": "v",
         "showlegend": false,
         "type": "scatter",
         "x": [
          2019,
          2007
         ],
         "xaxis": "x3",
         "y": [
          20950,
          2995
         ],
         "yaxis": "y3"
        },
        {
         "hovertemplate": "Doors:=5<br>Transmission:=Automatic<br>Manufacturer:=RENAULT<br>Year:=%{x}<br>Price:=%{y}<extra></extra>",
         "legendgroup": "5",
         "marker": {
          "color": "#EF553B",
          "symbol": "circle"
         },
         "mode": "markers",
         "name": "5",
         "orientation": "v",
         "showlegend": false,
         "type": "scatter",
         "x": [
          2021,
          2022,
          2020,
          2022
         ],
         "xaxis": "x4",
         "y": [
          29995,
          34900,
          29449,
          33495
         ],
         "yaxis": "y4"
        },
        {
         "hovertemplate": "Doors:=5<br>Transmission:=Automatic<br>Manufacturer:=NISSAN<br>Year:=%{x}<br>Price:=%{y}<extra></extra>",
         "legendgroup": "5",
         "marker": {
          "color": "#EF553B",
          "symbol": "circle"
         },
         "mode": "markers",
         "name": "5",
         "orientation": "v",
         "showlegend": false,
         "type": "scatter",
         "x": [
          2020,
          2020,
          2011,
          2011,
          2019,
          2019,
          2016,
          2014,
          2020,
          2014,
          2014
         ],
         "xaxis": "x5",
         "y": [
          32995,
          18490,
          10750,
          10750,
          12995,
          12995,
          17950,
          15900,
          28900,
          9950,
          8950
         ],
         "yaxis": "y5"
        },
        {
         "hovertemplate": "Doors:=2<br>Transmission:=Automatic<br>Manufacturer:=BMW<br>Year:=%{x}<br>Price:=%{y}<extra></extra>",
         "legendgroup": "2",
         "marker": {
          "color": "#00cc96",
          "symbol": "circle"
         },
         "mode": "markers",
         "name": "2",
         "orientation": "v",
         "showlegend": true,
         "type": "scatter",
         "x": [
          2019,
          2021
         ],
         "xaxis": "x2",
         "y": [
          79950,
          65850
         ],
         "yaxis": "y2"
        },
        {
         "hovertemplate": "Doors:=3<br>Transmission:=Manual<br>Manufacturer:=VOLKSWAGEN<br>Year:=%{x}<br>Price:=%{y}<extra></extra>",
         "legendgroup": "3",
         "marker": {
          "color": "#ab63fa",
          "symbol": "circle"
         },
         "mode": "markers",
         "name": "3",
         "orientation": "v",
         "showlegend": true,
         "type": "scatter",
         "x": [
          2015,
          2014
         ],
         "xaxis": "x6",
         "y": [
          18000,
          12995
         ],
         "yaxis": "y6"
        },
        {
         "hovertemplate": "Doors:=3<br>Transmission:=Manual<br>Manufacturer:=FORD<br>Year:=%{x}<br>Price:=%{y}<extra></extra>",
         "legendgroup": "3",
         "marker": {
          "color": "#ab63fa",
          "symbol": "circle"
         },
         "mode": "markers",
         "name": "3",
         "orientation": "v",
         "showlegend": false,
         "type": "scatter",
         "x": [
          2019,
          2016,
          2016,
          2016
         ],
         "xaxis": "x8",
         "y": [
          12191,
          10995,
          18250,
          12995
         ],
         "yaxis": "y8"
        },
        {
         "hovertemplate": "Doors:=3<br>Transmission:=Manual<br>Manufacturer:=RENAULT<br>Year:=%{x}<br>Price:=%{y}<extra></extra>",
         "legendgroup": "3",
         "marker": {
          "color": "#ab63fa",
          "symbol": "circle"
         },
         "mode": "markers",
         "name": "3",
         "orientation": "v",
         "showlegend": false,
         "type": "scatter",
         "x": [
          2021,
          2021,
          2021
         ],
         "xaxis": "x9",
         "y": [
          22595,
          22595,
          27650
         ],
         "yaxis": "y9"
        },
        {
         "hovertemplate": "Doors:=3<br>Transmission:=Automatic<br>Manufacturer:=BMW<br>Year:=%{x}<br>Price:=%{y}<extra></extra>",
         "legendgroup": "3",
         "marker": {
          "color": "#ab63fa",
          "symbol": "circle"
         },
         "mode": "markers",
         "name": "3",
         "orientation": "v",
         "showlegend": false,
         "type": "scatter",
         "x": [
          2016
         ],
         "xaxis": "x2",
         "y": [
          29950
         ],
         "yaxis": "y2"
        }
       ],
       "layout": {
        "annotations": [
         {
          "font": {},
          "showarrow": false,
          "text": "Manufacturer:=VOLKSWAGEN",
          "x": 0.09000000000000001,
          "xanchor": "center",
          "xref": "paper",
          "y": 1,
          "yanchor": "bottom",
          "yref": "paper"
         },
         {
          "font": {},
          "showarrow": false,
          "text": "Manufacturer:=BMW",
          "x": 0.29000000000000004,
          "xanchor": "center",
          "xref": "paper",
          "y": 1,
          "yanchor": "bottom",
          "yref": "paper"
         },
         {
          "font": {},
          "showarrow": false,
          "text": "Manufacturer:=FORD",
          "x": 0.49000000000000005,
          "xanchor": "center",
          "xref": "paper",
          "y": 1,
          "yanchor": "bottom",
          "yref": "paper"
         },
         {
          "font": {},
          "showarrow": false,
          "text": "Manufacturer:=RENAULT",
          "x": 0.6900000000000002,
          "xanchor": "center",
          "xref": "paper",
          "y": 1,
          "yanchor": "bottom",
          "yref": "paper"
         },
         {
          "font": {},
          "showarrow": false,
          "text": "Manufacturer:=NISSAN",
          "x": 0.8900000000000001,
          "xanchor": "center",
          "xref": "paper",
          "y": 1,
          "yanchor": "bottom",
          "yref": "paper"
         },
         {
          "font": {},
          "showarrow": false,
          "text": "Transmission:=Automatic",
          "textangle": 90,
          "x": 0.9800000000000001,
          "xanchor": "left",
          "xref": "paper",
          "y": 0.2425,
          "yanchor": "middle",
          "yref": "paper"
         },
         {
          "font": {},
          "showarrow": false,
          "text": "Transmission:=Manual",
          "textangle": 90,
          "x": 0.9800000000000001,
          "xanchor": "left",
          "xref": "paper",
          "y": 0.7575000000000001,
          "yanchor": "middle",
          "yref": "paper"
         }
        ],
        "legend": {
         "title": {
          "text": "Doors:"
         },
         "tracegroupgap": 0
        },
        "margin": {
         "t": 60
        },
        "template": {
         "data": {
          "bar": [
           {
            "error_x": {
             "color": "#2a3f5f"
            },
            "error_y": {
             "color": "#2a3f5f"
            },
            "marker": {
             "line": {
              "color": "#E5ECF6",
              "width": 0.5
             },
             "pattern": {
              "fillmode": "overlay",
              "size": 10,
              "solidity": 0.2
             }
            },
            "type": "bar"
           }
          ],
          "barpolar": [
           {
            "marker": {
             "line": {
              "color": "#E5ECF6",
              "width": 0.5
             },
             "pattern": {
              "fillmode": "overlay",
              "size": 10,
              "solidity": 0.2
             }
            },
            "type": "barpolar"
           }
          ],
          "carpet": [
           {
            "aaxis": {
             "endlinecolor": "#2a3f5f",
             "gridcolor": "white",
             "linecolor": "white",
             "minorgridcolor": "white",
             "startlinecolor": "#2a3f5f"
            },
            "baxis": {
             "endlinecolor": "#2a3f5f",
             "gridcolor": "white",
             "linecolor": "white",
             "minorgridcolor": "white",
             "startlinecolor": "#2a3f5f"
            },
            "type": "carpet"
           }
          ],
          "choropleth": [
           {
            "colorbar": {
             "outlinewidth": 0,
             "ticks": ""
            },
            "type": "choropleth"
           }
          ],
          "contour": [
           {
            "colorbar": {
             "outlinewidth": 0,
             "ticks": ""
            },
            "colorscale": [
             [
              0,
              "#0d0887"
             ],
             [
              0.1111111111111111,
              "#46039f"
             ],
             [
              0.2222222222222222,
              "#7201a8"
             ],
             [
              0.3333333333333333,
              "#9c179e"
             ],
             [
              0.4444444444444444,
              "#bd3786"
             ],
             [
              0.5555555555555556,
              "#d8576b"
             ],
             [
              0.6666666666666666,
              "#ed7953"
             ],
             [
              0.7777777777777778,
              "#fb9f3a"
             ],
             [
              0.8888888888888888,
              "#fdca26"
             ],
             [
              1,
              "#f0f921"
             ]
            ],
            "type": "contour"
           }
          ],
          "contourcarpet": [
           {
            "colorbar": {
             "outlinewidth": 0,
             "ticks": ""
            },
            "type": "contourcarpet"
           }
          ],
          "heatmap": [
           {
            "colorbar": {
             "outlinewidth": 0,
             "ticks": ""
            },
            "colorscale": [
             [
              0,
              "#0d0887"
             ],
             [
              0.1111111111111111,
              "#46039f"
             ],
             [
              0.2222222222222222,
              "#7201a8"
             ],
             [
              0.3333333333333333,
              "#9c179e"
             ],
             [
              0.4444444444444444,
              "#bd3786"
             ],
             [
              0.5555555555555556,
              "#d8576b"
             ],
             [
              0.6666666666666666,
              "#ed7953"
             ],
             [
              0.7777777777777778,
              "#fb9f3a"
             ],
             [
              0.8888888888888888,
              "#fdca26"
             ],
             [
              1,
              "#f0f921"
             ]
            ],
            "type": "heatmap"
           }
          ],
          "heatmapgl": [
           {
            "colorbar": {
             "outlinewidth": 0,
             "ticks": ""
            },
            "colorscale": [
             [
              0,
              "#0d0887"
             ],
             [
              0.1111111111111111,
              "#46039f"
             ],
             [
              0.2222222222222222,
              "#7201a8"
             ],
             [
              0.3333333333333333,
              "#9c179e"
             ],
             [
              0.4444444444444444,
              "#bd3786"
             ],
             [
              0.5555555555555556,
              "#d8576b"
             ],
             [
              0.6666666666666666,
              "#ed7953"
             ],
             [
              0.7777777777777778,
              "#fb9f3a"
             ],
             [
              0.8888888888888888,
              "#fdca26"
             ],
             [
              1,
              "#f0f921"
             ]
            ],
            "type": "heatmapgl"
           }
          ],
          "histogram": [
           {
            "marker": {
             "pattern": {
              "fillmode": "overlay",
              "size": 10,
              "solidity": 0.2
             }
            },
            "type": "histogram"
           }
          ],
          "histogram2d": [
           {
            "colorbar": {
             "outlinewidth": 0,
             "ticks": ""
            },
            "colorscale": [
             [
              0,
              "#0d0887"
             ],
             [
              0.1111111111111111,
              "#46039f"
             ],
             [
              0.2222222222222222,
              "#7201a8"
             ],
             [
              0.3333333333333333,
              "#9c179e"
             ],
             [
              0.4444444444444444,
              "#bd3786"
             ],
             [
              0.5555555555555556,
              "#d8576b"
             ],
             [
              0.6666666666666666,
              "#ed7953"
             ],
             [
              0.7777777777777778,
              "#fb9f3a"
             ],
             [
              0.8888888888888888,
              "#fdca26"
             ],
             [
              1,
              "#f0f921"
             ]
            ],
            "type": "histogram2d"
           }
          ],
          "histogram2dcontour": [
           {
            "colorbar": {
             "outlinewidth": 0,
             "ticks": ""
            },
            "colorscale": [
             [
              0,
              "#0d0887"
             ],
             [
              0.1111111111111111,
              "#46039f"
             ],
             [
              0.2222222222222222,
              "#7201a8"
             ],
             [
              0.3333333333333333,
              "#9c179e"
             ],
             [
              0.4444444444444444,
              "#bd3786"
             ],
             [
              0.5555555555555556,
              "#d8576b"
             ],
             [
              0.6666666666666666,
              "#ed7953"
             ],
             [
              0.7777777777777778,
              "#fb9f3a"
             ],
             [
              0.8888888888888888,
              "#fdca26"
             ],
             [
              1,
              "#f0f921"
             ]
            ],
            "type": "histogram2dcontour"
           }
          ],
          "mesh3d": [
           {
            "colorbar": {
             "outlinewidth": 0,
             "ticks": ""
            },
            "type": "mesh3d"
           }
          ],
          "parcoords": [
           {
            "line": {
             "colorbar": {
              "outlinewidth": 0,
              "ticks": ""
             }
            },
            "type": "parcoords"
           }
          ],
          "pie": [
           {
            "automargin": true,
            "type": "pie"
           }
          ],
          "scatter": [
           {
            "fillpattern": {
             "fillmode": "overlay",
             "size": 10,
             "solidity": 0.2
            },
            "type": "scatter"
           }
          ],
          "scatter3d": [
           {
            "line": {
             "colorbar": {
              "outlinewidth": 0,
              "ticks": ""
             }
            },
            "marker": {
             "colorbar": {
              "outlinewidth": 0,
              "ticks": ""
             }
            },
            "type": "scatter3d"
           }
          ],
          "scattercarpet": [
           {
            "marker": {
             "colorbar": {
              "outlinewidth": 0,
              "ticks": ""
             }
            },
            "type": "scattercarpet"
           }
          ],
          "scattergeo": [
           {
            "marker": {
             "colorbar": {
              "outlinewidth": 0,
              "ticks": ""
             }
            },
            "type": "scattergeo"
           }
          ],
          "scattergl": [
           {
            "marker": {
             "colorbar": {
              "outlinewidth": 0,
              "ticks": ""
             }
            },
            "type": "scattergl"
           }
          ],
          "scattermapbox": [
           {
            "marker": {
             "colorbar": {
              "outlinewidth": 0,
              "ticks": ""
             }
            },
            "type": "scattermapbox"
           }
          ],
          "scatterpolar": [
           {
            "marker": {
             "colorbar": {
              "outlinewidth": 0,
              "ticks": ""
             }
            },
            "type": "scatterpolar"
           }
          ],
          "scatterpolargl": [
           {
            "marker": {
             "colorbar": {
              "outlinewidth": 0,
              "ticks": ""
             }
            },
            "type": "scatterpolargl"
           }
          ],
          "scatterternary": [
           {
            "marker": {
             "colorbar": {
              "outlinewidth": 0,
              "ticks": ""
             }
            },
            "type": "scatterternary"
           }
          ],
          "surface": [
           {
            "colorbar": {
             "outlinewidth": 0,
             "ticks": ""
            },
            "colorscale": [
             [
              0,
              "#0d0887"
             ],
             [
              0.1111111111111111,
              "#46039f"
             ],
             [
              0.2222222222222222,
              "#7201a8"
             ],
             [
              0.3333333333333333,
              "#9c179e"
             ],
             [
              0.4444444444444444,
              "#bd3786"
             ],
             [
              0.5555555555555556,
              "#d8576b"
             ],
             [
              0.6666666666666666,
              "#ed7953"
             ],
             [
              0.7777777777777778,
              "#fb9f3a"
             ],
             [
              0.8888888888888888,
              "#fdca26"
             ],
             [
              1,
              "#f0f921"
             ]
            ],
            "type": "surface"
           }
          ],
          "table": [
           {
            "cells": {
             "fill": {
              "color": "#EBF0F8"
             },
             "line": {
              "color": "white"
             }
            },
            "header": {
             "fill": {
              "color": "#C8D4E3"
             },
             "line": {
              "color": "white"
             }
            },
            "type": "table"
           }
          ]
         },
         "layout": {
          "annotationdefaults": {
           "arrowcolor": "#2a3f5f",
           "arrowhead": 0,
           "arrowwidth": 1
          },
          "autotypenumbers": "strict",
          "coloraxis": {
           "colorbar": {
            "outlinewidth": 0,
            "ticks": ""
           }
          },
          "colorscale": {
           "diverging": [
            [
             0,
             "#8e0152"
            ],
            [
             0.1,
             "#c51b7d"
            ],
            [
             0.2,
             "#de77ae"
            ],
            [
             0.3,
             "#f1b6da"
            ],
            [
             0.4,
             "#fde0ef"
            ],
            [
             0.5,
             "#f7f7f7"
            ],
            [
             0.6,
             "#e6f5d0"
            ],
            [
             0.7,
             "#b8e186"
            ],
            [
             0.8,
             "#7fbc41"
            ],
            [
             0.9,
             "#4d9221"
            ],
            [
             1,
             "#276419"
            ]
           ],
           "sequential": [
            [
             0,
             "#0d0887"
            ],
            [
             0.1111111111111111,
             "#46039f"
            ],
            [
             0.2222222222222222,
             "#7201a8"
            ],
            [
             0.3333333333333333,
             "#9c179e"
            ],
            [
             0.4444444444444444,
             "#bd3786"
            ],
            [
             0.5555555555555556,
             "#d8576b"
            ],
            [
             0.6666666666666666,
             "#ed7953"
            ],
            [
             0.7777777777777778,
             "#fb9f3a"
            ],
            [
             0.8888888888888888,
             "#fdca26"
            ],
            [
             1,
             "#f0f921"
            ]
           ],
           "sequentialminus": [
            [
             0,
             "#0d0887"
            ],
            [
             0.1111111111111111,
             "#46039f"
            ],
            [
             0.2222222222222222,
             "#7201a8"
            ],
            [
             0.3333333333333333,
             "#9c179e"
            ],
            [
             0.4444444444444444,
             "#bd3786"
            ],
            [
             0.5555555555555556,
             "#d8576b"
            ],
            [
             0.6666666666666666,
             "#ed7953"
            ],
            [
             0.7777777777777778,
             "#fb9f3a"
            ],
            [
             0.8888888888888888,
             "#fdca26"
            ],
            [
             1,
             "#f0f921"
            ]
           ]
          },
          "colorway": [
           "#636efa",
           "#EF553B",
           "#00cc96",
           "#ab63fa",
           "#FFA15A",
           "#19d3f3",
           "#FF6692",
           "#B6E880",
           "#FF97FF",
           "#FECB52"
          ],
          "font": {
           "color": "#2a3f5f"
          },
          "geo": {
           "bgcolor": "white",
           "lakecolor": "white",
           "landcolor": "#E5ECF6",
           "showlakes": true,
           "showland": true,
           "subunitcolor": "white"
          },
          "hoverlabel": {
           "align": "left"
          },
          "hovermode": "closest",
          "mapbox": {
           "style": "light"
          },
          "paper_bgcolor": "white",
          "plot_bgcolor": "#E5ECF6",
          "polar": {
           "angularaxis": {
            "gridcolor": "white",
            "linecolor": "white",
            "ticks": ""
           },
           "bgcolor": "#E5ECF6",
           "radialaxis": {
            "gridcolor": "white",
            "linecolor": "white",
            "ticks": ""
           }
          },
          "scene": {
           "xaxis": {
            "backgroundcolor": "#E5ECF6",
            "gridcolor": "white",
            "gridwidth": 2,
            "linecolor": "white",
            "showbackground": true,
            "ticks": "",
            "zerolinecolor": "white"
           },
           "yaxis": {
            "backgroundcolor": "#E5ECF6",
            "gridcolor": "white",
            "gridwidth": 2,
            "linecolor": "white",
            "showbackground": true,
            "ticks": "",
            "zerolinecolor": "white"
           },
           "zaxis": {
            "backgroundcolor": "#E5ECF6",
            "gridcolor": "white",
            "gridwidth": 2,
            "linecolor": "white",
            "showbackground": true,
            "ticks": "",
            "zerolinecolor": "white"
           }
          },
          "shapedefaults": {
           "line": {
            "color": "#2a3f5f"
           }
          },
          "ternary": {
           "aaxis": {
            "gridcolor": "white",
            "linecolor": "white",
            "ticks": ""
           },
           "baxis": {
            "gridcolor": "white",
            "linecolor": "white",
            "ticks": ""
           },
           "bgcolor": "#E5ECF6",
           "caxis": {
            "gridcolor": "white",
            "linecolor": "white",
            "ticks": ""
           }
          },
          "title": {
           "x": 0.05
          },
          "xaxis": {
           "automargin": true,
           "gridcolor": "white",
           "linecolor": "white",
           "ticks": "",
           "title": {
            "standoff": 15
           },
           "zerolinecolor": "white",
           "zerolinewidth": 2
          },
          "yaxis": {
           "automargin": true,
           "gridcolor": "white",
           "linecolor": "white",
           "ticks": "",
           "title": {
            "standoff": 15
           },
           "zerolinecolor": "white",
           "zerolinewidth": 2
          }
         }
        },
        "xaxis": {
         "anchor": "y",
         "domain": [
          0,
          0.18000000000000002
         ],
         "title": {
          "text": "Year:"
         }
        },
        "xaxis10": {
         "anchor": "y10",
         "domain": [
          0.8,
          0.9800000000000001
         ],
         "matches": "x",
         "showticklabels": false
        },
        "xaxis2": {
         "anchor": "y2",
         "domain": [
          0.2,
          0.38
         ],
         "matches": "x",
         "title": {
          "text": "Year:"
         }
        },
        "xaxis3": {
         "anchor": "y3",
         "domain": [
          0.4,
          0.5800000000000001
         ],
         "matches": "x",
         "title": {
          "text": "Year:"
         }
        },
        "xaxis4": {
         "anchor": "y4",
         "domain": [
          0.6000000000000001,
          0.7800000000000001
         ],
         "matches": "x",
         "title": {
          "text": "Year:"
         }
        },
        "xaxis5": {
         "anchor": "y5",
         "domain": [
          0.8,
          0.9800000000000001
         ],
         "matches": "x",
         "title": {
          "text": "Year:"
         }
        },
        "xaxis6": {
         "anchor": "y6",
         "domain": [
          0,
          0.18000000000000002
         ],
         "matches": "x",
         "showticklabels": false
        },
        "xaxis7": {
         "anchor": "y7",
         "domain": [
          0.2,
          0.38
         ],
         "matches": "x",
         "showticklabels": false
        },
        "xaxis8": {
         "anchor": "y8",
         "domain": [
          0.4,
          0.5800000000000001
         ],
         "matches": "x",
         "showticklabels": false
        },
        "xaxis9": {
         "anchor": "y9",
         "domain": [
          0.6000000000000001,
          0.7800000000000001
         ],
         "matches": "x",
         "showticklabels": false
        },
        "yaxis": {
         "anchor": "x",
         "domain": [
          0,
          0.485
         ],
         "title": {
          "text": "Price:"
         }
        },
        "yaxis10": {
         "anchor": "x10",
         "domain": [
          0.515,
          1
         ],
         "matches": "y",
         "showticklabels": false
        },
        "yaxis2": {
         "anchor": "x2",
         "domain": [
          0,
          0.485
         ],
         "matches": "y",
         "showticklabels": false
        },
        "yaxis3": {
         "anchor": "x3",
         "domain": [
          0,
          0.485
         ],
         "matches": "y",
         "showticklabels": false
        },
        "yaxis4": {
         "anchor": "x4",
         "domain": [
          0,
          0.485
         ],
         "matches": "y",
         "showticklabels": false
        },
        "yaxis5": {
         "anchor": "x5",
         "domain": [
          0,
          0.485
         ],
         "matches": "y",
         "showticklabels": false
        },
        "yaxis6": {
         "anchor": "x6",
         "domain": [
          0.515,
          1
         ],
         "matches": "y",
         "title": {
          "text": "Price:"
         }
        },
        "yaxis7": {
         "anchor": "x7",
         "domain": [
          0.515,
          1
         ],
         "matches": "y",
         "showticklabels": false
        },
        "yaxis8": {
         "anchor": "x8",
         "domain": [
          0.515,
          1
         ],
         "matches": "y",
         "showticklabels": false
        },
        "yaxis9": {
         "anchor": "x9",
         "domain": [
          0.515,
          1
         ],
         "matches": "y",
         "showticklabels": false
        }
       }
      }
     },
     "metadata": {},
     "output_type": "display_data"
    }
   ],
   "source": [
    "df3 = df2[df2['Manufacturer:'].isin(top_manufacturers)]\n",
    "px.scatter(df3, x='Year:', y='Price:', color='Doors:', facet_row='Transmission:', facet_col='Manufacturer:')"
   ]
  },
  {
   "cell_type": "code",
   "execution_count": 15,
   "metadata": {},
   "outputs": [],
   "source": [
    "df4 = df3.pivot_table(values=['Price:'], index=['Manufacturer:', 'Transmission:', 'Doors:', 'Year:'], aggfunc=np.mean)\n",
    "df4 = df4.reset_index(level=[0, 1, 2, 3])"
   ]
  },
  {
   "cell_type": "code",
   "execution_count": 16,
   "metadata": {},
   "outputs": [
    {
     "data": {
      "application/vnd.plotly.v1+json": {
       "config": {
        "plotlyServerURL": "https://plot.ly"
       },
       "data": [
        {
         "hovertemplate": "Transmission:=Automatic<br>Doors:=2<br>Manufacturer:=BMW<br>Year:=%{x}<br>Price:=%{y}<extra></extra>",
         "legendgroup": "Automatic",
         "line": {
          "color": "#636efa",
          "dash": "solid"
         },
         "marker": {
          "symbol": "circle"
         },
         "mode": "lines",
         "name": "Automatic",
         "orientation": "v",
         "showlegend": true,
         "type": "scatter",
         "x": [
          2019,
          2021
         ],
         "xaxis": "x16",
         "y": [
          79950,
          65850
         ],
         "yaxis": "y16"
        },
        {
         "hovertemplate": "Transmission:=Automatic<br>Doors:=3<br>Manufacturer:=BMW<br>Year:=%{x}<br>Price:=%{y}<extra></extra>",
         "legendgroup": "Automatic",
         "line": {
          "color": "#636efa",
          "dash": "solid"
         },
         "marker": {
          "symbol": "circle"
         },
         "mode": "lines",
         "name": "Automatic",
         "orientation": "v",
         "showlegend": false,
         "type": "scatter",
         "x": [
          2016
         ],
         "xaxis": "x11",
         "y": [
          29950
         ],
         "yaxis": "y11"
        },
        {
         "hovertemplate": "Transmission:=Automatic<br>Doors:=4<br>Manufacturer:=BMW<br>Year:=%{x}<br>Price:=%{y}<extra></extra>",
         "legendgroup": "Automatic",
         "line": {
          "color": "#636efa",
          "dash": "solid"
         },
         "marker": {
          "symbol": "circle"
         },
         "mode": "lines",
         "name": "Automatic",
         "orientation": "v",
         "showlegend": false,
         "type": "scatter",
         "x": [
          2012,
          2013,
          2014,
          2015,
          2016,
          2017,
          2018,
          2019,
          2020,
          2021,
          2022
         ],
         "xaxis": "x6",
         "y": [
          10900,
          17900,
          25474.5,
          25131.666666666668,
          28995,
          28455.714285714286,
          35447.5,
          34706.28571428572,
          34945,
          76472.5,
          66595
         ],
         "yaxis": "y6"
        },
        {
         "hovertemplate": "Transmission:=Automatic<br>Doors:=4<br>Manufacturer:=FORD<br>Year:=%{x}<br>Price:=%{y}<extra></extra>",
         "legendgroup": "Automatic",
         "line": {
          "color": "#636efa",
          "dash": "solid"
         },
         "marker": {
          "symbol": "circle"
         },
         "mode": "lines",
         "name": "Automatic",
         "orientation": "v",
         "showlegend": false,
         "type": "scatter",
         "x": [
          2005,
          2021
         ],
         "xaxis": "x7",
         "y": [
          2950,
          30995
         ],
         "yaxis": "y7"
        },
        {
         "hovertemplate": "Transmission:=Automatic<br>Doors:=4<br>Manufacturer:=NISSAN<br>Year:=%{x}<br>Price:=%{y}<extra></extra>",
         "legendgroup": "Automatic",
         "line": {
          "color": "#636efa",
          "dash": "solid"
         },
         "marker": {
          "symbol": "circle"
         },
         "mode": "lines",
         "name": "Automatic",
         "orientation": "v",
         "showlegend": false,
         "type": "scatter",
         "x": [
          2016,
          2017,
          2019,
          2020,
          2022
         ],
         "xaxis": "x8",
         "y": [
          15950,
          15100,
          19708.125,
          32995,
          47995
         ],
         "yaxis": "y8"
        },
        {
         "hovertemplate": "Transmission:=Automatic<br>Doors:=4<br>Manufacturer:=RENAULT<br>Year:=%{x}<br>Price:=%{y}<extra></extra>",
         "legendgroup": "Automatic",
         "line": {
          "color": "#636efa",
          "dash": "solid"
         },
         "marker": {
          "symbol": "circle"
         },
         "mode": "lines",
         "name": "Automatic",
         "orientation": "v",
         "showlegend": false,
         "type": "scatter",
         "x": [
          2016,
          2017,
          2020,
          2021
         ],
         "xaxis": "x9",
         "y": [
          14495,
          17445,
          24245,
          28495
         ],
         "yaxis": "y9"
        },
        {
         "hovertemplate": "Transmission:=Automatic<br>Doors:=4<br>Manufacturer:=VOLKSWAGEN<br>Year:=%{x}<br>Price:=%{y}<extra></extra>",
         "legendgroup": "Automatic",
         "line": {
          "color": "#636efa",
          "dash": "solid"
         },
         "marker": {
          "symbol": "circle"
         },
         "mode": "lines",
         "name": "Automatic",
         "orientation": "v",
         "showlegend": false,
         "type": "scatter",
         "x": [
          2013
         ],
         "xaxis": "x10",
         "y": [
          18750
         ],
         "yaxis": "y10"
        },
        {
         "hovertemplate": "Transmission:=Automatic<br>Doors:=5<br>Manufacturer:=BMW<br>Year:=%{x}<br>Price:=%{y}<extra></extra>",
         "legendgroup": "Automatic",
         "line": {
          "color": "#636efa",
          "dash": "solid"
         },
         "marker": {
          "symbol": "circle"
         },
         "mode": "lines",
         "name": "Automatic",
         "orientation": "v",
         "showlegend": false,
         "type": "scatter",
         "x": [
          2013,
          2014,
          2016,
          2017,
          2018,
          2019,
          2021,
          2022
         ],
         "xaxis": "x",
         "y": [
          14490,
          17700,
          34995,
          23950,
          42900,
          52950,
          93950,
          67631.66666666667
         ],
         "yaxis": "y"
        },
        {
         "hovertemplate": "Transmission:=Automatic<br>Doors:=5<br>Manufacturer:=FORD<br>Year:=%{x}<br>Price:=%{y}<extra></extra>",
         "legendgroup": "Automatic",
         "line": {
          "color": "#636efa",
          "dash": "solid"
         },
         "marker": {
          "symbol": "circle"
         },
         "mode": "lines",
         "name": "Automatic",
         "orientation": "v",
         "showlegend": false,
         "type": "scatter",
         "x": [
          2007,
          2019
         ],
         "xaxis": "x2",
         "y": [
          2995,
          20950
         ],
         "yaxis": "y2"
        },
        {
         "hovertemplate": "Transmission:=Automatic<br>Doors:=5<br>Manufacturer:=NISSAN<br>Year:=%{x}<br>Price:=%{y}<extra></extra>",
         "legendgroup": "Automatic",
         "line": {
          "color": "#636efa",
          "dash": "solid"
         },
         "marker": {
          "symbol": "circle"
         },
         "mode": "lines",
         "name": "Automatic",
         "orientation": "v",
         "showlegend": false,
         "type": "scatter",
         "x": [
          2011,
          2014,
          2016,
          2019,
          2020
         ],
         "xaxis": "x3",
         "y": [
          10750,
          11600,
          17950,
          12995,
          26795
         ],
         "yaxis": "y3"
        },
        {
         "hovertemplate": "Transmission:=Automatic<br>Doors:=5<br>Manufacturer:=RENAULT<br>Year:=%{x}<br>Price:=%{y}<extra></extra>",
         "legendgroup": "Automatic",
         "line": {
          "color": "#636efa",
          "dash": "solid"
         },
         "marker": {
          "symbol": "circle"
         },
         "mode": "lines",
         "name": "Automatic",
         "orientation": "v",
         "showlegend": false,
         "type": "scatter",
         "x": [
          2020,
          2021,
          2022
         ],
         "xaxis": "x4",
         "y": [
          29449,
          29995,
          34197.5
         ],
         "yaxis": "y4"
        },
        {
         "hovertemplate": "Transmission:=Automatic<br>Doors:=5<br>Manufacturer:=VOLKSWAGEN<br>Year:=%{x}<br>Price:=%{y}<extra></extra>",
         "legendgroup": "Automatic",
         "line": {
          "color": "#636efa",
          "dash": "solid"
         },
         "marker": {
          "symbol": "circle"
         },
         "mode": "lines",
         "name": "Automatic",
         "orientation": "v",
         "showlegend": false,
         "type": "scatter",
         "x": [
          2008,
          2013,
          2014,
          2015,
          2016,
          2019,
          2020,
          2021,
          2023
         ],
         "xaxis": "x5",
         "y": [
          6950,
          12600,
          14512.5,
          15616.666666666666,
          19450,
          31318,
          47472.5,
          47495,
          69950
         ],
         "yaxis": "y5"
        },
        {
         "hovertemplate": "Transmission:=Manual<br>Doors:=3<br>Manufacturer:=FORD<br>Year:=%{x}<br>Price:=%{y}<extra></extra>",
         "legendgroup": "Manual",
         "line": {
          "color": "#EF553B",
          "dash": "solid"
         },
         "marker": {
          "symbol": "circle"
         },
         "mode": "lines",
         "name": "Manual",
         "orientation": "v",
         "showlegend": true,
         "type": "scatter",
         "x": [
          2016,
          2019
         ],
         "xaxis": "x12",
         "y": [
          14080,
          12191
         ],
         "yaxis": "y12"
        },
        {
         "hovertemplate": "Transmission:=Manual<br>Doors:=3<br>Manufacturer:=RENAULT<br>Year:=%{x}<br>Price:=%{y}<extra></extra>",
         "legendgroup": "Manual",
         "line": {
          "color": "#EF553B",
          "dash": "solid"
         },
         "marker": {
          "symbol": "circle"
         },
         "mode": "lines",
         "name": "Manual",
         "orientation": "v",
         "showlegend": false,
         "type": "scatter",
         "x": [
          2021
         ],
         "xaxis": "x14",
         "y": [
          24280
         ],
         "yaxis": "y14"
        },
        {
         "hovertemplate": "Transmission:=Manual<br>Doors:=3<br>Manufacturer:=VOLKSWAGEN<br>Year:=%{x}<br>Price:=%{y}<extra></extra>",
         "legendgroup": "Manual",
         "line": {
          "color": "#EF553B",
          "dash": "solid"
         },
         "marker": {
          "symbol": "circle"
         },
         "mode": "lines",
         "name": "Manual",
         "orientation": "v",
         "showlegend": false,
         "type": "scatter",
         "x": [
          2014,
          2015
         ],
         "xaxis": "x15",
         "y": [
          12995,
          18000
         ],
         "yaxis": "y15"
        },
        {
         "hovertemplate": "Transmission:=Manual<br>Doors:=4<br>Manufacturer:=BMW<br>Year:=%{x}<br>Price:=%{y}<extra></extra>",
         "legendgroup": "Manual",
         "line": {
          "color": "#EF553B",
          "dash": "solid"
         },
         "marker": {
          "symbol": "circle"
         },
         "mode": "lines",
         "name": "Manual",
         "orientation": "v",
         "showlegend": false,
         "type": "scatter",
         "x": [
          2009,
          2013,
          2016
         ],
         "xaxis": "x6",
         "y": [
          7250,
          11925,
          22999
         ],
         "yaxis": "y6"
        },
        {
         "hovertemplate": "Transmission:=Manual<br>Doors:=4<br>Manufacturer:=FORD<br>Year:=%{x}<br>Price:=%{y}<extra></extra>",
         "legendgroup": "Manual",
         "line": {
          "color": "#EF553B",
          "dash": "solid"
         },
         "marker": {
          "symbol": "circle"
         },
         "mode": "lines",
         "name": "Manual",
         "orientation": "v",
         "showlegend": false,
         "type": "scatter",
         "x": [
          2013,
          2014,
          2015,
          2016,
          2017,
          2018,
          2019,
          2020,
          2021,
          2023
         ],
         "xaxis": "x7",
         "y": [
          7474.5,
          9500,
          10922.5,
          12500,
          19297.5,
          19787,
          16995,
          27975,
          30995,
          46748
         ],
         "yaxis": "y7"
        },
        {
         "hovertemplate": "Transmission:=Manual<br>Doors:=4<br>Manufacturer:=NISSAN<br>Year:=%{x}<br>Price:=%{y}<extra></extra>",
         "legendgroup": "Manual",
         "line": {
          "color": "#EF553B",
          "dash": "solid"
         },
         "marker": {
          "symbol": "circle"
         },
         "mode": "lines",
         "name": "Manual",
         "orientation": "v",
         "showlegend": false,
         "type": "scatter",
         "x": [
          2013,
          2014,
          2015,
          2016,
          2017,
          2018,
          2020,
          2021,
          2022
         ],
         "xaxis": "x8",
         "y": [
          7200,
          12500,
          9990,
          20995,
          19471.25,
          21995,
          32995,
          29830,
          27900
         ],
         "yaxis": "y8"
        },
        {
         "hovertemplate": "Transmission:=Manual<br>Doors:=4<br>Manufacturer:=RENAULT<br>Year:=%{x}<br>Price:=%{y}<extra></extra>",
         "legendgroup": "Manual",
         "line": {
          "color": "#EF553B",
          "dash": "solid"
         },
         "marker": {
          "symbol": "circle"
         },
         "mode": "lines",
         "name": "Manual",
         "orientation": "v",
         "showlegend": false,
         "type": "scatter",
         "x": [
          2016,
          2017,
          2018,
          2019,
          2020
         ],
         "xaxis": "x9",
         "y": [
          16450,
          18686.25,
          15685,
          17672.5,
          23950
         ],
         "yaxis": "y9"
        },
        {
         "hovertemplate": "Transmission:=Manual<br>Doors:=4<br>Manufacturer:=VOLKSWAGEN<br>Year:=%{x}<br>Price:=%{y}<extra></extra>",
         "legendgroup": "Manual",
         "line": {
          "color": "#EF553B",
          "dash": "solid"
         },
         "marker": {
          "symbol": "circle"
         },
         "mode": "lines",
         "name": "Manual",
         "orientation": "v",
         "showlegend": false,
         "type": "scatter",
         "x": [
          2007,
          2008,
          2009,
          2012,
          2014,
          2015,
          2016,
          2017,
          2018
         ],
         "xaxis": "x10",
         "y": [
          2990,
          2450,
          6999,
          8295,
          9995,
          11897.5,
          17894.5,
          19950,
          17950
         ],
         "yaxis": "y10"
        },
        {
         "hovertemplate": "Transmission:=Manual<br>Doors:=5<br>Manufacturer:=BMW<br>Year:=%{x}<br>Price:=%{y}<extra></extra>",
         "legendgroup": "Manual",
         "line": {
          "color": "#EF553B",
          "dash": "solid"
         },
         "marker": {
          "symbol": "circle"
         },
         "mode": "lines",
         "name": "Manual",
         "orientation": "v",
         "showlegend": false,
         "type": "scatter",
         "x": [
          2010,
          2017,
          2018,
          2022
         ],
         "xaxis": "x",
         "y": [
          5995,
          17900,
          22900,
          42995
         ],
         "yaxis": "y"
        },
        {
         "hovertemplate": "Transmission:=Manual<br>Doors:=5<br>Manufacturer:=FORD<br>Year:=%{x}<br>Price:=%{y}<extra></extra>",
         "legendgroup": "Manual",
         "line": {
          "color": "#EF553B",
          "dash": "solid"
         },
         "marker": {
          "symbol": "circle"
         },
         "mode": "lines",
         "name": "Manual",
         "orientation": "v",
         "showlegend": false,
         "type": "scatter",
         "x": [
          2008,
          2009,
          2011,
          2012,
          2013,
          2014,
          2015,
          2016,
          2017,
          2018,
          2019,
          2020
         ],
         "xaxis": "x2",
         "y": [
          3250,
          3995,
          3874.5,
          6850,
          8925,
          10672.5,
          11046.5,
          14743.333333333334,
          16472.5,
          16823.75,
          22650,
          23950
         ],
         "yaxis": "y2"
        },
        {
         "hovertemplate": "Transmission:=Manual<br>Doors:=5<br>Manufacturer:=NISSAN<br>Year:=%{x}<br>Price:=%{y}<extra></extra>",
         "legendgroup": "Manual",
         "line": {
          "color": "#EF553B",
          "dash": "solid"
         },
         "marker": {
          "symbol": "circle"
         },
         "mode": "lines",
         "name": "Manual",
         "orientation": "v",
         "showlegend": false,
         "type": "scatter",
         "x": [
          2007,
          2008,
          2010,
          2011,
          2013,
          2015,
          2016,
          2017,
          2019,
          2020
         ],
         "xaxis": "x3",
         "y": [
          3250,
          3999,
          4249.5,
          6800,
          9747.5,
          13990,
          15657,
          16422.5,
          16766.666666666668,
          24500
         ],
         "yaxis": "y3"
        },
        {
         "hovertemplate": "Transmission:=Manual<br>Doors:=5<br>Manufacturer:=RENAULT<br>Year:=%{x}<br>Price:=%{y}<extra></extra>",
         "legendgroup": "Manual",
         "line": {
          "color": "#EF553B",
          "dash": "solid"
         },
         "marker": {
          "symbol": "circle"
         },
         "mode": "lines",
         "name": "Manual",
         "orientation": "v",
         "showlegend": false,
         "type": "scatter",
         "x": [
          2016,
          2017,
          2018,
          2019,
          2020,
          2021,
          2022
         ],
         "xaxis": "x4",
         "y": [
          14950,
          12900,
          23129.666666666668,
          22133,
          23330,
          26197.5,
          27067.272727272728
         ],
         "yaxis": "y4"
        },
        {
         "hovertemplate": "Transmission:=Manual<br>Doors:=5<br>Manufacturer:=VOLKSWAGEN<br>Year:=%{x}<br>Price:=%{y}<extra></extra>",
         "legendgroup": "Manual",
         "line": {
          "color": "#EF553B",
          "dash": "solid"
         },
         "marker": {
          "symbol": "circle"
         },
         "mode": "lines",
         "name": "Manual",
         "orientation": "v",
         "showlegend": false,
         "type": "scatter",
         "x": [
          2005,
          2010,
          2011,
          2012,
          2013,
          2015,
          2016,
          2017,
          2018,
          2019,
          2020,
          2021,
          2022
         ],
         "xaxis": "x5",
         "y": [
          2250,
          8950,
          5995,
          18500,
          8450,
          14597.5,
          18505,
          17615,
          20821.25,
          34450,
          24472.5,
          22637.85714285714,
          30198.333333333332
         ],
         "yaxis": "y5"
        }
       ],
       "layout": {
        "annotations": [
         {
          "font": {},
          "showarrow": false,
          "text": "Manufacturer:=BMW",
          "x": 0.09000000000000001,
          "xanchor": "center",
          "xref": "paper",
          "y": 1,
          "yanchor": "bottom",
          "yref": "paper"
         },
         {
          "font": {},
          "showarrow": false,
          "text": "Manufacturer:=FORD",
          "x": 0.29000000000000004,
          "xanchor": "center",
          "xref": "paper",
          "y": 1,
          "yanchor": "bottom",
          "yref": "paper"
         },
         {
          "font": {},
          "showarrow": false,
          "text": "Manufacturer:=NISSAN",
          "x": 0.49000000000000005,
          "xanchor": "center",
          "xref": "paper",
          "y": 1,
          "yanchor": "bottom",
          "yref": "paper"
         },
         {
          "font": {},
          "showarrow": false,
          "text": "Manufacturer:=RENAULT",
          "x": 0.6900000000000002,
          "xanchor": "center",
          "xref": "paper",
          "y": 1,
          "yanchor": "bottom",
          "yref": "paper"
         },
         {
          "font": {},
          "showarrow": false,
          "text": "Manufacturer:=VOLKSWAGEN",
          "x": 0.8900000000000001,
          "xanchor": "center",
          "xref": "paper",
          "y": 1,
          "yanchor": "bottom",
          "yref": "paper"
         },
         {
          "font": {},
          "showarrow": false,
          "text": "Doors:=5",
          "textangle": 90,
          "x": 0.9800000000000001,
          "xanchor": "left",
          "xref": "paper",
          "y": 0.11375,
          "yanchor": "middle",
          "yref": "paper"
         },
         {
          "font": {},
          "showarrow": false,
          "text": "Doors:=4",
          "textangle": 90,
          "x": 0.9800000000000001,
          "xanchor": "left",
          "xref": "paper",
          "y": 0.37124999999999997,
          "yanchor": "middle",
          "yref": "paper"
         },
         {
          "font": {},
          "showarrow": false,
          "text": "Doors:=3",
          "textangle": 90,
          "x": 0.9800000000000001,
          "xanchor": "left",
          "xref": "paper",
          "y": 0.62875,
          "yanchor": "middle",
          "yref": "paper"
         },
         {
          "font": {},
          "showarrow": false,
          "text": "Doors:=2",
          "textangle": 90,
          "x": 0.9800000000000001,
          "xanchor": "left",
          "xref": "paper",
          "y": 0.88625,
          "yanchor": "middle",
          "yref": "paper"
         }
        ],
        "legend": {
         "title": {
          "text": "Transmission:"
         },
         "tracegroupgap": 0
        },
        "margin": {
         "t": 60
        },
        "template": {
         "data": {
          "bar": [
           {
            "error_x": {
             "color": "#2a3f5f"
            },
            "error_y": {
             "color": "#2a3f5f"
            },
            "marker": {
             "line": {
              "color": "#E5ECF6",
              "width": 0.5
             },
             "pattern": {
              "fillmode": "overlay",
              "size": 10,
              "solidity": 0.2
             }
            },
            "type": "bar"
           }
          ],
          "barpolar": [
           {
            "marker": {
             "line": {
              "color": "#E5ECF6",
              "width": 0.5
             },
             "pattern": {
              "fillmode": "overlay",
              "size": 10,
              "solidity": 0.2
             }
            },
            "type": "barpolar"
           }
          ],
          "carpet": [
           {
            "aaxis": {
             "endlinecolor": "#2a3f5f",
             "gridcolor": "white",
             "linecolor": "white",
             "minorgridcolor": "white",
             "startlinecolor": "#2a3f5f"
            },
            "baxis": {
             "endlinecolor": "#2a3f5f",
             "gridcolor": "white",
             "linecolor": "white",
             "minorgridcolor": "white",
             "startlinecolor": "#2a3f5f"
            },
            "type": "carpet"
           }
          ],
          "choropleth": [
           {
            "colorbar": {
             "outlinewidth": 0,
             "ticks": ""
            },
            "type": "choropleth"
           }
          ],
          "contour": [
           {
            "colorbar": {
             "outlinewidth": 0,
             "ticks": ""
            },
            "colorscale": [
             [
              0,
              "#0d0887"
             ],
             [
              0.1111111111111111,
              "#46039f"
             ],
             [
              0.2222222222222222,
              "#7201a8"
             ],
             [
              0.3333333333333333,
              "#9c179e"
             ],
             [
              0.4444444444444444,
              "#bd3786"
             ],
             [
              0.5555555555555556,
              "#d8576b"
             ],
             [
              0.6666666666666666,
              "#ed7953"
             ],
             [
              0.7777777777777778,
              "#fb9f3a"
             ],
             [
              0.8888888888888888,
              "#fdca26"
             ],
             [
              1,
              "#f0f921"
             ]
            ],
            "type": "contour"
           }
          ],
          "contourcarpet": [
           {
            "colorbar": {
             "outlinewidth": 0,
             "ticks": ""
            },
            "type": "contourcarpet"
           }
          ],
          "heatmap": [
           {
            "colorbar": {
             "outlinewidth": 0,
             "ticks": ""
            },
            "colorscale": [
             [
              0,
              "#0d0887"
             ],
             [
              0.1111111111111111,
              "#46039f"
             ],
             [
              0.2222222222222222,
              "#7201a8"
             ],
             [
              0.3333333333333333,
              "#9c179e"
             ],
             [
              0.4444444444444444,
              "#bd3786"
             ],
             [
              0.5555555555555556,
              "#d8576b"
             ],
             [
              0.6666666666666666,
              "#ed7953"
             ],
             [
              0.7777777777777778,
              "#fb9f3a"
             ],
             [
              0.8888888888888888,
              "#fdca26"
             ],
             [
              1,
              "#f0f921"
             ]
            ],
            "type": "heatmap"
           }
          ],
          "heatmapgl": [
           {
            "colorbar": {
             "outlinewidth": 0,
             "ticks": ""
            },
            "colorscale": [
             [
              0,
              "#0d0887"
             ],
             [
              0.1111111111111111,
              "#46039f"
             ],
             [
              0.2222222222222222,
              "#7201a8"
             ],
             [
              0.3333333333333333,
              "#9c179e"
             ],
             [
              0.4444444444444444,
              "#bd3786"
             ],
             [
              0.5555555555555556,
              "#d8576b"
             ],
             [
              0.6666666666666666,
              "#ed7953"
             ],
             [
              0.7777777777777778,
              "#fb9f3a"
             ],
             [
              0.8888888888888888,
              "#fdca26"
             ],
             [
              1,
              "#f0f921"
             ]
            ],
            "type": "heatmapgl"
           }
          ],
          "histogram": [
           {
            "marker": {
             "pattern": {
              "fillmode": "overlay",
              "size": 10,
              "solidity": 0.2
             }
            },
            "type": "histogram"
           }
          ],
          "histogram2d": [
           {
            "colorbar": {
             "outlinewidth": 0,
             "ticks": ""
            },
            "colorscale": [
             [
              0,
              "#0d0887"
             ],
             [
              0.1111111111111111,
              "#46039f"
             ],
             [
              0.2222222222222222,
              "#7201a8"
             ],
             [
              0.3333333333333333,
              "#9c179e"
             ],
             [
              0.4444444444444444,
              "#bd3786"
             ],
             [
              0.5555555555555556,
              "#d8576b"
             ],
             [
              0.6666666666666666,
              "#ed7953"
             ],
             [
              0.7777777777777778,
              "#fb9f3a"
             ],
             [
              0.8888888888888888,
              "#fdca26"
             ],
             [
              1,
              "#f0f921"
             ]
            ],
            "type": "histogram2d"
           }
          ],
          "histogram2dcontour": [
           {
            "colorbar": {
             "outlinewidth": 0,
             "ticks": ""
            },
            "colorscale": [
             [
              0,
              "#0d0887"
             ],
             [
              0.1111111111111111,
              "#46039f"
             ],
             [
              0.2222222222222222,
              "#7201a8"
             ],
             [
              0.3333333333333333,
              "#9c179e"
             ],
             [
              0.4444444444444444,
              "#bd3786"
             ],
             [
              0.5555555555555556,
              "#d8576b"
             ],
             [
              0.6666666666666666,
              "#ed7953"
             ],
             [
              0.7777777777777778,
              "#fb9f3a"
             ],
             [
              0.8888888888888888,
              "#fdca26"
             ],
             [
              1,
              "#f0f921"
             ]
            ],
            "type": "histogram2dcontour"
           }
          ],
          "mesh3d": [
           {
            "colorbar": {
             "outlinewidth": 0,
             "ticks": ""
            },
            "type": "mesh3d"
           }
          ],
          "parcoords": [
           {
            "line": {
             "colorbar": {
              "outlinewidth": 0,
              "ticks": ""
             }
            },
            "type": "parcoords"
           }
          ],
          "pie": [
           {
            "automargin": true,
            "type": "pie"
           }
          ],
          "scatter": [
           {
            "fillpattern": {
             "fillmode": "overlay",
             "size": 10,
             "solidity": 0.2
            },
            "type": "scatter"
           }
          ],
          "scatter3d": [
           {
            "line": {
             "colorbar": {
              "outlinewidth": 0,
              "ticks": ""
             }
            },
            "marker": {
             "colorbar": {
              "outlinewidth": 0,
              "ticks": ""
             }
            },
            "type": "scatter3d"
           }
          ],
          "scattercarpet": [
           {
            "marker": {
             "colorbar": {
              "outlinewidth": 0,
              "ticks": ""
             }
            },
            "type": "scattercarpet"
           }
          ],
          "scattergeo": [
           {
            "marker": {
             "colorbar": {
              "outlinewidth": 0,
              "ticks": ""
             }
            },
            "type": "scattergeo"
           }
          ],
          "scattergl": [
           {
            "marker": {
             "colorbar": {
              "outlinewidth": 0,
              "ticks": ""
             }
            },
            "type": "scattergl"
           }
          ],
          "scattermapbox": [
           {
            "marker": {
             "colorbar": {
              "outlinewidth": 0,
              "ticks": ""
             }
            },
            "type": "scattermapbox"
           }
          ],
          "scatterpolar": [
           {
            "marker": {
             "colorbar": {
              "outlinewidth": 0,
              "ticks": ""
             }
            },
            "type": "scatterpolar"
           }
          ],
          "scatterpolargl": [
           {
            "marker": {
             "colorbar": {
              "outlinewidth": 0,
              "ticks": ""
             }
            },
            "type": "scatterpolargl"
           }
          ],
          "scatterternary": [
           {
            "marker": {
             "colorbar": {
              "outlinewidth": 0,
              "ticks": ""
             }
            },
            "type": "scatterternary"
           }
          ],
          "surface": [
           {
            "colorbar": {
             "outlinewidth": 0,
             "ticks": ""
            },
            "colorscale": [
             [
              0,
              "#0d0887"
             ],
             [
              0.1111111111111111,
              "#46039f"
             ],
             [
              0.2222222222222222,
              "#7201a8"
             ],
             [
              0.3333333333333333,
              "#9c179e"
             ],
             [
              0.4444444444444444,
              "#bd3786"
             ],
             [
              0.5555555555555556,
              "#d8576b"
             ],
             [
              0.6666666666666666,
              "#ed7953"
             ],
             [
              0.7777777777777778,
              "#fb9f3a"
             ],
             [
              0.8888888888888888,
              "#fdca26"
             ],
             [
              1,
              "#f0f921"
             ]
            ],
            "type": "surface"
           }
          ],
          "table": [
           {
            "cells": {
             "fill": {
              "color": "#EBF0F8"
             },
             "line": {
              "color": "white"
             }
            },
            "header": {
             "fill": {
              "color": "#C8D4E3"
             },
             "line": {
              "color": "white"
             }
            },
            "type": "table"
           }
          ]
         },
         "layout": {
          "annotationdefaults": {
           "arrowcolor": "#2a3f5f",
           "arrowhead": 0,
           "arrowwidth": 1
          },
          "autotypenumbers": "strict",
          "coloraxis": {
           "colorbar": {
            "outlinewidth": 0,
            "ticks": ""
           }
          },
          "colorscale": {
           "diverging": [
            [
             0,
             "#8e0152"
            ],
            [
             0.1,
             "#c51b7d"
            ],
            [
             0.2,
             "#de77ae"
            ],
            [
             0.3,
             "#f1b6da"
            ],
            [
             0.4,
             "#fde0ef"
            ],
            [
             0.5,
             "#f7f7f7"
            ],
            [
             0.6,
             "#e6f5d0"
            ],
            [
             0.7,
             "#b8e186"
            ],
            [
             0.8,
             "#7fbc41"
            ],
            [
             0.9,
             "#4d9221"
            ],
            [
             1,
             "#276419"
            ]
           ],
           "sequential": [
            [
             0,
             "#0d0887"
            ],
            [
             0.1111111111111111,
             "#46039f"
            ],
            [
             0.2222222222222222,
             "#7201a8"
            ],
            [
             0.3333333333333333,
             "#9c179e"
            ],
            [
             0.4444444444444444,
             "#bd3786"
            ],
            [
             0.5555555555555556,
             "#d8576b"
            ],
            [
             0.6666666666666666,
             "#ed7953"
            ],
            [
             0.7777777777777778,
             "#fb9f3a"
            ],
            [
             0.8888888888888888,
             "#fdca26"
            ],
            [
             1,
             "#f0f921"
            ]
           ],
           "sequentialminus": [
            [
             0,
             "#0d0887"
            ],
            [
             0.1111111111111111,
             "#46039f"
            ],
            [
             0.2222222222222222,
             "#7201a8"
            ],
            [
             0.3333333333333333,
             "#9c179e"
            ],
            [
             0.4444444444444444,
             "#bd3786"
            ],
            [
             0.5555555555555556,
             "#d8576b"
            ],
            [
             0.6666666666666666,
             "#ed7953"
            ],
            [
             0.7777777777777778,
             "#fb9f3a"
            ],
            [
             0.8888888888888888,
             "#fdca26"
            ],
            [
             1,
             "#f0f921"
            ]
           ]
          },
          "colorway": [
           "#636efa",
           "#EF553B",
           "#00cc96",
           "#ab63fa",
           "#FFA15A",
           "#19d3f3",
           "#FF6692",
           "#B6E880",
           "#FF97FF",
           "#FECB52"
          ],
          "font": {
           "color": "#2a3f5f"
          },
          "geo": {
           "bgcolor": "white",
           "lakecolor": "white",
           "landcolor": "#E5ECF6",
           "showlakes": true,
           "showland": true,
           "subunitcolor": "white"
          },
          "hoverlabel": {
           "align": "left"
          },
          "hovermode": "closest",
          "mapbox": {
           "style": "light"
          },
          "paper_bgcolor": "white",
          "plot_bgcolor": "#E5ECF6",
          "polar": {
           "angularaxis": {
            "gridcolor": "white",
            "linecolor": "white",
            "ticks": ""
           },
           "bgcolor": "#E5ECF6",
           "radialaxis": {
            "gridcolor": "white",
            "linecolor": "white",
            "ticks": ""
           }
          },
          "scene": {
           "xaxis": {
            "backgroundcolor": "#E5ECF6",
            "gridcolor": "white",
            "gridwidth": 2,
            "linecolor": "white",
            "showbackground": true,
            "ticks": "",
            "zerolinecolor": "white"
           },
           "yaxis": {
            "backgroundcolor": "#E5ECF6",
            "gridcolor": "white",
            "gridwidth": 2,
            "linecolor": "white",
            "showbackground": true,
            "ticks": "",
            "zerolinecolor": "white"
           },
           "zaxis": {
            "backgroundcolor": "#E5ECF6",
            "gridcolor": "white",
            "gridwidth": 2,
            "linecolor": "white",
            "showbackground": true,
            "ticks": "",
            "zerolinecolor": "white"
           }
          },
          "shapedefaults": {
           "line": {
            "color": "#2a3f5f"
           }
          },
          "ternary": {
           "aaxis": {
            "gridcolor": "white",
            "linecolor": "white",
            "ticks": ""
           },
           "baxis": {
            "gridcolor": "white",
            "linecolor": "white",
            "ticks": ""
           },
           "bgcolor": "#E5ECF6",
           "caxis": {
            "gridcolor": "white",
            "linecolor": "white",
            "ticks": ""
           }
          },
          "title": {
           "x": 0.05
          },
          "xaxis": {
           "automargin": true,
           "gridcolor": "white",
           "linecolor": "white",
           "ticks": "",
           "title": {
            "standoff": 15
           },
           "zerolinecolor": "white",
           "zerolinewidth": 2
          },
          "yaxis": {
           "automargin": true,
           "gridcolor": "white",
           "linecolor": "white",
           "ticks": "",
           "title": {
            "standoff": 15
           },
           "zerolinecolor": "white",
           "zerolinewidth": 2
          }
         }
        },
        "xaxis": {
         "anchor": "y",
         "domain": [
          0,
          0.18000000000000002
         ],
         "title": {
          "text": "Year:"
         }
        },
        "xaxis10": {
         "anchor": "y10",
         "domain": [
          0.8,
          0.9800000000000001
         ],
         "matches": "x",
         "showticklabels": false
        },
        "xaxis11": {
         "anchor": "y11",
         "domain": [
          0,
          0.18000000000000002
         ],
         "matches": "x",
         "showticklabels": false
        },
        "xaxis12": {
         "anchor": "y12",
         "domain": [
          0.2,
          0.38
         ],
         "matches": "x",
         "showticklabels": false
        },
        "xaxis13": {
         "anchor": "y13",
         "domain": [
          0.4,
          0.5800000000000001
         ],
         "matches": "x",
         "showticklabels": false
        },
        "xaxis14": {
         "anchor": "y14",
         "domain": [
          0.6000000000000001,
          0.7800000000000001
         ],
         "matches": "x",
         "showticklabels": false
        },
        "xaxis15": {
         "anchor": "y15",
         "domain": [
          0.8,
          0.9800000000000001
         ],
         "matches": "x",
         "showticklabels": false
        },
        "xaxis16": {
         "anchor": "y16",
         "domain": [
          0,
          0.18000000000000002
         ],
         "matches": "x",
         "showticklabels": false
        },
        "xaxis17": {
         "anchor": "y17",
         "domain": [
          0.2,
          0.38
         ],
         "matches": "x",
         "showticklabels": false
        },
        "xaxis18": {
         "anchor": "y18",
         "domain": [
          0.4,
          0.5800000000000001
         ],
         "matches": "x",
         "showticklabels": false
        },
        "xaxis19": {
         "anchor": "y19",
         "domain": [
          0.6000000000000001,
          0.7800000000000001
         ],
         "matches": "x",
         "showticklabels": false
        },
        "xaxis2": {
         "anchor": "y2",
         "domain": [
          0.2,
          0.38
         ],
         "matches": "x",
         "title": {
          "text": "Year:"
         }
        },
        "xaxis20": {
         "anchor": "y20",
         "domain": [
          0.8,
          0.9800000000000001
         ],
         "matches": "x",
         "showticklabels": false
        },
        "xaxis3": {
         "anchor": "y3",
         "domain": [
          0.4,
          0.5800000000000001
         ],
         "matches": "x",
         "title": {
          "text": "Year:"
         }
        },
        "xaxis4": {
         "anchor": "y4",
         "domain": [
          0.6000000000000001,
          0.7800000000000001
         ],
         "matches": "x",
         "title": {
          "text": "Year:"
         }
        },
        "xaxis5": {
         "anchor": "y5",
         "domain": [
          0.8,
          0.9800000000000001
         ],
         "matches": "x",
         "title": {
          "text": "Year:"
         }
        },
        "xaxis6": {
         "anchor": "y6",
         "domain": [
          0,
          0.18000000000000002
         ],
         "matches": "x",
         "showticklabels": false
        },
        "xaxis7": {
         "anchor": "y7",
         "domain": [
          0.2,
          0.38
         ],
         "matches": "x",
         "showticklabels": false
        },
        "xaxis8": {
         "anchor": "y8",
         "domain": [
          0.4,
          0.5800000000000001
         ],
         "matches": "x",
         "showticklabels": false
        },
        "xaxis9": {
         "anchor": "y9",
         "domain": [
          0.6000000000000001,
          0.7800000000000001
         ],
         "matches": "x",
         "showticklabels": false
        },
        "yaxis": {
         "anchor": "x",
         "domain": [
          0,
          0.2275
         ],
         "title": {
          "text": "Price:"
         }
        },
        "yaxis10": {
         "anchor": "x10",
         "domain": [
          0.2575,
          0.485
         ],
         "matches": "y",
         "showticklabels": false
        },
        "yaxis11": {
         "anchor": "x11",
         "domain": [
          0.515,
          0.7425
         ],
         "matches": "y",
         "title": {
          "text": "Price:"
         }
        },
        "yaxis12": {
         "anchor": "x12",
         "domain": [
          0.515,
          0.7425
         ],
         "matches": "y",
         "showticklabels": false
        },
        "yaxis13": {
         "anchor": "x13",
         "domain": [
          0.515,
          0.7425
         ],
         "matches": "y",
         "showticklabels": false
        },
        "yaxis14": {
         "anchor": "x14",
         "domain": [
          0.515,
          0.7425
         ],
         "matches": "y",
         "showticklabels": false
        },
        "yaxis15": {
         "anchor": "x15",
         "domain": [
          0.515,
          0.7425
         ],
         "matches": "y",
         "showticklabels": false
        },
        "yaxis16": {
         "anchor": "x16",
         "domain": [
          0.7725,
          1
         ],
         "matches": "y",
         "title": {
          "text": "Price:"
         }
        },
        "yaxis17": {
         "anchor": "x17",
         "domain": [
          0.7725,
          1
         ],
         "matches": "y",
         "showticklabels": false
        },
        "yaxis18": {
         "anchor": "x18",
         "domain": [
          0.7725,
          1
         ],
         "matches": "y",
         "showticklabels": false
        },
        "yaxis19": {
         "anchor": "x19",
         "domain": [
          0.7725,
          1
         ],
         "matches": "y",
         "showticklabels": false
        },
        "yaxis2": {
         "anchor": "x2",
         "domain": [
          0,
          0.2275
         ],
         "matches": "y",
         "showticklabels": false
        },
        "yaxis20": {
         "anchor": "x20",
         "domain": [
          0.7725,
          1
         ],
         "matches": "y",
         "showticklabels": false
        },
        "yaxis3": {
         "anchor": "x3",
         "domain": [
          0,
          0.2275
         ],
         "matches": "y",
         "showticklabels": false
        },
        "yaxis4": {
         "anchor": "x4",
         "domain": [
          0,
          0.2275
         ],
         "matches": "y",
         "showticklabels": false
        },
        "yaxis5": {
         "anchor": "x5",
         "domain": [
          0,
          0.2275
         ],
         "matches": "y",
         "showticklabels": false
        },
        "yaxis6": {
         "anchor": "x6",
         "domain": [
          0.2575,
          0.485
         ],
         "matches": "y",
         "title": {
          "text": "Price:"
         }
        },
        "yaxis7": {
         "anchor": "x7",
         "domain": [
          0.2575,
          0.485
         ],
         "matches": "y",
         "showticklabels": false
        },
        "yaxis8": {
         "anchor": "x8",
         "domain": [
          0.2575,
          0.485
         ],
         "matches": "y",
         "showticklabels": false
        },
        "yaxis9": {
         "anchor": "x9",
         "domain": [
          0.2575,
          0.485
         ],
         "matches": "y",
         "showticklabels": false
        }
       }
      }
     },
     "metadata": {},
     "output_type": "display_data"
    }
   ],
   "source": [
    "px.line(df4, x='Year:', y='Price:', color='Transmission:', facet_row='Doors:', facet_col='Manufacturer:')"
   ]
  },
  {
   "cell_type": "code",
   "execution_count": 17,
   "metadata": {},
   "outputs": [
    {
     "data": {
      "text/html": [
       "<div>\n",
       "<style scoped>\n",
       "    .dataframe tbody tr th:only-of-type {\n",
       "        vertical-align: middle;\n",
       "    }\n",
       "\n",
       "    .dataframe tbody tr th {\n",
       "        vertical-align: top;\n",
       "    }\n",
       "\n",
       "    .dataframe thead th {\n",
       "        text-align: right;\n",
       "    }\n",
       "</style>\n",
       "<table border=\"1\" class=\"dataframe\">\n",
       "  <thead>\n",
       "    <tr style=\"text-align: right;\">\n",
       "      <th></th>\n",
       "      <th>Year:</th>\n",
       "      <th>Transmission:</th>\n",
       "      <th>Manufacturer:</th>\n",
       "      <th>Count:</th>\n",
       "    </tr>\n",
       "  </thead>\n",
       "  <tbody>\n",
       "    <tr>\n",
       "      <th>0</th>\n",
       "      <td>2005</td>\n",
       "      <td>Automatic</td>\n",
       "      <td>FORD</td>\n",
       "      <td>1</td>\n",
       "    </tr>\n",
       "    <tr>\n",
       "      <th>1</th>\n",
       "      <td>2005</td>\n",
       "      <td>Manual</td>\n",
       "      <td>VOLKSWAGEN</td>\n",
       "      <td>1</td>\n",
       "    </tr>\n",
       "    <tr>\n",
       "      <th>2</th>\n",
       "      <td>2007</td>\n",
       "      <td>Automatic</td>\n",
       "      <td>FORD</td>\n",
       "      <td>1</td>\n",
       "    </tr>\n",
       "    <tr>\n",
       "      <th>3</th>\n",
       "      <td>2007</td>\n",
       "      <td>Manual</td>\n",
       "      <td>NISSAN</td>\n",
       "      <td>1</td>\n",
       "    </tr>\n",
       "    <tr>\n",
       "      <th>4</th>\n",
       "      <td>2007</td>\n",
       "      <td>Manual</td>\n",
       "      <td>VOLKSWAGEN</td>\n",
       "      <td>1</td>\n",
       "    </tr>\n",
       "    <tr>\n",
       "      <th>...</th>\n",
       "      <td>...</td>\n",
       "      <td>...</td>\n",
       "      <td>...</td>\n",
       "      <td>...</td>\n",
       "    </tr>\n",
       "    <tr>\n",
       "      <th>90</th>\n",
       "      <td>2022</td>\n",
       "      <td>Manual</td>\n",
       "      <td>NISSAN</td>\n",
       "      <td>1</td>\n",
       "    </tr>\n",
       "    <tr>\n",
       "      <th>91</th>\n",
       "      <td>2022</td>\n",
       "      <td>Manual</td>\n",
       "      <td>RENAULT</td>\n",
       "      <td>22</td>\n",
       "    </tr>\n",
       "    <tr>\n",
       "      <th>92</th>\n",
       "      <td>2022</td>\n",
       "      <td>Manual</td>\n",
       "      <td>VOLKSWAGEN</td>\n",
       "      <td>3</td>\n",
       "    </tr>\n",
       "    <tr>\n",
       "      <th>93</th>\n",
       "      <td>2023</td>\n",
       "      <td>Automatic</td>\n",
       "      <td>VOLKSWAGEN</td>\n",
       "      <td>1</td>\n",
       "    </tr>\n",
       "    <tr>\n",
       "      <th>94</th>\n",
       "      <td>2023</td>\n",
       "      <td>Manual</td>\n",
       "      <td>FORD</td>\n",
       "      <td>1</td>\n",
       "    </tr>\n",
       "  </tbody>\n",
       "</table>\n",
       "<p>95 rows × 4 columns</p>\n",
       "</div>"
      ],
      "text/plain": [
       "    Year: Transmission: Manufacturer:  Count:\n",
       "0    2005     Automatic          FORD       1\n",
       "1    2005        Manual    VOLKSWAGEN       1\n",
       "2    2007     Automatic          FORD       1\n",
       "3    2007        Manual        NISSAN       1\n",
       "4    2007        Manual    VOLKSWAGEN       1\n",
       "..    ...           ...           ...     ...\n",
       "90   2022        Manual        NISSAN       1\n",
       "91   2022        Manual       RENAULT      22\n",
       "92   2022        Manual    VOLKSWAGEN       3\n",
       "93   2023     Automatic    VOLKSWAGEN       1\n",
       "94   2023        Manual          FORD       1\n",
       "\n",
       "[95 rows x 4 columns]"
      ]
     },
     "execution_count": 17,
     "metadata": {},
     "output_type": "execute_result"
    }
   ],
   "source": [
    "df5 = df3.pivot_table(values=['Price:'], index=['Year:', 'Transmission:', 'Manufacturer:'], aggfunc='count')\n",
    "df5 = df5.reset_index(level=[0, 1, 2])\n",
    "df5 = df5.rename(columns={'Price:': 'Count:'})\n",
    "df5 = df5.sort_values(by='Year:')\n",
    "df5"
   ]
  },
  {
   "cell_type": "code",
   "execution_count": 18,
   "metadata": {},
   "outputs": [
    {
     "data": {
      "application/vnd.plotly.v1+json": {
       "config": {
        "plotlyServerURL": "https://plot.ly"
       },
       "data": [
        {
         "domain": {
          "x": [
           0,
           0.18000000000000002
          ],
          "y": [
           0.515,
           1
          ]
         },
         "hovertemplate": "Transmission:=Automatic<br>Manufacturer:=FORD<br>Year:=%{label}<br>Count:=%{value}<extra></extra>",
         "labels": [
          2005,
          2007,
          2019,
          2021
         ],
         "legendgroup": "",
         "name": "",
         "showlegend": true,
         "type": "pie",
         "values": [
          1,
          1,
          1,
          1
         ]
        },
        {
         "domain": {
          "x": [
           0.2,
           0.38
          ],
          "y": [
           0.515,
           1
          ]
         },
         "hovertemplate": "Transmission:=Automatic<br>Manufacturer:=VOLKSWAGEN<br>Year:=%{label}<br>Count:=%{value}<extra></extra>",
         "labels": [
          2008,
          2013,
          2014,
          2015,
          2016,
          2019,
          2020,
          2021,
          2023
         ],
         "legendgroup": "",
         "name": "",
         "showlegend": true,
         "type": "pie",
         "values": [
          1,
          3,
          4,
          3,
          2,
          5,
          2,
          2,
          1
         ]
        },
        {
         "domain": {
          "x": [
           0.4,
           0.5800000000000001
          ],
          "y": [
           0.515,
           1
          ]
         },
         "hovertemplate": "Transmission:=Automatic<br>Manufacturer:=NISSAN<br>Year:=%{label}<br>Count:=%{value}<extra></extra>",
         "labels": [
          2011,
          2014,
          2016,
          2017,
          2019,
          2020,
          2022
         ],
         "legendgroup": "",
         "name": "",
         "showlegend": true,
         "type": "pie",
         "values": [
          2,
          3,
          2,
          2,
          10,
          4,
          1
         ]
        },
        {
         "domain": {
          "x": [
           0.6000000000000001,
           0.7800000000000001
          ],
          "y": [
           0.515,
           1
          ]
         },
         "hovertemplate": "Transmission:=Automatic<br>Manufacturer:=BMW<br>Year:=%{label}<br>Count:=%{value}<extra></extra>",
         "labels": [
          2012,
          2013,
          2014,
          2015,
          2016,
          2017,
          2018,
          2019,
          2020,
          2021,
          2022
         ],
         "legendgroup": "",
         "name": "",
         "showlegend": true,
         "type": "pie",
         "values": [
          1,
          2,
          4,
          3,
          3,
          8,
          3,
          9,
          1,
          4,
          8
         ]
        },
        {
         "domain": {
          "x": [
           0.8,
           0.9800000000000001
          ],
          "y": [
           0.515,
           1
          ]
         },
         "hovertemplate": "Transmission:=Automatic<br>Manufacturer:=RENAULT<br>Year:=%{label}<br>Count:=%{value}<extra></extra>",
         "labels": [
          2016,
          2017,
          2020,
          2021,
          2022
         ],
         "legendgroup": "",
         "name": "",
         "showlegend": true,
         "type": "pie",
         "values": [
          1,
          2,
          3,
          2,
          2
         ]
        },
        {
         "domain": {
          "x": [
           0,
           0.18000000000000002
          ],
          "y": [
           0,
           0.485
          ]
         },
         "hovertemplate": "Transmission:=Manual<br>Manufacturer:=FORD<br>Year:=%{label}<br>Count:=%{value}<extra></extra>",
         "labels": [
          2008,
          2009,
          2011,
          2012,
          2013,
          2014,
          2015,
          2016,
          2017,
          2018,
          2019,
          2020,
          2021,
          2023
         ],
         "legendgroup": "",
         "name": "",
         "showlegend": true,
         "type": "pie",
         "values": [
          1,
          1,
          2,
          1,
          4,
          5,
          10,
          7,
          4,
          9,
          5,
          3,
          1,
          1
         ]
        },
        {
         "domain": {
          "x": [
           0.2,
           0.38
          ],
          "y": [
           0,
           0.485
          ]
         },
         "hovertemplate": "Transmission:=Manual<br>Manufacturer:=VOLKSWAGEN<br>Year:=%{label}<br>Count:=%{value}<extra></extra>",
         "labels": [
          2005,
          2007,
          2008,
          2009,
          2010,
          2011,
          2012,
          2013,
          2014,
          2015,
          2016,
          2017,
          2018,
          2019,
          2020,
          2021,
          2022
         ],
         "legendgroup": "",
         "name": "",
         "showlegend": true,
         "type": "pie",
         "values": [
          1,
          1,
          1,
          1,
          1,
          1,
          2,
          2,
          2,
          7,
          8,
          4,
          5,
          1,
          2,
          7,
          3
         ]
        },
        {
         "domain": {
          "x": [
           0.4,
           0.5800000000000001
          ],
          "y": [
           0,
           0.485
          ]
         },
         "hovertemplate": "Transmission:=Manual<br>Manufacturer:=NISSAN<br>Year:=%{label}<br>Count:=%{value}<extra></extra>",
         "labels": [
          2007,
          2008,
          2010,
          2011,
          2013,
          2014,
          2015,
          2016,
          2017,
          2018,
          2019,
          2020,
          2021,
          2022
         ],
         "legendgroup": "",
         "name": "",
         "showlegend": true,
         "type": "pie",
         "values": [
          1,
          1,
          2,
          1,
          3,
          1,
          2,
          6,
          6,
          2,
          3,
          2,
          3,
          1
         ]
        },
        {
         "domain": {
          "x": [
           0.6000000000000001,
           0.7800000000000001
          ],
          "y": [
           0,
           0.485
          ]
         },
         "hovertemplate": "Transmission:=Manual<br>Manufacturer:=BMW<br>Year:=%{label}<br>Count:=%{value}<extra></extra>",
         "labels": [
          2009,
          2010,
          2013,
          2016,
          2017,
          2018,
          2022
         ],
         "legendgroup": "",
         "name": "",
         "showlegend": true,
         "type": "pie",
         "values": [
          1,
          1,
          2,
          1,
          1,
          1,
          1
         ]
        },
        {
         "domain": {
          "x": [
           0.8,
           0.9800000000000001
          ],
          "y": [
           0,
           0.485
          ]
         },
         "hovertemplate": "Transmission:=Manual<br>Manufacturer:=RENAULT<br>Year:=%{label}<br>Count:=%{value}<extra></extra>",
         "labels": [
          2016,
          2017,
          2018,
          2019,
          2020,
          2021,
          2022
         ],
         "legendgroup": "",
         "name": "",
         "showlegend": true,
         "type": "pie",
         "values": [
          2,
          5,
          7,
          5,
          8,
          5,
          22
         ]
        }
       ],
       "layout": {
        "annotations": [
         {
          "font": {},
          "showarrow": false,
          "text": "Manufacturer:=FORD",
          "x": 0.09000000000000001,
          "xanchor": "center",
          "xref": "paper",
          "y": 1,
          "yanchor": "bottom",
          "yref": "paper"
         },
         {
          "font": {},
          "showarrow": false,
          "text": "Manufacturer:=VOLKSWAGEN",
          "x": 0.29000000000000004,
          "xanchor": "center",
          "xref": "paper",
          "y": 1,
          "yanchor": "bottom",
          "yref": "paper"
         },
         {
          "font": {},
          "showarrow": false,
          "text": "Manufacturer:=NISSAN",
          "x": 0.49000000000000005,
          "xanchor": "center",
          "xref": "paper",
          "y": 1,
          "yanchor": "bottom",
          "yref": "paper"
         },
         {
          "font": {},
          "showarrow": false,
          "text": "Manufacturer:=BMW",
          "x": 0.6900000000000002,
          "xanchor": "center",
          "xref": "paper",
          "y": 1,
          "yanchor": "bottom",
          "yref": "paper"
         },
         {
          "font": {},
          "showarrow": false,
          "text": "Manufacturer:=RENAULT",
          "x": 0.8900000000000001,
          "xanchor": "center",
          "xref": "paper",
          "y": 1,
          "yanchor": "bottom",
          "yref": "paper"
         },
         {
          "font": {},
          "showarrow": false,
          "text": "Transmission:=Manual",
          "textangle": 90,
          "x": 0.9800000000000001,
          "xanchor": "left",
          "xref": "paper",
          "y": 0.2425,
          "yanchor": "middle",
          "yref": "paper"
         },
         {
          "font": {},
          "showarrow": false,
          "text": "Transmission:=Automatic",
          "textangle": 90,
          "x": 0.9800000000000001,
          "xanchor": "left",
          "xref": "paper",
          "y": 0.7575000000000001,
          "yanchor": "middle",
          "yref": "paper"
         }
        ],
        "legend": {
         "tracegroupgap": 0
        },
        "margin": {
         "t": 60
        },
        "template": {
         "data": {
          "bar": [
           {
            "error_x": {
             "color": "#2a3f5f"
            },
            "error_y": {
             "color": "#2a3f5f"
            },
            "marker": {
             "line": {
              "color": "#E5ECF6",
              "width": 0.5
             },
             "pattern": {
              "fillmode": "overlay",
              "size": 10,
              "solidity": 0.2
             }
            },
            "type": "bar"
           }
          ],
          "barpolar": [
           {
            "marker": {
             "line": {
              "color": "#E5ECF6",
              "width": 0.5
             },
             "pattern": {
              "fillmode": "overlay",
              "size": 10,
              "solidity": 0.2
             }
            },
            "type": "barpolar"
           }
          ],
          "carpet": [
           {
            "aaxis": {
             "endlinecolor": "#2a3f5f",
             "gridcolor": "white",
             "linecolor": "white",
             "minorgridcolor": "white",
             "startlinecolor": "#2a3f5f"
            },
            "baxis": {
             "endlinecolor": "#2a3f5f",
             "gridcolor": "white",
             "linecolor": "white",
             "minorgridcolor": "white",
             "startlinecolor": "#2a3f5f"
            },
            "type": "carpet"
           }
          ],
          "choropleth": [
           {
            "colorbar": {
             "outlinewidth": 0,
             "ticks": ""
            },
            "type": "choropleth"
           }
          ],
          "contour": [
           {
            "colorbar": {
             "outlinewidth": 0,
             "ticks": ""
            },
            "colorscale": [
             [
              0,
              "#0d0887"
             ],
             [
              0.1111111111111111,
              "#46039f"
             ],
             [
              0.2222222222222222,
              "#7201a8"
             ],
             [
              0.3333333333333333,
              "#9c179e"
             ],
             [
              0.4444444444444444,
              "#bd3786"
             ],
             [
              0.5555555555555556,
              "#d8576b"
             ],
             [
              0.6666666666666666,
              "#ed7953"
             ],
             [
              0.7777777777777778,
              "#fb9f3a"
             ],
             [
              0.8888888888888888,
              "#fdca26"
             ],
             [
              1,
              "#f0f921"
             ]
            ],
            "type": "contour"
           }
          ],
          "contourcarpet": [
           {
            "colorbar": {
             "outlinewidth": 0,
             "ticks": ""
            },
            "type": "contourcarpet"
           }
          ],
          "heatmap": [
           {
            "colorbar": {
             "outlinewidth": 0,
             "ticks": ""
            },
            "colorscale": [
             [
              0,
              "#0d0887"
             ],
             [
              0.1111111111111111,
              "#46039f"
             ],
             [
              0.2222222222222222,
              "#7201a8"
             ],
             [
              0.3333333333333333,
              "#9c179e"
             ],
             [
              0.4444444444444444,
              "#bd3786"
             ],
             [
              0.5555555555555556,
              "#d8576b"
             ],
             [
              0.6666666666666666,
              "#ed7953"
             ],
             [
              0.7777777777777778,
              "#fb9f3a"
             ],
             [
              0.8888888888888888,
              "#fdca26"
             ],
             [
              1,
              "#f0f921"
             ]
            ],
            "type": "heatmap"
           }
          ],
          "heatmapgl": [
           {
            "colorbar": {
             "outlinewidth": 0,
             "ticks": ""
            },
            "colorscale": [
             [
              0,
              "#0d0887"
             ],
             [
              0.1111111111111111,
              "#46039f"
             ],
             [
              0.2222222222222222,
              "#7201a8"
             ],
             [
              0.3333333333333333,
              "#9c179e"
             ],
             [
              0.4444444444444444,
              "#bd3786"
             ],
             [
              0.5555555555555556,
              "#d8576b"
             ],
             [
              0.6666666666666666,
              "#ed7953"
             ],
             [
              0.7777777777777778,
              "#fb9f3a"
             ],
             [
              0.8888888888888888,
              "#fdca26"
             ],
             [
              1,
              "#f0f921"
             ]
            ],
            "type": "heatmapgl"
           }
          ],
          "histogram": [
           {
            "marker": {
             "pattern": {
              "fillmode": "overlay",
              "size": 10,
              "solidity": 0.2
             }
            },
            "type": "histogram"
           }
          ],
          "histogram2d": [
           {
            "colorbar": {
             "outlinewidth": 0,
             "ticks": ""
            },
            "colorscale": [
             [
              0,
              "#0d0887"
             ],
             [
              0.1111111111111111,
              "#46039f"
             ],
             [
              0.2222222222222222,
              "#7201a8"
             ],
             [
              0.3333333333333333,
              "#9c179e"
             ],
             [
              0.4444444444444444,
              "#bd3786"
             ],
             [
              0.5555555555555556,
              "#d8576b"
             ],
             [
              0.6666666666666666,
              "#ed7953"
             ],
             [
              0.7777777777777778,
              "#fb9f3a"
             ],
             [
              0.8888888888888888,
              "#fdca26"
             ],
             [
              1,
              "#f0f921"
             ]
            ],
            "type": "histogram2d"
           }
          ],
          "histogram2dcontour": [
           {
            "colorbar": {
             "outlinewidth": 0,
             "ticks": ""
            },
            "colorscale": [
             [
              0,
              "#0d0887"
             ],
             [
              0.1111111111111111,
              "#46039f"
             ],
             [
              0.2222222222222222,
              "#7201a8"
             ],
             [
              0.3333333333333333,
              "#9c179e"
             ],
             [
              0.4444444444444444,
              "#bd3786"
             ],
             [
              0.5555555555555556,
              "#d8576b"
             ],
             [
              0.6666666666666666,
              "#ed7953"
             ],
             [
              0.7777777777777778,
              "#fb9f3a"
             ],
             [
              0.8888888888888888,
              "#fdca26"
             ],
             [
              1,
              "#f0f921"
             ]
            ],
            "type": "histogram2dcontour"
           }
          ],
          "mesh3d": [
           {
            "colorbar": {
             "outlinewidth": 0,
             "ticks": ""
            },
            "type": "mesh3d"
           }
          ],
          "parcoords": [
           {
            "line": {
             "colorbar": {
              "outlinewidth": 0,
              "ticks": ""
             }
            },
            "type": "parcoords"
           }
          ],
          "pie": [
           {
            "automargin": true,
            "type": "pie"
           }
          ],
          "scatter": [
           {
            "fillpattern": {
             "fillmode": "overlay",
             "size": 10,
             "solidity": 0.2
            },
            "type": "scatter"
           }
          ],
          "scatter3d": [
           {
            "line": {
             "colorbar": {
              "outlinewidth": 0,
              "ticks": ""
             }
            },
            "marker": {
             "colorbar": {
              "outlinewidth": 0,
              "ticks": ""
             }
            },
            "type": "scatter3d"
           }
          ],
          "scattercarpet": [
           {
            "marker": {
             "colorbar": {
              "outlinewidth": 0,
              "ticks": ""
             }
            },
            "type": "scattercarpet"
           }
          ],
          "scattergeo": [
           {
            "marker": {
             "colorbar": {
              "outlinewidth": 0,
              "ticks": ""
             }
            },
            "type": "scattergeo"
           }
          ],
          "scattergl": [
           {
            "marker": {
             "colorbar": {
              "outlinewidth": 0,
              "ticks": ""
             }
            },
            "type": "scattergl"
           }
          ],
          "scattermapbox": [
           {
            "marker": {
             "colorbar": {
              "outlinewidth": 0,
              "ticks": ""
             }
            },
            "type": "scattermapbox"
           }
          ],
          "scatterpolar": [
           {
            "marker": {
             "colorbar": {
              "outlinewidth": 0,
              "ticks": ""
             }
            },
            "type": "scatterpolar"
           }
          ],
          "scatterpolargl": [
           {
            "marker": {
             "colorbar": {
              "outlinewidth": 0,
              "ticks": ""
             }
            },
            "type": "scatterpolargl"
           }
          ],
          "scatterternary": [
           {
            "marker": {
             "colorbar": {
              "outlinewidth": 0,
              "ticks": ""
             }
            },
            "type": "scatterternary"
           }
          ],
          "surface": [
           {
            "colorbar": {
             "outlinewidth": 0,
             "ticks": ""
            },
            "colorscale": [
             [
              0,
              "#0d0887"
             ],
             [
              0.1111111111111111,
              "#46039f"
             ],
             [
              0.2222222222222222,
              "#7201a8"
             ],
             [
              0.3333333333333333,
              "#9c179e"
             ],
             [
              0.4444444444444444,
              "#bd3786"
             ],
             [
              0.5555555555555556,
              "#d8576b"
             ],
             [
              0.6666666666666666,
              "#ed7953"
             ],
             [
              0.7777777777777778,
              "#fb9f3a"
             ],
             [
              0.8888888888888888,
              "#fdca26"
             ],
             [
              1,
              "#f0f921"
             ]
            ],
            "type": "surface"
           }
          ],
          "table": [
           {
            "cells": {
             "fill": {
              "color": "#EBF0F8"
             },
             "line": {
              "color": "white"
             }
            },
            "header": {
             "fill": {
              "color": "#C8D4E3"
             },
             "line": {
              "color": "white"
             }
            },
            "type": "table"
           }
          ]
         },
         "layout": {
          "annotationdefaults": {
           "arrowcolor": "#2a3f5f",
           "arrowhead": 0,
           "arrowwidth": 1
          },
          "autotypenumbers": "strict",
          "coloraxis": {
           "colorbar": {
            "outlinewidth": 0,
            "ticks": ""
           }
          },
          "colorscale": {
           "diverging": [
            [
             0,
             "#8e0152"
            ],
            [
             0.1,
             "#c51b7d"
            ],
            [
             0.2,
             "#de77ae"
            ],
            [
             0.3,
             "#f1b6da"
            ],
            [
             0.4,
             "#fde0ef"
            ],
            [
             0.5,
             "#f7f7f7"
            ],
            [
             0.6,
             "#e6f5d0"
            ],
            [
             0.7,
             "#b8e186"
            ],
            [
             0.8,
             "#7fbc41"
            ],
            [
             0.9,
             "#4d9221"
            ],
            [
             1,
             "#276419"
            ]
           ],
           "sequential": [
            [
             0,
             "#0d0887"
            ],
            [
             0.1111111111111111,
             "#46039f"
            ],
            [
             0.2222222222222222,
             "#7201a8"
            ],
            [
             0.3333333333333333,
             "#9c179e"
            ],
            [
             0.4444444444444444,
             "#bd3786"
            ],
            [
             0.5555555555555556,
             "#d8576b"
            ],
            [
             0.6666666666666666,
             "#ed7953"
            ],
            [
             0.7777777777777778,
             "#fb9f3a"
            ],
            [
             0.8888888888888888,
             "#fdca26"
            ],
            [
             1,
             "#f0f921"
            ]
           ],
           "sequentialminus": [
            [
             0,
             "#0d0887"
            ],
            [
             0.1111111111111111,
             "#46039f"
            ],
            [
             0.2222222222222222,
             "#7201a8"
            ],
            [
             0.3333333333333333,
             "#9c179e"
            ],
            [
             0.4444444444444444,
             "#bd3786"
            ],
            [
             0.5555555555555556,
             "#d8576b"
            ],
            [
             0.6666666666666666,
             "#ed7953"
            ],
            [
             0.7777777777777778,
             "#fb9f3a"
            ],
            [
             0.8888888888888888,
             "#fdca26"
            ],
            [
             1,
             "#f0f921"
            ]
           ]
          },
          "colorway": [
           "#636efa",
           "#EF553B",
           "#00cc96",
           "#ab63fa",
           "#FFA15A",
           "#19d3f3",
           "#FF6692",
           "#B6E880",
           "#FF97FF",
           "#FECB52"
          ],
          "font": {
           "color": "#2a3f5f"
          },
          "geo": {
           "bgcolor": "white",
           "lakecolor": "white",
           "landcolor": "#E5ECF6",
           "showlakes": true,
           "showland": true,
           "subunitcolor": "white"
          },
          "hoverlabel": {
           "align": "left"
          },
          "hovermode": "closest",
          "mapbox": {
           "style": "light"
          },
          "paper_bgcolor": "white",
          "plot_bgcolor": "#E5ECF6",
          "polar": {
           "angularaxis": {
            "gridcolor": "white",
            "linecolor": "white",
            "ticks": ""
           },
           "bgcolor": "#E5ECF6",
           "radialaxis": {
            "gridcolor": "white",
            "linecolor": "white",
            "ticks": ""
           }
          },
          "scene": {
           "xaxis": {
            "backgroundcolor": "#E5ECF6",
            "gridcolor": "white",
            "gridwidth": 2,
            "linecolor": "white",
            "showbackground": true,
            "ticks": "",
            "zerolinecolor": "white"
           },
           "yaxis": {
            "backgroundcolor": "#E5ECF6",
            "gridcolor": "white",
            "gridwidth": 2,
            "linecolor": "white",
            "showbackground": true,
            "ticks": "",
            "zerolinecolor": "white"
           },
           "zaxis": {
            "backgroundcolor": "#E5ECF6",
            "gridcolor": "white",
            "gridwidth": 2,
            "linecolor": "white",
            "showbackground": true,
            "ticks": "",
            "zerolinecolor": "white"
           }
          },
          "shapedefaults": {
           "line": {
            "color": "#2a3f5f"
           }
          },
          "ternary": {
           "aaxis": {
            "gridcolor": "white",
            "linecolor": "white",
            "ticks": ""
           },
           "baxis": {
            "gridcolor": "white",
            "linecolor": "white",
            "ticks": ""
           },
           "bgcolor": "#E5ECF6",
           "caxis": {
            "gridcolor": "white",
            "linecolor": "white",
            "ticks": ""
           }
          },
          "title": {
           "x": 0.05
          },
          "xaxis": {
           "automargin": true,
           "gridcolor": "white",
           "linecolor": "white",
           "ticks": "",
           "title": {
            "standoff": 15
           },
           "zerolinecolor": "white",
           "zerolinewidth": 2
          },
          "yaxis": {
           "automargin": true,
           "gridcolor": "white",
           "linecolor": "white",
           "ticks": "",
           "title": {
            "standoff": 15
           },
           "zerolinecolor": "white",
           "zerolinewidth": 2
          }
         }
        }
       }
      }
     },
     "metadata": {},
     "output_type": "display_data"
    }
   ],
   "source": [
    "px.pie(df5, names='Year:', values='Count:', facet_row='Transmission:', facet_col='Manufacturer:')"
   ]
  },
  {
   "cell_type": "code",
   "execution_count": 19,
   "metadata": {},
   "outputs": [
    {
     "data": {
      "text/html": [
       "<div>\n",
       "<style scoped>\n",
       "    .dataframe tbody tr th:only-of-type {\n",
       "        vertical-align: middle;\n",
       "    }\n",
       "\n",
       "    .dataframe tbody tr th {\n",
       "        vertical-align: top;\n",
       "    }\n",
       "\n",
       "    .dataframe thead th {\n",
       "        text-align: right;\n",
       "    }\n",
       "</style>\n",
       "<table border=\"1\" class=\"dataframe\">\n",
       "  <thead>\n",
       "    <tr style=\"text-align: right;\">\n",
       "      <th></th>\n",
       "      <th>Manufacturer:</th>\n",
       "      <th>Model:</th>\n",
       "      <th>Description:</th>\n",
       "      <th>Price:</th>\n",
       "      <th>Odometer:</th>\n",
       "      <th>Fuel Type:</th>\n",
       "      <th>Colour:</th>\n",
       "      <th>Engine Size:</th>\n",
       "      <th>Transmission:</th>\n",
       "      <th>Body Type:</th>\n",
       "      <th>Doors:</th>\n",
       "    </tr>\n",
       "  </thead>\n",
       "  <tbody>\n",
       "    <tr>\n",
       "      <th>0</th>\n",
       "      <td>VOLKSWAGEN</td>\n",
       "      <td>PASSAT</td>\n",
       "      <td>2012 2.0 TDI CC BLUEMOTION 138BHP 5 SEATS 4DR</td>\n",
       "      <td>8295</td>\n",
       "      <td>133,600 kms</td>\n",
       "      <td>Diesel</td>\n",
       "      <td>Beige</td>\n",
       "      <td>2.0 L</td>\n",
       "      <td>Manual</td>\n",
       "      <td>Saloon</td>\n",
       "      <td>4</td>\n",
       "    </tr>\n",
       "    <tr>\n",
       "      <th>1</th>\n",
       "      <td>OPEL</td>\n",
       "      <td>INSIGNIA</td>\n",
       "      <td>2010 S 2.0 CDTI 130PS ECO 5DR</td>\n",
       "      <td>3800</td>\n",
       "      <td>219,000 kms</td>\n",
       "      <td>Diesel</td>\n",
       "      <td>Beige</td>\n",
       "      <td>2.0 L</td>\n",
       "      <td>Manual</td>\n",
       "      <td>Saloon</td>\n",
       "      <td>5</td>\n",
       "    </tr>\n",
       "    <tr>\n",
       "      <th>2</th>\n",
       "      <td>HYUNDAI</td>\n",
       "      <td>TUCSON</td>\n",
       "      <td>2016 EXECUTIVE  (Hi-Spec Model)</td>\n",
       "      <td>17950</td>\n",
       "      <td>0 kms</td>\n",
       "      <td>Diesel</td>\n",
       "      <td>Black</td>\n",
       "      <td>1.7 L</td>\n",
       "      <td>Manual</td>\n",
       "      <td>MPV</td>\n",
       "      <td>5</td>\n",
       "    </tr>\n",
       "    <tr>\n",
       "      <th>3</th>\n",
       "      <td>SUZUKI</td>\n",
       "      <td>CELERIO</td>\n",
       "      <td>2017 CELERIO 1.0 Petrol  5DR</td>\n",
       "      <td>9950</td>\n",
       "      <td>119,003 kms</td>\n",
       "      <td>Petrol</td>\n",
       "      <td>Grey</td>\n",
       "      <td>1.0 L</td>\n",
       "      <td>Manual</td>\n",
       "      <td>Hatchback</td>\n",
       "      <td>5</td>\n",
       "    </tr>\n",
       "    <tr>\n",
       "      <th>4</th>\n",
       "      <td>VOLKSWAGEN</td>\n",
       "      <td>TIGUAN</td>\n",
       "      <td>2017 Comfort Line 2.0 TDI 150 HP</td>\n",
       "      <td>22950</td>\n",
       "      <td>0 kms</td>\n",
       "      <td>Diesel</td>\n",
       "      <td>Grey</td>\n",
       "      <td>2.0 L</td>\n",
       "      <td>Manual</td>\n",
       "      <td>MPV</td>\n",
       "      <td>5</td>\n",
       "    </tr>\n",
       "    <tr>\n",
       "      <th>...</th>\n",
       "      <td>...</td>\n",
       "      <td>...</td>\n",
       "      <td>...</td>\n",
       "      <td>...</td>\n",
       "      <td>...</td>\n",
       "      <td>...</td>\n",
       "      <td>...</td>\n",
       "      <td>...</td>\n",
       "      <td>...</td>\n",
       "      <td>...</td>\n",
       "      <td>...</td>\n",
       "    </tr>\n",
       "    <tr>\n",
       "      <th>861</th>\n",
       "      <td>AUDI</td>\n",
       "      <td>E-TRON</td>\n",
       "      <td>2020 E-Tron Technik 50 Quattro Technik 71.2 kW...</td>\n",
       "      <td>61175</td>\n",
       "      <td>37,858 kms</td>\n",
       "      <td>Electric</td>\n",
       "      <td>Silver</td>\n",
       "      <td>0.0 L</td>\n",
       "      <td>Automatic</td>\n",
       "      <td>SUV</td>\n",
       "      <td>5</td>\n",
       "    </tr>\n",
       "    <tr>\n",
       "      <th>862</th>\n",
       "      <td>HYUNDAI</td>\n",
       "      <td>KONA</td>\n",
       "      <td>2020 * JUST ARRIVED * TINY MILEAGE KONA 1.0 T-...</td>\n",
       "      <td>22950</td>\n",
       "      <td>13,657 kms</td>\n",
       "      <td>Petrol</td>\n",
       "      <td>Red</td>\n",
       "      <td>1.0 L</td>\n",
       "      <td>Manual</td>\n",
       "      <td>MPV</td>\n",
       "      <td>5</td>\n",
       "    </tr>\n",
       "    <tr>\n",
       "      <th>863</th>\n",
       "      <td>SKODA</td>\n",
       "      <td>KAMIQ</td>\n",
       "      <td>2021 1.0TSI 115hp Style</td>\n",
       "      <td>23500</td>\n",
       "      <td>27,529 kms</td>\n",
       "      <td>Petrol</td>\n",
       "      <td>Black</td>\n",
       "      <td>1.0 L</td>\n",
       "      <td>Manual</td>\n",
       "      <td>Hatchback</td>\n",
       "      <td>4</td>\n",
       "    </tr>\n",
       "    <tr>\n",
       "      <th>897</th>\n",
       "      <td>NISSAN</td>\n",
       "      <td>JUKE</td>\n",
       "      <td>2013 1.6 XE</td>\n",
       "      <td>10995</td>\n",
       "      <td>110,003 kms</td>\n",
       "      <td>Petrol</td>\n",
       "      <td>White</td>\n",
       "      <td>1.6 L</td>\n",
       "      <td>Manual</td>\n",
       "      <td>Hatchback</td>\n",
       "      <td>5</td>\n",
       "    </tr>\n",
       "    <tr>\n",
       "      <th>898</th>\n",
       "      <td>HYUNDAI</td>\n",
       "      <td>TUCSON</td>\n",
       "      <td>2022 2WD Comfort Plus - Demo -</td>\n",
       "      <td>37950</td>\n",
       "      <td>4,500 kms</td>\n",
       "      <td>Diesel</td>\n",
       "      <td>Silver</td>\n",
       "      <td>1.6 L</td>\n",
       "      <td>Manual</td>\n",
       "      <td>SUV</td>\n",
       "      <td>5</td>\n",
       "    </tr>\n",
       "  </tbody>\n",
       "</table>\n",
       "<p>670 rows × 11 columns</p>\n",
       "</div>"
      ],
      "text/plain": [
       "    Manufacturer:    Model:  \\\n",
       "0      VOLKSWAGEN    PASSAT   \n",
       "1            OPEL  INSIGNIA   \n",
       "2         HYUNDAI    TUCSON   \n",
       "3          SUZUKI   CELERIO   \n",
       "4      VOLKSWAGEN    TIGUAN   \n",
       "..            ...       ...   \n",
       "861          AUDI    E-TRON   \n",
       "862       HYUNDAI      KONA   \n",
       "863         SKODA     KAMIQ   \n",
       "897        NISSAN      JUKE   \n",
       "898       HYUNDAI    TUCSON   \n",
       "\n",
       "                                          Description:  Price:    Odometer:  \\\n",
       "0        2012 2.0 TDI CC BLUEMOTION 138BHP 5 SEATS 4DR    8295  133,600 kms   \n",
       "1                        2010 S 2.0 CDTI 130PS ECO 5DR    3800  219,000 kms   \n",
       "2                      2016 EXECUTIVE  (Hi-Spec Model)   17950        0 kms   \n",
       "3                         2017 CELERIO 1.0 Petrol  5DR    9950  119,003 kms   \n",
       "4                     2017 Comfort Line 2.0 TDI 150 HP   22950        0 kms   \n",
       "..                                                 ...     ...          ...   \n",
       "861  2020 E-Tron Technik 50 Quattro Technik 71.2 kW...   61175   37,858 kms   \n",
       "862  2020 * JUST ARRIVED * TINY MILEAGE KONA 1.0 T-...   22950   13,657 kms   \n",
       "863                            2021 1.0TSI 115hp Style   23500   27,529 kms   \n",
       "897                                        2013 1.6 XE   10995  110,003 kms   \n",
       "898                     2022 2WD Comfort Plus - Demo -   37950    4,500 kms   \n",
       "\n",
       "    Fuel Type: Colour: Engine Size: Transmission: Body Type: Doors:  \n",
       "0       Diesel   Beige        2.0 L        Manual     Saloon      4  \n",
       "1       Diesel   Beige        2.0 L        Manual     Saloon      5  \n",
       "2       Diesel   Black        1.7 L        Manual        MPV      5  \n",
       "3       Petrol    Grey        1.0 L        Manual  Hatchback      5  \n",
       "4       Diesel    Grey        2.0 L        Manual        MPV      5  \n",
       "..         ...     ...          ...           ...        ...    ...  \n",
       "861   Electric  Silver        0.0 L     Automatic        SUV      5  \n",
       "862     Petrol     Red        1.0 L        Manual        MPV      5  \n",
       "863     Petrol   Black        1.0 L        Manual  Hatchback      4  \n",
       "897     Petrol   White        1.6 L        Manual  Hatchback      5  \n",
       "898     Diesel  Silver        1.6 L        Manual        SUV      5  \n",
       "\n",
       "[670 rows x 11 columns]"
      ]
     },
     "execution_count": 19,
     "metadata": {},
     "output_type": "execute_result"
    }
   ],
   "source": [
    "df_export = df[['Manufacturer:', 'Model:', 'Description:', 'Price:', 'Odometer:', 'Fuel Type:', 'Colour:', 'Engine Size:', 'Transmission:', 'Body Type:', 'Doors:']]\n",
    "df_export.to_csv('cars-ie-export.csv', sep=';')\n",
    "df_export"
   ]
  },
  {
   "cell_type": "code",
   "execution_count": 28,
   "metadata": {},
   "outputs": [],
   "source": [
    "df['Engine Size:'] = df['Engine Size:'].apply(lambda x: float(x.split(' ')[0]))\n",
    "df['Odometer:'] = df['Odometer:'].apply(lambda x: int(x.split(' ')[0].replace(',', '').replace('.', '')))"
   ]
  },
  {
   "cell_type": "code",
   "execution_count": 29,
   "metadata": {},
   "outputs": [],
   "source": [
    "def filter(df):\n",
    "    df = df[df['Odometer:'] > 0]\n",
    "    df = df[df['Engine Size:'] > 0]\n",
    "    return df"
   ]
  },
  {
   "cell_type": "code",
   "execution_count": 30,
   "metadata": {},
   "outputs": [
    {
     "data": {
      "text/html": [
       "<div>\n",
       "<style scoped>\n",
       "    .dataframe tbody tr th:only-of-type {\n",
       "        vertical-align: middle;\n",
       "    }\n",
       "\n",
       "    .dataframe tbody tr th {\n",
       "        vertical-align: top;\n",
       "    }\n",
       "\n",
       "    .dataframe thead th {\n",
       "        text-align: right;\n",
       "    }\n",
       "</style>\n",
       "<table border=\"1\" class=\"dataframe\">\n",
       "  <thead>\n",
       "    <tr style=\"text-align: right;\">\n",
       "      <th></th>\n",
       "      <th>Title:</th>\n",
       "      <th>Description:</th>\n",
       "      <th>Price:</th>\n",
       "      <th>Odometer:</th>\n",
       "      <th>Fuel Type:</th>\n",
       "      <th>Colour:</th>\n",
       "      <th>Engine Size:</th>\n",
       "      <th>Transmission:</th>\n",
       "      <th>Body Type:</th>\n",
       "      <th>Owners:</th>\n",
       "      <th>...</th>\n",
       "      <th>Tax Expiry:</th>\n",
       "      <th>NCT Expiry:</th>\n",
       "      <th>Dealer:</th>\n",
       "      <th>Address:</th>\n",
       "      <th>Phone:</th>\n",
       "      <th>Franchise:</th>\n",
       "      <th>Website:</th>\n",
       "      <th>Year:</th>\n",
       "      <th>Manufacturer:</th>\n",
       "      <th>Model:</th>\n",
       "    </tr>\n",
       "  </thead>\n",
       "  <tbody>\n",
       "    <tr>\n",
       "      <th>0</th>\n",
       "      <td>VOLKSWAGEN PASSAT</td>\n",
       "      <td>2012 2.0 TDI CC BLUEMOTION 138BHP 5 SEATS 4DR</td>\n",
       "      <td>8295</td>\n",
       "      <td>133600</td>\n",
       "      <td>Diesel</td>\n",
       "      <td>Beige</td>\n",
       "      <td>2.0</td>\n",
       "      <td>Manual</td>\n",
       "      <td>Saloon</td>\n",
       "      <td>1</td>\n",
       "      <td>...</td>\n",
       "      <td>Apr-2023</td>\n",
       "      <td>Aug-2023</td>\n",
       "      <td>0838704977</td>\n",
       "      <td>NaN</td>\n",
       "      <td>NaN</td>\n",
       "      <td>NaN</td>\n",
       "      <td>NaN</td>\n",
       "      <td>2012</td>\n",
       "      <td>VOLKSWAGEN</td>\n",
       "      <td>PASSAT</td>\n",
       "    </tr>\n",
       "    <tr>\n",
       "      <th>1</th>\n",
       "      <td>OPEL INSIGNIA</td>\n",
       "      <td>2010 S 2.0 CDTI 130PS ECO 5DR</td>\n",
       "      <td>3800</td>\n",
       "      <td>219000</td>\n",
       "      <td>Diesel</td>\n",
       "      <td>Beige</td>\n",
       "      <td>2.0</td>\n",
       "      <td>Manual</td>\n",
       "      <td>Saloon</td>\n",
       "      <td>5</td>\n",
       "      <td>...</td>\n",
       "      <td>Jan-2023</td>\n",
       "      <td>Jan-2024</td>\n",
       "      <td>0831274143</td>\n",
       "      <td>NaN</td>\n",
       "      <td>NaN</td>\n",
       "      <td>NaN</td>\n",
       "      <td>NaN</td>\n",
       "      <td>2010</td>\n",
       "      <td>OPEL</td>\n",
       "      <td>INSIGNIA</td>\n",
       "    </tr>\n",
       "    <tr>\n",
       "      <th>3</th>\n",
       "      <td>SUZUKI CELERIO</td>\n",
       "      <td>2017 CELERIO 1.0 Petrol  5DR</td>\n",
       "      <td>9950</td>\n",
       "      <td>119003</td>\n",
       "      <td>Petrol</td>\n",
       "      <td>Grey</td>\n",
       "      <td>1.0</td>\n",
       "      <td>Manual</td>\n",
       "      <td>Hatchback</td>\n",
       "      <td>1</td>\n",
       "      <td>...</td>\n",
       "      <td>Dec-2022</td>\n",
       "      <td>Jul-2023</td>\n",
       "      <td>Barry Martin Motors Ltd</td>\n",
       "      <td>Irishtown Filling Station      Ashe Road      ...</td>\n",
       "      <td>044-9339962</td>\n",
       "      <td>NaN</td>\n",
       "      <td>NaN</td>\n",
       "      <td>2017</td>\n",
       "      <td>SUZUKI</td>\n",
       "      <td>CELERIO</td>\n",
       "    </tr>\n",
       "    <tr>\n",
       "      <th>6</th>\n",
       "      <td>MERCEDES-BENZ CLA CLASS</td>\n",
       "      <td>2017 CLA 180 PET URBAN</td>\n",
       "      <td>24990</td>\n",
       "      <td>89520</td>\n",
       "      <td>Petrol</td>\n",
       "      <td>Black</td>\n",
       "      <td>1.6</td>\n",
       "      <td>Manual</td>\n",
       "      <td>Saloon</td>\n",
       "      <td>1</td>\n",
       "      <td>...</td>\n",
       "      <td>Dec-2022</td>\n",
       "      <td>Jan-2023</td>\n",
       "      <td>Kearys Carstore Limerick</td>\n",
       "      <td>Unit 6B      Eastpoint Retail Park      Ballys...</td>\n",
       "      <td>061-326500</td>\n",
       "      <td>NaN</td>\n",
       "      <td>NaN</td>\n",
       "      <td>2017</td>\n",
       "      <td>MERCEDES-BENZ</td>\n",
       "      <td>CLACLASS</td>\n",
       "    </tr>\n",
       "    <tr>\n",
       "      <th>7</th>\n",
       "      <td>AUDI TT</td>\n",
       "      <td>2018 2.0TDI 184HP S-Line</td>\n",
       "      <td>36950</td>\n",
       "      <td>77998</td>\n",
       "      <td>Diesel</td>\n",
       "      <td>Black</td>\n",
       "      <td>2.0</td>\n",
       "      <td>Manual</td>\n",
       "      <td>Coupe</td>\n",
       "      <td>1</td>\n",
       "      <td>...</td>\n",
       "      <td>-</td>\n",
       "      <td>Jun-2022</td>\n",
       "      <td>Lyons of Limerick</td>\n",
       "      <td>Ballysimon Road      Crabb's Land</td>\n",
       "      <td>061-439800</td>\n",
       "      <td>NaN</td>\n",
       "      <td>NaN</td>\n",
       "      <td>2018</td>\n",
       "      <td>AUDI</td>\n",
       "      <td>TT</td>\n",
       "    </tr>\n",
       "    <tr>\n",
       "      <th>...</th>\n",
       "      <td>...</td>\n",
       "      <td>...</td>\n",
       "      <td>...</td>\n",
       "      <td>...</td>\n",
       "      <td>...</td>\n",
       "      <td>...</td>\n",
       "      <td>...</td>\n",
       "      <td>...</td>\n",
       "      <td>...</td>\n",
       "      <td>...</td>\n",
       "      <td>...</td>\n",
       "      <td>...</td>\n",
       "      <td>...</td>\n",
       "      <td>...</td>\n",
       "      <td>...</td>\n",
       "      <td>...</td>\n",
       "      <td>...</td>\n",
       "      <td>...</td>\n",
       "      <td>...</td>\n",
       "      <td>...</td>\n",
       "      <td>...</td>\n",
       "    </tr>\n",
       "    <tr>\n",
       "      <th>860</th>\n",
       "      <td>AUDI A5</td>\n",
       "      <td>2020 40TDI 190HP S tronic SE €587 p/m PCP</td>\n",
       "      <td>46475</td>\n",
       "      <td>55912</td>\n",
       "      <td>Diesel</td>\n",
       "      <td>Black</td>\n",
       "      <td>2.0</td>\n",
       "      <td>Automatic</td>\n",
       "      <td>Hatchback</td>\n",
       "      <td>1</td>\n",
       "      <td>...</td>\n",
       "      <td>Jan-2023</td>\n",
       "      <td>Jan-2024</td>\n",
       "      <td>Audi Wexford</td>\n",
       "      <td>Crosstown      Wexford</td>\n",
       "      <td>053-9100010</td>\n",
       "      <td>Audi</td>\n",
       "      <td>www.audiwexford.ie</td>\n",
       "      <td>2020</td>\n",
       "      <td>AUDI</td>\n",
       "      <td>A5</td>\n",
       "    </tr>\n",
       "    <tr>\n",
       "      <th>862</th>\n",
       "      <td>HYUNDAI KONA</td>\n",
       "      <td>2020 * JUST ARRIVED * TINY MILEAGE KONA 1.0 T-...</td>\n",
       "      <td>22950</td>\n",
       "      <td>13657</td>\n",
       "      <td>Petrol</td>\n",
       "      <td>Red</td>\n",
       "      <td>1.0</td>\n",
       "      <td>Manual</td>\n",
       "      <td>MPV</td>\n",
       "      <td>1</td>\n",
       "      <td>...</td>\n",
       "      <td>Dec-2022</td>\n",
       "      <td>Jan-2024</td>\n",
       "      <td>McCoy Motors Ltd</td>\n",
       "      <td>Exit 4A      N4      Lucan</td>\n",
       "      <td>01-6241223</td>\n",
       "      <td>SEAT</td>\n",
       "      <td>www.mccoymotors.ie</td>\n",
       "      <td>2020</td>\n",
       "      <td>HYUNDAI</td>\n",
       "      <td>KONA</td>\n",
       "    </tr>\n",
       "    <tr>\n",
       "      <th>863</th>\n",
       "      <td>SKODA KAMIQ</td>\n",
       "      <td>2021 1.0TSI 115hp Style</td>\n",
       "      <td>23500</td>\n",
       "      <td>27529</td>\n",
       "      <td>Petrol</td>\n",
       "      <td>Black</td>\n",
       "      <td>1.0</td>\n",
       "      <td>Manual</td>\n",
       "      <td>Hatchback</td>\n",
       "      <td>1</td>\n",
       "      <td>...</td>\n",
       "      <td>Dec-2022</td>\n",
       "      <td>Jan-2025</td>\n",
       "      <td>Ballybrittas Motors</td>\n",
       "      <td>Ballybrittas      Portlaoise</td>\n",
       "      <td>057-8626479</td>\n",
       "      <td>Skoda</td>\n",
       "      <td>www.ballybrittasmotors.ie</td>\n",
       "      <td>2021</td>\n",
       "      <td>SKODA</td>\n",
       "      <td>KAMIQ</td>\n",
       "    </tr>\n",
       "    <tr>\n",
       "      <th>897</th>\n",
       "      <td>NISSAN JUKE</td>\n",
       "      <td>2013 1.6 XE</td>\n",
       "      <td>10995</td>\n",
       "      <td>110003</td>\n",
       "      <td>Petrol</td>\n",
       "      <td>White</td>\n",
       "      <td>1.6</td>\n",
       "      <td>Manual</td>\n",
       "      <td>Hatchback</td>\n",
       "      <td>1</td>\n",
       "      <td>...</td>\n",
       "      <td>Jan-2023</td>\n",
       "      <td>Mar-2023</td>\n",
       "      <td>Windsor Clonee Nissan &amp; Peugeot</td>\n",
       "      <td>Main Street      Clonee</td>\n",
       "      <td>01-5077354</td>\n",
       "      <td>NaN</td>\n",
       "      <td>NaN</td>\n",
       "      <td>2013</td>\n",
       "      <td>NISSAN</td>\n",
       "      <td>JUKE</td>\n",
       "    </tr>\n",
       "    <tr>\n",
       "      <th>898</th>\n",
       "      <td>HYUNDAI TUCSON</td>\n",
       "      <td>2022 2WD Comfort Plus - Demo -</td>\n",
       "      <td>37950</td>\n",
       "      <td>4500</td>\n",
       "      <td>Diesel</td>\n",
       "      <td>Silver</td>\n",
       "      <td>1.6</td>\n",
       "      <td>Manual</td>\n",
       "      <td>SUV</td>\n",
       "      <td>1</td>\n",
       "      <td>...</td>\n",
       "      <td>Dec-2022</td>\n",
       "      <td>Jul-2026</td>\n",
       "      <td>Fairview Motors</td>\n",
       "      <td>4-5 Merville Avenue      Fairview</td>\n",
       "      <td>01-8332241</td>\n",
       "      <td>Hyundai</td>\n",
       "      <td>www.fairviewmotors.ie</td>\n",
       "      <td>2022</td>\n",
       "      <td>HYUNDAI</td>\n",
       "      <td>TUCSON</td>\n",
       "    </tr>\n",
       "  </tbody>\n",
       "</table>\n",
       "<p>597 rows × 21 columns</p>\n",
       "</div>"
      ],
      "text/plain": [
       "                      Title:  \\\n",
       "0          VOLKSWAGEN PASSAT   \n",
       "1              OPEL INSIGNIA   \n",
       "3             SUZUKI CELERIO   \n",
       "6    MERCEDES-BENZ CLA CLASS   \n",
       "7                    AUDI TT   \n",
       "..                       ...   \n",
       "860                  AUDI A5   \n",
       "862             HYUNDAI KONA   \n",
       "863              SKODA KAMIQ   \n",
       "897              NISSAN JUKE   \n",
       "898           HYUNDAI TUCSON   \n",
       "\n",
       "                                          Description:  Price:  Odometer:  \\\n",
       "0        2012 2.0 TDI CC BLUEMOTION 138BHP 5 SEATS 4DR    8295     133600   \n",
       "1                        2010 S 2.0 CDTI 130PS ECO 5DR    3800     219000   \n",
       "3                         2017 CELERIO 1.0 Petrol  5DR    9950     119003   \n",
       "6                               2017 CLA 180 PET URBAN   24990      89520   \n",
       "7                             2018 2.0TDI 184HP S-Line   36950      77998   \n",
       "..                                                 ...     ...        ...   \n",
       "860          2020 40TDI 190HP S tronic SE €587 p/m PCP   46475      55912   \n",
       "862  2020 * JUST ARRIVED * TINY MILEAGE KONA 1.0 T-...   22950      13657   \n",
       "863                            2021 1.0TSI 115hp Style   23500      27529   \n",
       "897                                        2013 1.6 XE   10995     110003   \n",
       "898                     2022 2WD Comfort Plus - Demo -   37950       4500   \n",
       "\n",
       "    Fuel Type: Colour:  Engine Size: Transmission: Body Type: Owners:  ...  \\\n",
       "0       Diesel   Beige           2.0        Manual     Saloon       1  ...   \n",
       "1       Diesel   Beige           2.0        Manual     Saloon       5  ...   \n",
       "3       Petrol    Grey           1.0        Manual  Hatchback       1  ...   \n",
       "6       Petrol   Black           1.6        Manual     Saloon       1  ...   \n",
       "7       Diesel   Black           2.0        Manual      Coupe       1  ...   \n",
       "..         ...     ...           ...           ...        ...     ...  ...   \n",
       "860     Diesel   Black           2.0     Automatic  Hatchback       1  ...   \n",
       "862     Petrol     Red           1.0        Manual        MPV       1  ...   \n",
       "863     Petrol   Black           1.0        Manual  Hatchback       1  ...   \n",
       "897     Petrol   White           1.6        Manual  Hatchback       1  ...   \n",
       "898     Diesel  Silver           1.6        Manual        SUV       1  ...   \n",
       "\n",
       "    Tax Expiry: NCT Expiry:                          Dealer:  \\\n",
       "0      Apr-2023    Aug-2023                       0838704977   \n",
       "1      Jan-2023    Jan-2024                       0831274143   \n",
       "3      Dec-2022    Jul-2023          Barry Martin Motors Ltd   \n",
       "6      Dec-2022    Jan-2023         Kearys Carstore Limerick   \n",
       "7             -    Jun-2022                Lyons of Limerick   \n",
       "..          ...         ...                              ...   \n",
       "860    Jan-2023    Jan-2024                     Audi Wexford   \n",
       "862    Dec-2022    Jan-2024                 McCoy Motors Ltd   \n",
       "863    Dec-2022    Jan-2025              Ballybrittas Motors   \n",
       "897    Jan-2023    Mar-2023  Windsor Clonee Nissan & Peugeot   \n",
       "898    Dec-2022    Jul-2026                  Fairview Motors   \n",
       "\n",
       "                                              Address:       Phone:  \\\n",
       "0                                                  NaN          NaN   \n",
       "1                                                  NaN          NaN   \n",
       "3    Irishtown Filling Station      Ashe Road      ...  044-9339962   \n",
       "6    Unit 6B      Eastpoint Retail Park      Ballys...   061-326500   \n",
       "7                    Ballysimon Road      Crabb's Land   061-439800   \n",
       "..                                                 ...          ...   \n",
       "860                             Crosstown      Wexford  053-9100010   \n",
       "862                         Exit 4A      N4      Lucan   01-6241223   \n",
       "863                       Ballybrittas      Portlaoise  057-8626479   \n",
       "897                            Main Street      Clonee   01-5077354   \n",
       "898                  4-5 Merville Avenue      Fairview   01-8332241   \n",
       "\n",
       "    Franchise:                   Website: Year:  Manufacturer:    Model:  \n",
       "0          NaN                        NaN  2012     VOLKSWAGEN    PASSAT  \n",
       "1          NaN                        NaN  2010           OPEL  INSIGNIA  \n",
       "3          NaN                        NaN  2017         SUZUKI   CELERIO  \n",
       "6          NaN                        NaN  2017  MERCEDES-BENZ  CLACLASS  \n",
       "7          NaN                        NaN  2018           AUDI        TT  \n",
       "..         ...                        ...   ...            ...       ...  \n",
       "860       Audi         www.audiwexford.ie  2020           AUDI        A5  \n",
       "862       SEAT         www.mccoymotors.ie  2020        HYUNDAI      KONA  \n",
       "863      Skoda  www.ballybrittasmotors.ie  2021          SKODA     KAMIQ  \n",
       "897        NaN                        NaN  2013         NISSAN      JUKE  \n",
       "898    Hyundai      www.fairviewmotors.ie  2022        HYUNDAI    TUCSON  \n",
       "\n",
       "[597 rows x 21 columns]"
      ]
     },
     "execution_count": 30,
     "metadata": {},
     "output_type": "execute_result"
    }
   ],
   "source": [
    "filter(df.copy())"
   ]
  }
 ],
 "metadata": {
  "kernelspec": {
   "display_name": "Python 3.9.15 64-bit",
   "language": "python",
   "name": "python3"
  },
  "language_info": {
   "codemirror_mode": {
    "name": "ipython",
    "version": 3
   },
   "file_extension": ".py",
   "mimetype": "text/x-python",
   "name": "python",
   "nbconvert_exporter": "python",
   "pygments_lexer": "ipython3",
   "version": "3.9.15"
  },
  "orig_nbformat": 4,
  "vscode": {
   "interpreter": {
    "hash": "397704579725e15f5c7cb49fe5f0341eb7531c82d19f2c29d197e8b64ab5776b"
   }
  }
 },
 "nbformat": 4,
 "nbformat_minor": 2
}
